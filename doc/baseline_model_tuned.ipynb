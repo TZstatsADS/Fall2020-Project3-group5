{
 "cells": [
  {
   "cell_type": "markdown",
   "metadata": {},
   "source": [
    "## Read fiducial points and train-test split"
   ]
  },
  {
   "cell_type": "code",
   "execution_count": 1,
   "metadata": {},
   "outputs": [],
   "source": [
    "import scipy.io\n",
    "import os\n",
    "import numpy as np\n",
    "import pandas as pd\n",
    "import pickle\n",
    "\n",
    "def get_points(file):\n",
    "    '''load matlab style file'''\n",
    "    mat = scipy.io.loadmat(file)\n",
    "    return mat[list(mat.keys())[3]]\n",
    "\n",
    "def pickle_save(filename, content):\n",
    "    '''save the file into python pickle object under output folder'''\n",
    "    with open('../output/%s.pkl'%filename, 'wb') as f:\n",
    "        pickle.dump(content, f)\n",
    "        \n",
    "def pickle_open(filename):\n",
    "    '''load the pickle file'''\n",
    "    with open('../output/%s.pkl'%filename, 'rb') as f:\n",
    "        content = pickle.load(f)\n",
    "    return content\n",
    "    "
   ]
  },
  {
   "cell_type": "code",
   "execution_count": 2,
   "metadata": {},
   "outputs": [
    {
     "name": "stderr",
     "output_type": "stream",
     "text": [
      "/opt/anaconda3/lib/python3.7/site-packages/IPython/core/interactiveshell.py:3254: FutureWarning: arrays to stack must be passed as a \"sequence\" type such as list or tuple. Support for non-sequence iterables such as generators is deprecated as of NumPy 1.16 and will raise an error in the future.\n",
      "  if (await self.run_code(code, result,  async_=asy)):\n"
     ]
    }
   ],
   "source": [
    "dir_list = os.listdir('../../train_set/points')\n",
    "dir_list.sort()\n",
    "\n",
    "fiducial_pt_full = np.stack((get_points('../../train_set/points/'+filename) for filename in dir_list))\n",
    "label_full = pd.read_csv('../../train_set/label.csv')['label']\n",
    "\n",
    "# save the data into pickle files, so that we don't need to read raw data everytime\n",
    "pickle_save('fiducial_pt_full', fiducial_pt_full)\n",
    "pickle_save('label_full', label_full)"
   ]
  },
  {
   "cell_type": "markdown",
   "metadata": {},
   "source": [
    "### Train-test split"
   ]
  },
  {
   "cell_type": "code",
   "execution_count": 68,
   "metadata": {},
   "outputs": [],
   "source": [
    "from sklearn.model_selection import train_test_split\n",
    "\n",
    "# load data from pickle oject\n",
    "fiducial_pt_full = pickle_open('fiducial_pt_full')\n",
    "label_full = pickle_open('label_full')\n",
    "\n",
    "## Note: randomly split into training & test set\n",
    "X_train, X_test, y_train, y_test = train_test_split(fiducial_pt_full, label_full, test_size=0.2, random_state=42)"
   ]
  },
  {
   "cell_type": "markdown",
   "metadata": {},
   "source": [
    "## Construct features and reponses"
   ]
  },
  {
   "cell_type": "markdown",
   "metadata": {},
   "source": [
    "We use pairwise distances as features."
   ]
  },
  {
   "cell_type": "code",
   "execution_count": null,
   "metadata": {},
   "outputs": [],
   "source": [
    "from sklearn.metrics import pairwise_distances\n",
    "import time\n",
    "import warnings\n",
    "warnings.filterwarnings('ignore')\n",
    "\n",
    "# extract pairwise distance as features (78*77/2=3003 features)\n",
    "# nrow=number of records of the dataset; ncol=3003\n",
    "start_time = time.time()\n",
    "feature_train = np.stack((pairwise_distances(X_train[i])[np.triu_indices(78, k = 1)] for i in range(X_train.shape[0])))\n",
    "print('Baseline training feature extraction takes %s seconds.'%round((time.time()-start_time),3))\n",
    "\n",
    "start_time = time.time()\n",
    "feature_test = np.stack((pairwise_distances(X_test[i])[np.triu_indices(78, k = 1)] for i in range(X_test.shape[0])))\n",
    "print('Baseline training feature extraction takes %s seconds.'%round((time.time()-start_time),3))\n"
   ]
  },
  {
   "cell_type": "markdown",
   "metadata": {},
   "source": [
    "## Train classification model with training features and responses"
   ]
  },
  {
   "cell_type": "code",
   "execution_count": 79,
   "metadata": {},
   "outputs": [],
   "source": [
    "from sklearn.ensemble import GradientBoostingClassifier\n",
    "from sklearn.metrics import precision_score, recall_score, roc_auc_score, accuracy_score\n",
    "import time\n",
    "\n",
    "def clf_metrics(y_true, y_pred, y_score):\n",
    "    accuracy = accuracy_score(y_true, y_pred)\n",
    "    \n",
    "    # reweight dataset in order to estimate the accuracy of \"balanced\" data set\n",
    "    weight_data = np.zeros(len(y_true))\n",
    "    for v in np.unique(y_true):\n",
    "        weight_data[y_true==v] = 0.5*len(y_true)/np.sum(y_true==v)\n",
    "    weighted_acc = np.sum(weight_data * (y_pred==y_true)/np.sum(weight_data))\n",
    "    \n",
    "    precision = precision_score(y_true, y_pred)\n",
    "    recall = recall_score(y_true, y_pred)\n",
    "    auc = roc_auc_score(y_true, y_score, average='weighted')\n",
    "    \n",
    "    df = pd.DataFrame({'accuracy':[accuracy],'weighted acc':[weighted_acc],\n",
    "                       'precision': [precision], 'recall': [recall], 'auc':[auc]})\n",
    "    print(df)"
   ]
  },
  {
   "cell_type": "code",
   "execution_count": 174,
   "metadata": {},
   "outputs": [
    {
     "name": "stdout",
     "output_type": "stream",
     "text": [
      "Training time cost 3.62 s\n"
     ]
    }
   ],
   "source": [
    "weights = np.zeros(len(y_train))\n",
    "weights[y_train == 0] = 0.5\n",
    "weights[y_train == 1] = 2\n",
    "\n",
    "baseline = GradientBoostingClassifier(learning_rate=0.1, n_estimators=100,\n",
    "                                      max_depth=5, min_samples_split=5, min_samples_leaf=2, \n",
    "                                      subsample=0.8,max_features='sqrt', random_state=23,\n",
    "                                      n_iter_no_change=40, ccp_alpha=0.001\n",
    "                                     )\n",
    "start = time.time()\n",
    "baseline.fit(feature_train, y_train, sample_weight = weights)\n",
    "print('Training time cost {:.2f} s'.format(time.time()-start))"
   ]
  },
  {
   "cell_type": "code",
   "execution_count": 175,
   "metadata": {},
   "outputs": [
    {
     "name": "stdout",
     "output_type": "stream",
     "text": [
      "Training set:\n",
      "   accuracy  weighted acc  precision    recall      auc\n",
      "0  0.935833      0.932883   0.778793  0.928105  0.98124\n",
      "\n",
      "\n",
      "Test set:\n",
      "   accuracy  weighted acc  precision   recall       auc\n",
      "0     0.795      0.700768   0.561538  0.52518  0.799638\n",
      "\n",
      "\n"
     ]
    }
   ],
   "source": [
    "pred_train = baseline.predict(feature_train)\n",
    "score_train = baseline.decision_function(feature_train)\n",
    "print('Training set:')\n",
    "clf_metrics(y_train, pred_train, score_train)\n",
    "print('\\n')\n",
    "\n",
    "pred_test = baseline.predict(feature_test)\n",
    "score_test = baseline.decision_function(feature_test)\n",
    "print('Test set:')\n",
    "clf_metrics(y_test, pred_test, score_test)\n",
    "print('\\n')"
   ]
  },
  {
   "cell_type": "code",
   "execution_count": 176,
   "metadata": {},
   "outputs": [
    {
     "data": {
      "text/plain": [
       "{'ccp_alpha': 0.001,\n",
       " 'criterion': 'friedman_mse',\n",
       " 'init': None,\n",
       " 'learning_rate': 0.1,\n",
       " 'loss': 'deviance',\n",
       " 'max_depth': 5,\n",
       " 'max_features': 'sqrt',\n",
       " 'max_leaf_nodes': None,\n",
       " 'min_impurity_decrease': 0.0,\n",
       " 'min_impurity_split': None,\n",
       " 'min_samples_leaf': 2,\n",
       " 'min_samples_split': 5,\n",
       " 'min_weight_fraction_leaf': 0.0,\n",
       " 'n_estimators': 100,\n",
       " 'n_iter_no_change': 40,\n",
       " 'presort': 'deprecated',\n",
       " 'random_state': 23,\n",
       " 'subsample': 0.8,\n",
       " 'tol': 0.0001,\n",
       " 'validation_fraction': 0.1,\n",
       " 'verbose': 0,\n",
       " 'warm_start': False}"
      ]
     },
     "execution_count": 176,
     "metadata": {},
     "output_type": "execute_result"
    }
   ],
   "source": [
    "baseline.get_params()"
   ]
  },
  {
   "cell_type": "markdown",
   "metadata": {},
   "source": [
    "### Parameter tuning\n",
    "\n",
    "### 1. max_depth and min_samples_split"
   ]
  },
  {
   "cell_type": "code",
   "execution_count": 96,
   "metadata": {},
   "outputs": [
    {
     "name": "stdout",
     "output_type": "stream",
     "text": [
      "Tuning time cost 34.40 s\n"
     ]
    }
   ],
   "source": [
    "from sklearn.model_selection import GridSearchCV\n",
    "\n",
    "param_1 = {'max_depth':range(3,8,2)}\n",
    "\n",
    "tuning1 = GridSearchCV(estimator = GradientBoostingClassifier(learning_rate=0.1, n_estimators=150, \n",
    "                                                              max_features='sqrt', subsample=0.8, random_state=299), \n",
    "\n",
    "                       param_grid = param_1, scoring='roc_auc',n_jobs=-1,cv=5)\n",
    "\n",
    "time_start_gs1 = time.time()\n",
    "tuning1.fit(resampled_features,resampled_labels)\n",
    "time_end_gs1 = time.time()\n",
    "print('Tuning time cost {:.2f} s'.format(time_end_gs1-time_start_gs1))"
   ]
  },
  {
   "cell_type": "code",
   "execution_count": 97,
   "metadata": {},
   "outputs": [
    {
     "name": "stdout",
     "output_type": "stream",
     "text": [
      "Best: 0.495842 using {'max_depth': 5}\n",
      "0.488701 (0.008073) with: {'max_depth': 3}\n",
      "0.495842 (0.014953) with: {'max_depth': 5}\n",
      "0.491355 (0.015314) with: {'max_depth': 7}\n"
     ]
    }
   ],
   "source": [
    "# report the best configuration\n",
    "print(\"Best: %f using %s\" % (tuning1.best_score_, tuning1.best_params_))\n",
    "\n",
    "# report all configurations\n",
    "means = tuning1.cv_results_['mean_test_score']\n",
    "stds = tuning1.cv_results_['std_test_score']\n",
    "params = tuning1.cv_results_['params']\n",
    "for mean, stdev, param in zip(means, stds, params):\n",
    "    print(\"%f (%f) with: %r\" % (mean, stdev, param))"
   ]
  },
  {
   "cell_type": "markdown",
   "metadata": {},
   "source": [
    "### 2. learning_rate and n_estimators"
   ]
  },
  {
   "cell_type": "code",
   "execution_count": 98,
   "metadata": {},
   "outputs": [
    {
     "name": "stdout",
     "output_type": "stream",
     "text": [
      "Tuning time cost 165.41 s\n"
     ]
    }
   ],
   "source": [
    "param_2 = {'learning_rate':[0.1,0.05], 'n_estimators':[100,250,400,500]}\n",
    "\n",
    "tuning2 = GridSearchCV(estimator = GradientBoostingClassifier(learning_rate=0.1, n_estimators=150, max_depth=5,\n",
    "                                                              max_features='sqrt', subsample=0.8, random_state=299), \n",
    "                       param_grid = param_2, scoring='roc_auc',n_jobs=-1,cv=5)\n",
    "\n",
    "time_start_gs2 = time.time()\n",
    "tuning2.fit(resampled_features,resampled_labels)\n",
    "time_end_gs2 = time.time()\n",
    "print('Tuning time cost {:.2f} s'.format(time_end_gs2-time_start_gs2))"
   ]
  },
  {
   "cell_type": "code",
   "execution_count": 99,
   "metadata": {},
   "outputs": [
    {
     "name": "stdout",
     "output_type": "stream",
     "text": [
      "Best: 0.498413 using {'learning_rate': 0.1, 'n_estimators': 100}\n",
      "0.498413 (0.012143) with: {'learning_rate': 0.1, 'n_estimators': 100}\n",
      "0.494025 (0.012488) with: {'learning_rate': 0.1, 'n_estimators': 250}\n",
      "0.493519 (0.012002) with: {'learning_rate': 0.1, 'n_estimators': 400}\n",
      "0.494142 (0.013354) with: {'learning_rate': 0.1, 'n_estimators': 500}\n",
      "0.486358 (0.017822) with: {'learning_rate': 0.05, 'n_estimators': 100}\n",
      "0.489285 (0.018508) with: {'learning_rate': 0.05, 'n_estimators': 250}\n",
      "0.492288 (0.018314) with: {'learning_rate': 0.05, 'n_estimators': 400}\n",
      "0.494642 (0.019314) with: {'learning_rate': 0.05, 'n_estimators': 500}\n"
     ]
    }
   ],
   "source": [
    "# report the best configuration\n",
    "print(\"Best: %f using %s\" % (tuning2.best_score_, tuning2.best_params_))\n",
    "\n",
    "# report all configurations\n",
    "means = tuning2.cv_results_['mean_test_score']\n",
    "stds = tuning2.cv_results_['std_test_score']\n",
    "params = tuning2.cv_results_['params']\n",
    "for mean, stdev, param in zip(means, stds, params):\n",
    "    print(\"%f (%f) with: %r\" % (mean, stdev, param))"
   ]
  },
  {
   "cell_type": "code",
   "execution_count": 100,
   "metadata": {},
   "outputs": [],
   "source": [
    "best = tuning2.best_estimator_"
   ]
  },
  {
   "cell_type": "code",
   "execution_count": 101,
   "metadata": {},
   "outputs": [
    {
     "name": "stdout",
     "output_type": "stream",
     "text": [
      "Training set:\n",
      "   accuracy  weighted acc  precision    recall       auc\n",
      "0  0.834621      0.834621   0.834277  0.835137  0.906406\n",
      "\n",
      "\n",
      "Test set:\n",
      "   accuracy  weighted acc  precision    recall       auc\n",
      "0  0.508333      0.484067   0.219424  0.438849  0.494062\n",
      "\n",
      "\n"
     ]
    }
   ],
   "source": [
    "pred_train = best.predict(resampled_features)\n",
    "score_train = best.decision_function(resampled_features)\n",
    "print('Training set:')\n",
    "clf_metrics(resampled_labels, pred_train, score_train)\n",
    "print('\\n')\n",
    "\n",
    "pred_test = best.predict(feature_test)\n",
    "score_test = best.decision_function(feature_test)\n",
    "print('Test set:')\n",
    "clf_metrics(y_test, pred_test, score_test)\n",
    "print('\\n')"
   ]
  },
  {
   "cell_type": "markdown",
   "metadata": {},
   "source": [
    "### Tune weights"
   ]
  },
  {
   "cell_type": "code",
   "execution_count": 47,
   "metadata": {},
   "outputs": [],
   "source": [
    "weights1 = np.zeros(len(y_train))\n",
    "weights1[y_train == 0] = 1\n",
    "weights1[y_train == 1] = 20\n",
    "\n",
    "weights2 = np.zeros(len(y_train))\n",
    "weights2[y_train == 0] = 1\n",
    "weights2[y_train == 1] = 10\n",
    "\n",
    "weights3 = np.zeros(len(y_train))\n",
    "weights3[y_train == 0] = 1\n",
    "weights3[y_train == 1] = 30\n",
    "\n",
    "weights4 = np.zeros(len(y_train))\n",
    "weights4[y_train == 0] = 1\n",
    "weights4[y_train == 1] = 40"
   ]
  },
  {
   "cell_type": "code",
   "execution_count": 48,
   "metadata": {},
   "outputs": [
    {
     "name": "stdout",
     "output_type": "stream",
     "text": [
      "Training time cost 6.40 s\n"
     ]
    }
   ],
   "source": [
    "tuning3 = GradientBoostingClassifier(learning_rate=0.1, n_estimators=150,\n",
    "                                      max_depth=4, min_samples_split=2, min_samples_leaf=1, \n",
    "                                      subsample=1,max_features='sqrt', random_state=299)\n",
    "start = time.time()\n",
    "tuning3.fit(feature_train, y_train, sample_weight = weights2)\n",
    "print('Training time cost {:.2f} s'.format(time.time()-start))"
   ]
  },
  {
   "cell_type": "code",
   "execution_count": 49,
   "metadata": {},
   "outputs": [
    {
     "name": "stdout",
     "output_type": "stream",
     "text": [
      "Training set:\n",
      "   accuracy  weighted acc  precision  recall       auc\n",
      "0  0.974167      0.984029   0.880998     1.0  0.999893\n",
      "\n",
      "\n",
      "Test set:\n",
      "   accuracy  weighted acc  precision    recall       auc\n",
      "0  0.761667      0.699176   0.487952  0.582734  0.803337\n",
      "\n",
      "\n"
     ]
    }
   ],
   "source": [
    "pred_train = tuning3.predict(feature_train)\n",
    "score_train = tuning3.decision_function(feature_train)\n",
    "print('Training set:')\n",
    "clf_metrics(y_train, pred_train, score_train)\n",
    "print('\\n')\n",
    "\n",
    "pred_test = tuning3.predict(feature_test)\n",
    "score_test = tuning3.decision_function(feature_test)\n",
    "print('Test set:')\n",
    "clf_metrics(y_test, pred_test, score_test)\n",
    "print('\\n')"
   ]
  },
  {
   "cell_type": "code",
   "execution_count": 50,
   "metadata": {},
   "outputs": [
    {
     "name": "stdout",
     "output_type": "stream",
     "text": [
      "Training time cost 6.58 s\n"
     ]
    }
   ],
   "source": [
    "tuning4 = GradientBoostingClassifier(learning_rate=0.1, n_estimators=150,\n",
    "                                      max_depth=4, min_samples_split=2, min_samples_leaf=1, \n",
    "                                      subsample=1,max_features='sqrt', random_state=299)\n",
    "start = time.time()\n",
    "tuning4.fit(feature_train, y_train, sample_weight = weights3)\n",
    "print('Training time cost {:.2f} s'.format(time.time()-start))"
   ]
  },
  {
   "cell_type": "code",
   "execution_count": 51,
   "metadata": {},
   "outputs": [
    {
     "name": "stdout",
     "output_type": "stream",
     "text": [
      "Training set:\n",
      "   accuracy  weighted acc  precision  recall       auc\n",
      "0  0.831667       0.89593   0.531866     1.0  0.999062\n",
      "\n",
      "\n",
      "Test set:\n",
      "   accuracy  weighted acc  precision    recall       auc\n",
      "0  0.668333      0.681151   0.382812  0.705036  0.762606\n",
      "\n",
      "\n"
     ]
    }
   ],
   "source": [
    "pred_train = tuning4.predict(feature_train)\n",
    "score_train = tuning4.decision_function(feature_train)\n",
    "print('Training set:')\n",
    "clf_metrics(y_train, pred_train, score_train)\n",
    "print('\\n')\n",
    "\n",
    "pred_test = tuning4.predict(feature_test)\n",
    "score_test = tuning4.decision_function(feature_test)\n",
    "print('Test set:')\n",
    "clf_metrics(y_test, pred_test, score_test)\n",
    "print('\\n')"
   ]
  },
  {
   "cell_type": "code",
   "execution_count": 52,
   "metadata": {},
   "outputs": [
    {
     "name": "stdout",
     "output_type": "stream",
     "text": [
      "Training time cost 6.63 s\n"
     ]
    }
   ],
   "source": [
    "tuning5 = GradientBoostingClassifier(learning_rate=0.1, n_estimators=150,\n",
    "                                      max_depth=4, min_samples_split=2, min_samples_leaf=1, \n",
    "                                      subsample=1,max_features='sqrt', random_state=299)\n",
    "start = time.time()\n",
    "tuning5.fit(feature_train, y_train, sample_weight = weights4)\n",
    "print('Training time cost {:.2f} s'.format(time.time()-start))"
   ]
  },
  {
   "cell_type": "code",
   "execution_count": 53,
   "metadata": {},
   "outputs": [
    {
     "name": "stdout",
     "output_type": "stream",
     "text": [
      "Training set:\n",
      "   accuracy  weighted acc  precision  recall      auc\n",
      "0  0.784167      0.866564   0.469806     1.0  0.99769\n",
      "\n",
      "\n",
      "Test set:\n",
      "   accuracy  weighted acc  precision   recall       auc\n",
      "0  0.616667      0.667629   0.349835  0.76259  0.731706\n",
      "\n",
      "\n"
     ]
    }
   ],
   "source": [
    "pred_train = tuning5.predict(feature_train)\n",
    "score_train = tuning5.decision_function(feature_train)\n",
    "print('Training set:')\n",
    "clf_metrics(y_train, pred_train, score_train)\n",
    "print('\\n')\n",
    "\n",
    "pred_test = tuning5.predict(feature_test)\n",
    "score_test = tuning5.decision_function(feature_test)\n",
    "print('Test set:')\n",
    "clf_metrics(y_test, pred_test, score_test)\n",
    "print('\\n')"
   ]
  },
  {
   "cell_type": "markdown",
   "metadata": {},
   "source": [
    "### After tuning, we would choose learning_rate=0.1, n_estimators=150, max_depth=4, min_samples_split=2, min_samples_leaf=1, subsample=1,max_features='sqrt', random_state=299, and fit the model with sample_weights ratio of 10.\n",
    "\n",
    "### Save the model to pickle object:"
   ]
  },
  {
   "cell_type": "code",
   "execution_count": 64,
   "metadata": {},
   "outputs": [
    {
     "name": "stdout",
     "output_type": "stream",
     "text": [
      "Training time cost 4.94 s\n"
     ]
    }
   ],
   "source": [
    "weights2 = np.zeros(len(y_train))\n",
    "weights2[y_train == 0] = 1\n",
    "weights2[y_train == 1] = 10\n",
    "\n",
    "gbt_baseline = GradientBoostingClassifier(learning_rate=0.1, n_estimators=150,\n",
    "                                      max_depth=4, min_samples_split=2, min_samples_leaf=1, \n",
    "                                      subsample=0.8,max_features='sqrt', random_state=299)\n",
    "start = time.time()\n",
    "gbt_baseline.fit(feature_train, y_train, sample_weight = weights2)\n",
    "print('Training time cost {:.2f} s'.format(time.time()-start))"
   ]
  },
  {
   "cell_type": "code",
   "execution_count": 65,
   "metadata": {},
   "outputs": [],
   "source": [
    "# store the trained model\n",
    "pickle_save('gbt_baseline', gbt_baseline)"
   ]
  },
  {
   "cell_type": "code",
   "execution_count": 102,
   "metadata": {},
   "outputs": [],
   "source": [
    "# load the trained model from file\n",
    "gbt_baseline = pickle_open('gbt_baseline')"
   ]
  },
  {
   "cell_type": "code",
   "execution_count": 103,
   "metadata": {},
   "outputs": [
    {
     "name": "stdout",
     "output_type": "stream",
     "text": [
      "Training set:\n",
      "   accuracy  weighted acc  precision  recall       auc\n",
      "0   0.96625      0.979134       0.85     1.0  0.999912\n",
      "\n",
      "\n",
      "Test set:\n",
      "   accuracy  weighted acc  precision   recall       auc\n",
      "0  0.788333      0.714017   0.540541  0.57554  0.796735\n",
      "\n",
      "\n"
     ]
    }
   ],
   "source": [
    "# Gradient boosting baseline model performance\n",
    "pred_train = gbt_baseline.predict(feature_train)\n",
    "score_train = gbt_baseline.decision_function(feature_train)\n",
    "print('Training set:')\n",
    "clf_metrics(y_train, pred_train, score_train)\n",
    "print('\\n')\n",
    "\n",
    "pred_test = gbt_baseline.predict(feature_test)\n",
    "score_test = gbt_baseline.decision_function(feature_test)\n",
    "print('Test set:')\n",
    "clf_metrics(y_test, pred_test, score_test)\n",
    "print('\\n')"
   ]
  },
  {
   "cell_type": "code",
   "execution_count": null,
   "metadata": {},
   "outputs": [],
   "source": []
  }
 ],
 "metadata": {
  "kernelspec": {
   "display_name": "Python 3",
   "language": "python",
   "name": "python3"
  },
  "language_info": {
   "codemirror_mode": {
    "name": "ipython",
    "version": 3
   },
   "file_extension": ".py",
   "mimetype": "text/x-python",
   "name": "python",
   "nbconvert_exporter": "python",
   "pygments_lexer": "ipython3",
   "version": "3.7.6"
  }
 },
 "nbformat": 4,
 "nbformat_minor": 4
}
