{
 "cells": [
  {
   "cell_type": "markdown",
   "metadata": {},
   "source": [
    "## Step 1: set up controls for evaluation experiments"
   ]
  },
  {
   "cell_type": "markdown",
   "metadata": {},
   "source": [
    "* (T/F) cross-validation on the training set\n",
    "* (T/F) reweighting the samples for training set\n",
    "* $K$, the number of CV folds\n",
    "* (T/F) process features for training set\n",
    "* (T/F) run evaluation on an independent test set\n",
    "* (T/F) process features for test set"
   ]
  },
  {
   "cell_type": "markdown",
   "metadata": {},
   "source": [
    "## Step 2: load data and train-test split"
   ]
  },
  {
   "cell_type": "code",
   "execution_count": 1,
   "metadata": {},
   "outputs": [],
   "source": [
    "import scipy.io\n",
    "import os\n",
    "import numpy as np\n",
    "import pandas as pd\n",
    "import pickle\n",
    "\n",
    "def get_points(file):\n",
    "    '''load matlab style file'''\n",
    "    mat = scipy.io.loadmat(file)\n",
    "    return mat[list(mat.keys())[3]]\n",
    "\n",
    "def pickle_save(filename, content):\n",
    "    '''save the file into python pickle object under output folder'''\n",
    "    with open('../output/%s.pkl'%filename, 'wb') as f:\n",
    "        pickle.dump(content, f)\n",
    "        \n",
    "def pickle_open(filename):\n",
    "    '''load the pickle file'''\n",
    "    with open('../output/%s.pkl'%filename, 'rb') as f:\n",
    "        content = pickle.load(f)\n",
    "    return content\n",
    "    "
   ]
  },
  {
   "cell_type": "code",
   "execution_count": 18,
   "metadata": {},
   "outputs": [],
   "source": [
    "dir_list = os.listdir('../../train_set/points')\n",
    "dir_list.sort()\n",
    "\n",
    "fiducial_pt_full = np.stack((get_points('../../train_set/points/'+filename) for filename in dir_list))\n",
    "label_full = pd.read_csv('../../train_set/label.csv')['label']\n",
    "\n",
    "# save the data into pickle files, so that we don't need to read raw data everytime\n",
    "pickle_save('fiducial_pt_full', fiducial_pt_full)\n",
    "pickle_save('label_full', label_full)\n"
   ]
  },
  {
   "cell_type": "markdown",
   "metadata": {},
   "source": [
    "### Train-test split"
   ]
  },
  {
   "cell_type": "code",
   "execution_count": 2,
   "metadata": {},
   "outputs": [],
   "source": [
    "from sklearn.model_selection import train_test_split\n",
    "\n",
    "# load data from pickle oject\n",
    "fiducial_pt_full = pickle_open('fiducial_pt_full')\n",
    "label_full = pickle_open('label_full')\n",
    "\n",
    "## Note: randomly split into training & test set\n",
    "X_train, X_test, y_train, y_test = train_test_split(fiducial_pt_full, label_full, test_size=0.2, random_state=42)\n"
   ]
  },
  {
   "cell_type": "markdown",
   "metadata": {},
   "source": [
    "## Step 3: construct features and reponses"
   ]
  },
  {
   "cell_type": "markdown",
   "metadata": {},
   "source": [
    "Here, use pairwise distances as features."
   ]
  },
  {
   "cell_type": "code",
   "execution_count": 6,
   "metadata": {},
   "outputs": [
    {
     "name": "stderr",
     "output_type": "stream",
     "text": [
      "/opt/anaconda3/lib/python3.7/site-packages/IPython/core/interactiveshell.py:3254: FutureWarning: arrays to stack must be passed as a \"sequence\" type such as list or tuple. Support for non-sequence iterables such as generators is deprecated as of NumPy 1.16 and will raise an error in the future.\n",
      "  if (await self.run_code(code, result,  async_=asy)):\n",
      "/opt/anaconda3/lib/python3.7/site-packages/IPython/core/interactiveshell.py:3254: FutureWarning: arrays to stack must be passed as a \"sequence\" type such as list or tuple. Support for non-sequence iterables such as generators is deprecated as of NumPy 1.16 and will raise an error in the future.\n",
      "  if (await self.run_code(code, result,  async_=asy)):\n"
     ]
    }
   ],
   "source": [
    "from sklearn.metrics import pairwise_distances\n",
    "\n",
    "# extract pairwise distance as features (78*77/2=3003 features)\n",
    "# nrow=number of records of the dataset; ncol=3003\n",
    "feature_train = np.stack((pairwise_distances(X_train[i])[np.triu_indices(78, k = 1)] for i in range(X_train.shape[0])))\n",
    "feature_test = np.stack((pairwise_distances(X_test[i])[np.triu_indices(78, k = 1)] for i in range(X_test.shape[0])))\n",
    "\n",
    "### Not sure how to deal with the warning. Distances are calculated normally though"
   ]
  },
  {
   "cell_type": "code",
   "execution_count": 15,
   "metadata": {},
   "outputs": [],
   "source": [
    "# balanced test dataset\n",
    "emotion_1 = y_test[y_test == 1]\n",
    "emotion_0 = y_test[y_test== 0]\n",
    "feature_1 = feature_test[y_test==1]\n",
    "feature_0 = feature_test[y_test==0]\n",
    "bal_feature = np.concatenate((feature_1[0:130],feature_0[0:130]),axis=0)\n",
    "bal_y = np.concatenate((emotion_1[0:130],emotion_0[0:130]),axis=0)"
   ]
  },
  {
   "cell_type": "markdown",
   "metadata": {},
   "source": [
    "## Step 4: train classification model with training features and responses"
   ]
  },
  {
   "cell_type": "code",
   "execution_count": 11,
   "metadata": {},
   "outputs": [],
   "source": [
    "from sklearn.ensemble import GradientBoostingClassifier\n",
    "from sklearn.metrics import precision_score, recall_score, roc_auc_score, accuracy_score\n",
    "import time\n",
    "\n",
    "def clf_metrics(y_true, y_pred, y_score):\n",
    "    accuracy = accuracy_score(y_true, y_pred)\n",
    "    precision = precision_score(y_true, y_pred)\n",
    "    recall = recall_score(y_true, y_pred)\n",
    "    auc = roc_auc_score(y_true, y_score)\n",
    "    \n",
    "    df = pd.DataFrame({'accuracy':[accuracy],'precision': [precision], 'recall': [recall], 'auc':[auc]})\n",
    "    print(df)"
   ]
  },
  {
   "cell_type": "code",
   "execution_count": 16,
   "metadata": {},
   "outputs": [
    {
     "name": "stdout",
     "output_type": "stream",
     "text": [
      "Training time cost 6.70 s\n"
     ]
    }
   ],
   "source": [
    "weights = np.zeros(len(y_train))\n",
    "weights[y_train == 0] = 0.5\n",
    "weights[y_train == 1] = 10\n",
    "\n",
    "baseline = GradientBoostingClassifier(learning_rate=0.1, n_estimators=150,\n",
    "                                      max_depth=4, min_samples_split=2, min_samples_leaf=1, \n",
    "                                      subsample=1,max_features='sqrt', random_state=299)\n",
    "start = time.time()\n",
    "baseline.fit(feature_train, y_train, sample_weight = weights)\n",
    "print('Training time cost {:.2f} s'.format(time.time()-start))"
   ]
  },
  {
   "cell_type": "code",
   "execution_count": 17,
   "metadata": {},
   "outputs": [
    {
     "name": "stdout",
     "output_type": "stream",
     "text": [
      "Training set:\n",
      "   accuracy  precision  recall      auc\n",
      "0   0.89625   0.648305     1.0  0.99968\n",
      "\n",
      "\n",
      "Test set:\n",
      "   accuracy  precision    recall       auc\n",
      "0  0.708333   0.417431  0.654676  0.777821\n",
      "\n",
      "\n",
      "Balanced test set:\n",
      "   accuracy  precision    recall       auc\n",
      "0  0.723077       0.75  0.669231  0.814438\n"
     ]
    }
   ],
   "source": [
    "pred_train = baseline.predict(feature_train)\n",
    "score_train = baseline.decision_function(feature_train)\n",
    "print('Training set:')\n",
    "clf_metrics(y_train, pred_train, score_train)\n",
    "print('\\n')\n",
    "\n",
    "pred_test = baseline.predict(feature_test)\n",
    "score_test = baseline.decision_function(feature_test)\n",
    "print('Test set:')\n",
    "clf_metrics(y_test, pred_test, score_test)\n",
    "print('\\n')\n",
    "\n",
    "pred_test = baseline.predict(bal_feature)\n",
    "score_test = baseline.decision_function(bal_feature)\n",
    "print('Balanced test set:')\n",
    "clf_metrics(bal_y, pred_test, score_test)"
   ]
  },
  {
   "cell_type": "markdown",
   "metadata": {},
   "source": [
    "### Parameter tuning\n",
    "\n",
    "### 1. max_depth and min_samples_split"
   ]
  },
  {
   "cell_type": "code",
   "execution_count": 20,
   "metadata": {},
   "outputs": [
    {
     "name": "stdout",
     "output_type": "stream",
     "text": [
      "Tuning time cost 34.90 s\n"
     ]
    }
   ],
   "source": [
    "from sklearn.model_selection import GridSearchCV\n",
    "\n",
    "param_1 = {'max_depth':range(3,8,2)}\n",
    "\n",
    "tuning1 = GridSearchCV(estimator = GradientBoostingClassifier(learning_rate=0.1, n_estimators=150, \n",
    "                                                              max_features='sqrt', subsample=1, random_state=299), \n",
    "\n",
    "                       param_grid = param_1, scoring='roc_auc',n_jobs=-1,cv=5)\n",
    "\n",
    "time_start_gs1 = time.time()\n",
    "tuning1.fit(feature_train,y_train, sample_weight = weights)\n",
    "time_end_gs1 = time.time()\n",
    "print('Tuning time cost {:.2f} s'.format(time_end_gs1-time_start_gs1))"
   ]
  },
  {
   "cell_type": "code",
   "execution_count": 21,
   "metadata": {},
   "outputs": [
    {
     "name": "stdout",
     "output_type": "stream",
     "text": [
      "Best: 0.786853 using {'max_depth': 7}\n",
      "0.763632 (0.013567) with: {'max_depth': 3}\n",
      "0.762907 (0.022038) with: {'max_depth': 5}\n",
      "0.786853 (0.010769) with: {'max_depth': 7}\n"
     ]
    }
   ],
   "source": [
    "# report the best configuration\n",
    "print(\"Best: %f using %s\" % (tuning1.best_score_, tuning1.best_params_))\n",
    "\n",
    "# report all configurations\n",
    "means = tuning1.cv_results_['mean_test_score']\n",
    "stds = tuning1.cv_results_['std_test_score']\n",
    "params = tuning1.cv_results_['params']\n",
    "for mean, stdev, param in zip(means, stds, params):\n",
    "    print(\"%f (%f) with: %r\" % (mean, stdev, param))"
   ]
  },
  {
   "cell_type": "markdown",
   "metadata": {},
   "source": [
    "### 2. learning_rate and n_estimators"
   ]
  },
  {
   "cell_type": "code",
   "execution_count": 23,
   "metadata": {},
   "outputs": [
    {
     "name": "stdout",
     "output_type": "stream",
     "text": [
      "Tuning time cost 205.26 s\n"
     ]
    }
   ],
   "source": [
    "param_2 = {'learning_rate':[0.1,0.05], 'n_estimators':[100,250,400,500]}\n",
    "\n",
    "tuning2 = GridSearchCV(estimator = GradientBoostingClassifier(learning_rate=0.1, n_estimators=150, max_depth=7,\n",
    "                                                              max_features='sqrt', subsample=1, random_state=299), \n",
    "                       param_grid = param_2, scoring='roc_auc',n_jobs=-1,cv=5)\n",
    "\n",
    "time_start_gs2 = time.time()\n",
    "tuning2.fit(feature_train,y_train, sample_weight = weights)\n",
    "time_end_gs2 = time.time()\n",
    "print('Tuning time cost {:.2f} s'.format(time_end_gs2-time_start_gs2))"
   ]
  },
  {
   "cell_type": "code",
   "execution_count": 24,
   "metadata": {},
   "outputs": [
    {
     "name": "stdout",
     "output_type": "stream",
     "text": [
      "Best: 0.800166 using {'learning_rate': 0.1, 'n_estimators': 500}\n",
      "0.777488 (0.011325) with: {'learning_rate': 0.1, 'n_estimators': 100}\n",
      "0.792833 (0.009837) with: {'learning_rate': 0.1, 'n_estimators': 250}\n",
      "0.798334 (0.008780) with: {'learning_rate': 0.1, 'n_estimators': 400}\n",
      "0.800166 (0.009314) with: {'learning_rate': 0.1, 'n_estimators': 500}\n",
      "0.762391 (0.010515) with: {'learning_rate': 0.05, 'n_estimators': 100}\n",
      "0.785160 (0.008889) with: {'learning_rate': 0.05, 'n_estimators': 250}\n",
      "0.792693 (0.014411) with: {'learning_rate': 0.05, 'n_estimators': 400}\n",
      "0.793447 (0.015030) with: {'learning_rate': 0.05, 'n_estimators': 500}\n"
     ]
    }
   ],
   "source": [
    "# report the best configuration\n",
    "print(\"Best: %f using %s\" % (tuning2.best_score_, tuning2.best_params_))\n",
    "\n",
    "# report all configurations\n",
    "means = tuning2.cv_results_['mean_test_score']\n",
    "stds = tuning2.cv_results_['std_test_score']\n",
    "params = tuning2.cv_results_['params']\n",
    "for mean, stdev, param in zip(means, stds, params):\n",
    "    print(\"%f (%f) with: %r\" % (mean, stdev, param))"
   ]
  },
  {
   "cell_type": "code",
   "execution_count": 25,
   "metadata": {},
   "outputs": [],
   "source": [
    "best = tuning2.best_estimator_"
   ]
  },
  {
   "cell_type": "code",
   "execution_count": 26,
   "metadata": {},
   "outputs": [
    {
     "name": "stdout",
     "output_type": "stream",
     "text": [
      "Training set:\n",
      "   accuracy  precision  recall  auc\n",
      "0       1.0        1.0     1.0  1.0\n",
      "\n",
      "\n",
      "Test set:\n",
      "   accuracy  precision    recall       auc\n",
      "0  0.826667   0.716049  0.417266  0.792943\n",
      "\n",
      "\n",
      "Balanced test set:\n",
      "   accuracy  precision    recall       auc\n",
      "0  0.707692   0.965517  0.430769  0.824852\n"
     ]
    }
   ],
   "source": [
    "pred_train = best.predict(feature_train)\n",
    "score_train = best.decision_function(feature_train)\n",
    "print('Training set:')\n",
    "clf_metrics(y_train, pred_train, score_train)\n",
    "print('\\n')\n",
    "\n",
    "pred_test = best.predict(feature_test)\n",
    "score_test = best.decision_function(feature_test)\n",
    "print('Test set:')\n",
    "clf_metrics(y_test, pred_test, score_test)\n",
    "print('\\n')\n",
    "\n",
    "pred_test = best.predict(bal_feature)\n",
    "score_test = best.decision_function(bal_feature)\n",
    "print('Balanced test set:')\n",
    "clf_metrics(bal_y, pred_test, score_test)"
   ]
  },
  {
   "cell_type": "markdown",
   "metadata": {},
   "source": [
    "### Tune weights"
   ]
  },
  {
   "cell_type": "code",
   "execution_count": 76,
   "metadata": {},
   "outputs": [],
   "source": [
    "weights1 = np.zeros(len(y_train))\n",
    "weights1[y_train == 0] = 1\n",
    "weights1[y_train == 1] = 20\n",
    "\n",
    "weights2 = np.zeros(len(y_train))\n",
    "weights2[y_train == 0] = 1\n",
    "weights2[y_train == 1] = 10\n",
    "\n",
    "weights3 = np.zeros(len(y_train))\n",
    "weights3[y_train == 0] = 1\n",
    "weights3[y_train == 1] = 30\n",
    "\n",
    "weights4 = np.zeros(len(y_train))\n",
    "weights4[y_train == 0] = 1\n",
    "weights4[y_train == 1] = 40"
   ]
  },
  {
   "cell_type": "code",
   "execution_count": 74,
   "metadata": {},
   "outputs": [
    {
     "name": "stdout",
     "output_type": "stream",
     "text": [
      "Training time cost 6.61 s\n"
     ]
    }
   ],
   "source": [
    "tuning3 = GradientBoostingClassifier(learning_rate=0.1, n_estimators=150,\n",
    "                                      max_depth=4, min_samples_split=2, min_samples_leaf=1, \n",
    "                                      subsample=1,max_features='sqrt', random_state=299)\n",
    "start = time.time()\n",
    "tuning3.fit(feature_train, y_train, sample_weight = weights2)\n",
    "print('Training time cost {:.2f} s'.format(time.time()-start))"
   ]
  },
  {
   "cell_type": "code",
   "execution_count": 75,
   "metadata": {},
   "outputs": [
    {
     "name": "stdout",
     "output_type": "stream",
     "text": [
      "Training set:\n",
      "   accuracy  precision  recall       auc\n",
      "0  0.974167   0.880998     1.0  0.999893\n",
      "\n",
      "\n",
      "Test set:\n",
      "   accuracy  precision    recall       auc\n",
      "0  0.761667   0.487952  0.582734  0.803337\n",
      "\n",
      "\n",
      "Balanced test set:\n",
      "   accuracy  precision  recall       auc\n",
      "0  0.734615   0.821053     0.6  0.844438\n"
     ]
    }
   ],
   "source": [
    "pred_train = tuning3.predict(feature_train)\n",
    "score_train = tuning3.decision_function(feature_train)\n",
    "print('Training set:')\n",
    "clf_metrics(y_train, pred_train, score_train)\n",
    "print('\\n')\n",
    "\n",
    "pred_test = tuning3.predict(feature_test)\n",
    "score_test = tuning3.decision_function(feature_test)\n",
    "print('Test set:')\n",
    "clf_metrics(y_test, pred_test, score_test)\n",
    "print('\\n')\n",
    "\n",
    "pred_test = tuning3.predict(bal_feature)\n",
    "score_test = tuning3.decision_function(bal_feature)\n",
    "print('Balanced test set:')\n",
    "clf_metrics(bal_y, pred_test, score_test)"
   ]
  },
  {
   "cell_type": "code",
   "execution_count": 69,
   "metadata": {},
   "outputs": [
    {
     "name": "stdout",
     "output_type": "stream",
     "text": [
      "Training time cost 6.71 s\n"
     ]
    }
   ],
   "source": [
    "tuning4 = GradientBoostingClassifier(learning_rate=0.1, n_estimators=150,\n",
    "                                      max_depth=4, min_samples_split=2, min_samples_leaf=1, \n",
    "                                      subsample=1,max_features='sqrt', random_state=299)\n",
    "start = time.time()\n",
    "tuning4.fit(feature_train, y_train, sample_weight = weights3)\n",
    "print('Training time cost {:.2f} s'.format(time.time()-start))"
   ]
  },
  {
   "cell_type": "code",
   "execution_count": 70,
   "metadata": {},
   "outputs": [
    {
     "name": "stdout",
     "output_type": "stream",
     "text": [
      "Training set:\n",
      "   accuracy  precision  recall       auc\n",
      "0  0.831667   0.531866     1.0  0.999062\n",
      "\n",
      "\n",
      "Test set:\n",
      "   accuracy  precision    recall       auc\n",
      "0  0.668333   0.382812  0.705036  0.762606\n",
      "\n",
      "\n",
      "Balanced test set:\n",
      "   accuracy  precision    recall       auc\n",
      "0  0.715385   0.712121  0.723077  0.809053\n"
     ]
    }
   ],
   "source": [
    "pred_train = tuning4.predict(feature_train)\n",
    "score_train = tuning4.decision_function(feature_train)\n",
    "print('Training set:')\n",
    "clf_metrics(y_train, pred_train, score_train)\n",
    "print('\\n')\n",
    "\n",
    "pred_test = tuning4.predict(feature_test)\n",
    "score_test = tuning4.decision_function(feature_test)\n",
    "print('Test set:')\n",
    "clf_metrics(y_test, pred_test, score_test)\n",
    "print('\\n')\n",
    "\n",
    "pred_test = tuning4.predict(bal_feature)\n",
    "score_test = tuning4.decision_function(bal_feature)\n",
    "print('Balanced test set:')\n",
    "clf_metrics(bal_y, pred_test, score_test)"
   ]
  },
  {
   "cell_type": "code",
   "execution_count": 67,
   "metadata": {},
   "outputs": [
    {
     "name": "stdout",
     "output_type": "stream",
     "text": [
      "Training time cost 6.45 s\n"
     ]
    }
   ],
   "source": [
    "tuning5 = GradientBoostingClassifier(learning_rate=0.1, n_estimators=150,\n",
    "                                      max_depth=4, min_samples_split=2, min_samples_leaf=1, \n",
    "                                      subsample=1,max_features='sqrt', random_state=299)\n",
    "start = time.time()\n",
    "tuning5.fit(feature_train, y_train, sample_weight = weights4)\n",
    "print('Training time cost {:.2f} s'.format(time.time()-start))"
   ]
  },
  {
   "cell_type": "code",
   "execution_count": 68,
   "metadata": {},
   "outputs": [
    {
     "name": "stdout",
     "output_type": "stream",
     "text": [
      "Training set:\n",
      "   accuracy  precision  recall      auc\n",
      "0  0.784167   0.469806     1.0  0.99769\n",
      "\n",
      "\n",
      "Test set:\n",
      "   accuracy  precision   recall       auc\n",
      "0  0.616667   0.349835  0.76259  0.731706\n",
      "\n",
      "\n",
      "Balanced test set:\n",
      "   accuracy  precision    recall       auc\n",
      "0  0.719231   0.693878  0.784615  0.786036\n"
     ]
    }
   ],
   "source": [
    "pred_train = tuning5.predict(feature_train)\n",
    "score_train = tuning5.decision_function(feature_train)\n",
    "print('Training set:')\n",
    "clf_metrics(y_train, pred_train, score_train)\n",
    "print('\\n')\n",
    "\n",
    "pred_test = tuning5.predict(feature_test)\n",
    "score_test = tuning5.decision_function(feature_test)\n",
    "print('Test set:')\n",
    "clf_metrics(y_test, pred_test, score_test)\n",
    "print('\\n')\n",
    "\n",
    "pred_test = tuning5.predict(bal_feature)\n",
    "score_test = tuning5.decision_function(bal_feature)\n",
    "print('Balanced test set:')\n",
    "clf_metrics(bal_y, pred_test, score_test)"
   ]
  },
  {
   "cell_type": "markdown",
   "metadata": {},
   "source": [
    "### After tuning, we would choose learning_rate=0.1, n_estimators=150, max_depth=4, min_samples_split=2, min_samples_leaf=1, subsample=1,max_features='sqrt', random_state=299, and fit the model with sample_weights ratio of 10.\n",
    "\n",
    "### Save the model to pickle object:"
   ]
  },
  {
   "cell_type": "code",
   "execution_count": 77,
   "metadata": {},
   "outputs": [
    {
     "name": "stdout",
     "output_type": "stream",
     "text": [
      "Training time cost 6.36 s\n"
     ]
    }
   ],
   "source": [
    "weights2 = np.zeros(len(y_train))\n",
    "weights2[y_train == 0] = 1\n",
    "weights2[y_train == 1] = 10\n",
    "\n",
    "gbt_baseline = GradientBoostingClassifier(learning_rate=0.1, n_estimators=150,\n",
    "                                      max_depth=4, min_samples_split=2, min_samples_leaf=1, \n",
    "                                      subsample=1,max_features='sqrt', random_state=299)\n",
    "start = time.time()\n",
    "gbt_baseline.fit(feature_train, y_train, sample_weight = weights2)\n",
    "print('Training time cost {:.2f} s'.format(time.time()-start))"
   ]
  },
  {
   "cell_type": "code",
   "execution_count": 78,
   "metadata": {},
   "outputs": [],
   "source": [
    "# store the trained model\n",
    "pickle_save('gbt_baseline', gbt_baseline)"
   ]
  },
  {
   "cell_type": "code",
   "execution_count": 79,
   "metadata": {},
   "outputs": [],
   "source": [
    "# load the trained model from file\n",
    "gbt_baseline = pickle_open('gbt_baseline')"
   ]
  },
  {
   "cell_type": "code",
   "execution_count": 80,
   "metadata": {},
   "outputs": [
    {
     "name": "stdout",
     "output_type": "stream",
     "text": [
      "Training set:\n",
      "   accuracy  precision  recall       auc\n",
      "0  0.974167   0.880998     1.0  0.999893\n",
      "\n",
      "\n",
      "Test set:\n",
      "   accuracy  precision    recall       auc\n",
      "0  0.761667   0.487952  0.582734  0.803337\n",
      "\n",
      "\n",
      "Balanced test set:\n",
      "   accuracy  precision  recall       auc\n",
      "0  0.734615   0.821053     0.6  0.844438\n"
     ]
    }
   ],
   "source": [
    "# Gradient boosting baseline model performance\n",
    "pred_train = gbt_baseline.predict(feature_train)\n",
    "score_train = gbt_baseline.decision_function(feature_train)\n",
    "print('Training set:')\n",
    "clf_metrics(y_train, pred_train, score_train)\n",
    "print('\\n')\n",
    "\n",
    "pred_test = gbt_baseline.predict(feature_test)\n",
    "score_test = gbt_baseline.decision_function(feature_test)\n",
    "print('Test set:')\n",
    "clf_metrics(y_test, pred_test, score_test)\n",
    "print('\\n')\n",
    "\n",
    "pred_test = gbt_baseline.predict(bal_feature)\n",
    "score_test = gbt_baseline.decision_function(bal_feature)\n",
    "print('Balanced test set:')\n",
    "clf_metrics(bal_y, pred_test, score_test)"
   ]
  },
  {
   "cell_type": "code",
   "execution_count": null,
   "metadata": {},
   "outputs": [],
   "source": []
  }
 ],
 "metadata": {
  "kernelspec": {
   "display_name": "Python 3",
   "language": "python",
   "name": "python3"
  },
  "language_info": {
   "codemirror_mode": {
    "name": "ipython",
    "version": 3
   },
   "file_extension": ".py",
   "mimetype": "text/x-python",
   "name": "python",
   "nbconvert_exporter": "python",
   "pygments_lexer": "ipython3",
   "version": "3.7.6"
  }
 },
 "nbformat": 4,
 "nbformat_minor": 4
}
