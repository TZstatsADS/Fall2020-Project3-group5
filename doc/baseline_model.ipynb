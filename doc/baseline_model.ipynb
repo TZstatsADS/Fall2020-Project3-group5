{
 "cells": [
  {
   "cell_type": "markdown",
   "metadata": {},
   "source": [
    "## Step 1: set up controls for evaluation experiments"
   ]
  },
  {
   "cell_type": "markdown",
   "metadata": {},
   "source": [
    "* (T/F) cross-validation on the training set\n",
    "* (T/F) reweighting the samples for training set\n",
    "* $K$, the number of CV folds\n",
    "* (T/F) process features for training set\n",
    "* (T/F) run evaluation on an independent test set\n",
    "* (T/F) process features for test set"
   ]
  },
  {
   "cell_type": "markdown",
   "metadata": {},
   "source": [
    "## Step 2: load data and train-test split"
   ]
  },
  {
   "cell_type": "code",
   "execution_count": 17,
   "metadata": {},
   "outputs": [],
   "source": [
    "import scipy.io\n",
    "import os\n",
    "import numpy as np\n",
    "import pandas as pd\n",
    "import pickle\n",
    "\n",
    "def get_points(file):\n",
    "    '''load matlab style file'''\n",
    "    mat = scipy.io.loadmat(file)\n",
    "    return mat[list(mat.keys())[3]]\n",
    "\n",
    "def pickle_save(filename, content):\n",
    "    '''save the file into python pickle object under output folder'''\n",
    "    with open('../output/%s.pkl'%filename, 'wb') as f:\n",
    "        pickle.dump(content, f)\n",
    "        \n",
    "def pickle_open(filename):\n",
    "    '''load the pickle file'''\n",
    "    with open('../output/%s.pkl'%filename, 'rb') as f:\n",
    "        content = pickle.load(f)\n",
    "    return content\n",
    "    "
   ]
  },
  {
   "cell_type": "code",
   "execution_count": 18,
   "metadata": {},
   "outputs": [],
   "source": [
    "dir_list = os.listdir('../../train_set/points')\n",
    "dir_list.sort()\n",
    "\n",
    "fiducial_pt_full = np.stack((get_points('../../train_set/points/'+filename) for filename in dir_list))\n",
    "label_full = pd.read_csv('../../train_set/label.csv')['label']\n",
    "\n",
    "# save the data into pickle files, so that we don't need to read raw data everytime\n",
    "pickle_save('fiducial_pt_full', fiducial_pt_full)\n",
    "pickle_save('label_full', label_full)\n"
   ]
  },
  {
   "cell_type": "markdown",
   "metadata": {},
   "source": [
    "### Train-test split"
   ]
  },
  {
   "cell_type": "code",
   "execution_count": 49,
   "metadata": {},
   "outputs": [],
   "source": [
    "from sklearn.model_selection import train_test_split\n",
    "\n",
    "# load data from pickle oject\n",
    "fiducial_pt_full = pickle_open('fiducial_pt_full')\n",
    "label_full = pickle_open('label_full')\n",
    "\n",
    "## Note: randomly split into training & test set\n",
    "X_train, X_test, y_train, y_test = train_test_split(fiducial_pt_full, label_full, test_size=0.2, random_state=42)\n"
   ]
  },
  {
   "cell_type": "markdown",
   "metadata": {},
   "source": [
    "## Step 3: construct features and reponses"
   ]
  },
  {
   "cell_type": "markdown",
   "metadata": {},
   "source": [
    "Here, use pairwise distances as features."
   ]
  },
  {
   "cell_type": "code",
   "execution_count": 50,
   "metadata": {},
   "outputs": [
    {
     "name": "stderr",
     "output_type": "stream",
     "text": [
      "/opt/anaconda3/lib/python3.7/site-packages/IPython/core/interactiveshell.py:3254: FutureWarning: arrays to stack must be passed as a \"sequence\" type such as list or tuple. Support for non-sequence iterables such as generators is deprecated as of NumPy 1.16 and will raise an error in the future.\n",
      "  if (await self.run_code(code, result,  async_=asy)):\n",
      "/opt/anaconda3/lib/python3.7/site-packages/IPython/core/interactiveshell.py:3254: FutureWarning: arrays to stack must be passed as a \"sequence\" type such as list or tuple. Support for non-sequence iterables such as generators is deprecated as of NumPy 1.16 and will raise an error in the future.\n",
      "  if (await self.run_code(code, result,  async_=asy)):\n"
     ]
    }
   ],
   "source": [
    "from sklearn.metrics import pairwise_distances\n",
    "\n",
    "# extract pairwise distance as features (78*77/2=3303 features)\n",
    "# nrow=number of records of the dataset; ncol=3303\n",
    "feature_train = np.stack((pairwise_distances(X_train[i])[np.triu_indices(78, k = 1)] for i in range(X_train.shape[0])))\n",
    "feature_test = np.stack((pairwise_distances(X_test[i])[np.triu_indices(78, k = 1)] for i in range(X_test.shape[0])))\n",
    "\n",
    "### Not sure how to deal with the warning. Distances are calculated normally though"
   ]
  },
  {
   "cell_type": "markdown",
   "metadata": {},
   "source": [
    "## Step 4: train classification model with training features and responses"
   ]
  },
  {
   "cell_type": "markdown",
   "metadata": {},
   "source": [
    "### use 5-fold CV to calculate the validation AUC\n",
    "\n",
    "(We should use CV to tune hyperparameters. But here no parameter is tuned LOL)"
   ]
  },
  {
   "cell_type": "code",
   "execution_count": 54,
   "metadata": {},
   "outputs": [],
   "source": [
    "weights = np.zeros(len(y_train))\n",
    "weights[y_train == 0] = 0.5\n",
    "weights[y_train == 1] = 9.1"
   ]
  },
  {
   "cell_type": "code",
   "execution_count": 68,
   "metadata": {},
   "outputs": [
    {
     "name": "stdout",
     "output_type": "stream",
     "text": [
      "time cost 175.69 s\n"
     ]
    }
   ],
   "source": [
    "from sklearn.ensemble import GradientBoostingClassifier\n",
    "from sklearn.model_selection import cross_val_score\n",
    "from sklearn.model_selection import RepeatedStratifiedKFold\n",
    "import time\n",
    "\n",
    "gbt = GradientBoostingClassifier(random_state=0)\n",
    "fit_params = {'sample_weight':weights}\n",
    "\n",
    "time_start_val = time.time()\n",
    "\n",
    "cv = RepeatedStratifiedKFold(n_splits=5, n_repeats=1, random_state=1)\n",
    "auc = cross_val_score(gbt, feature_train, y_train, fit_params=fit_params, scoring='roc_auc', cv=cv, n_jobs=-1)\n",
    "\n",
    "time_end_val = time.time()\n",
    "print('time cost {:.2f} s'.format(time_end_val-time_start_val))"
   ]
  },
  {
   "cell_type": "code",
   "execution_count": 69,
   "metadata": {},
   "outputs": [
    {
     "name": "stdout",
     "output_type": "stream",
     "text": [
      "Mean ROC AUC: 0.75767\n"
     ]
    }
   ],
   "source": [
    "print('Mean ROC AUC: %.5f' % np.mean(auc))"
   ]
  },
  {
   "cell_type": "markdown",
   "metadata": {},
   "source": [
    "### train the model on whole training set, and save the model to pickle object"
   ]
  },
  {
   "cell_type": "code",
   "execution_count": 71,
   "metadata": {},
   "outputs": [
    {
     "name": "stdout",
     "output_type": "stream",
     "text": [
      "GradientBoostingClassifier(ccp_alpha=0.0, criterion='friedman_mse', init=None,\n",
      "                           learning_rate=0.1, loss='deviance', max_depth=3,\n",
      "                           max_features=None, max_leaf_nodes=None,\n",
      "                           min_impurity_decrease=0.0, min_impurity_split=None,\n",
      "                           min_samples_leaf=1, min_samples_split=2,\n",
      "                           min_weight_fraction_leaf=0.0, n_estimators=100,\n",
      "                           n_iter_no_change=None, presort='deprecated',\n",
      "                           random_state=0, subsample=1.0, tol=0.0001,\n",
      "                           validation_fraction=0.1, verbose=0,\n",
      "                           warm_start=False)\n",
      "time cost 180.61 s\n"
     ]
    }
   ],
   "source": [
    "### there are lots of parameter to tune here\n",
    "### could have used cross-validation to perform model selection (e.g. GBT with different parameters)\n",
    "\n",
    "# train the model\n",
    "time_start_train = time.time()\n",
    "\n",
    "print(gbt.fit(feature_train, y_train, sample_weight = weights))\n",
    "\n",
    "time_end_train = time.time()\n",
    "print('time cost {:.2f} s'.format(time_end_train-time_start_train))"
   ]
  },
  {
   "cell_type": "code",
   "execution_count": 72,
   "metadata": {},
   "outputs": [],
   "source": [
    "# store the trained model\n",
    "pickle_save('gbt_model_1', gbt)\n",
    "\n",
    "# load the trained model from file\n",
    "gbt_model_1 = pickle_open('gbt_model_1')"
   ]
  },
  {
   "cell_type": "markdown",
   "metadata": {},
   "source": [
    "## Step 5: run test on test images"
   ]
  },
  {
   "cell_type": "code",
   "execution_count": 73,
   "metadata": {},
   "outputs": [],
   "source": [
    "# make prediction on validation set\n",
    "pred_test = gbt_model_1.predict(feature_test)\n",
    "score_test = gbt_model_1.decision_function(feature_test)"
   ]
  },
  {
   "cell_type": "code",
   "execution_count": 74,
   "metadata": {},
   "outputs": [],
   "source": [
    "from sklearn.metrics import precision_score, recall_score, roc_auc_score\n",
    "\n",
    "def clf_metrics(y_true, y_pred, y_score):\n",
    "    precision = precision_score(y_true, y_pred)\n",
    "    recall = recall_score(y_true, y_pred)\n",
    "    auc = roc_auc_score(y_true, y_score)\n",
    "    \n",
    "    df = pd.DataFrame({'precision': [precision], 'recall': [recall], 'auc':[auc]})\n",
    "    print(df)"
   ]
  },
  {
   "cell_type": "code",
   "execution_count": 75,
   "metadata": {},
   "outputs": [
    {
     "name": "stdout",
     "output_type": "stream",
     "text": [
      "   precision    recall       auc\n",
      "0   0.389262  0.834532  0.794909\n"
     ]
    }
   ],
   "source": [
    "clf_metrics(y_test, pred_test, score_test)"
   ]
  },
  {
   "cell_type": "markdown",
   "metadata": {},
   "source": [
    "# Is it strange that AUC on test set is higher...?"
   ]
  },
  {
   "cell_type": "code",
   "execution_count": null,
   "metadata": {},
   "outputs": [],
   "source": []
  }
 ],
 "metadata": {
  "kernelspec": {
   "display_name": "Python 3",
   "language": "python",
   "name": "python3"
  },
  "language_info": {
   "codemirror_mode": {
    "name": "ipython",
    "version": 3
   },
   "file_extension": ".py",
   "mimetype": "text/x-python",
   "name": "python",
   "nbconvert_exporter": "python",
   "pygments_lexer": "ipython3",
   "version": "3.7.6"
  }
 },
 "nbformat": 4,
 "nbformat_minor": 4
}
