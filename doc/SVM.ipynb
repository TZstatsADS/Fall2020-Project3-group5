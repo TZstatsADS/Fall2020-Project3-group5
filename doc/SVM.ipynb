{
 "cells": [
  {
   "cell_type": "markdown",
   "metadata": {},
   "source": [
    "# SVM Model"
   ]
  },
  {
   "cell_type": "code",
   "execution_count": 18,
   "metadata": {},
   "outputs": [],
   "source": [
    "import numpy as np\n",
    "import pandas as pd\n",
    "import time\n",
    "from matplotlib import pyplot as plt\n",
    "from sklearn.model_selection import train_test_split\n",
    "from sklearn.model_selection import GridSearchCV\n",
    "import sklearn.svm\n",
    "from sklearn.svm import SVC\n",
    "from sklearn import metrics"
   ]
  },
  {
   "cell_type": "code",
   "execution_count": 19,
   "metadata": {},
   "outputs": [
    {
     "name": "stderr",
     "output_type": "stream",
     "text": [
      "/opt/anaconda3/lib/python3.7/site-packages/IPython/core/interactiveshell.py:3242: FutureWarning: arrays to stack must be passed as a \"sequence\" type such as list or tuple. Support for non-sequence iterables such as generators is deprecated as of NumPy 1.16 and will raise an error in the future.\n",
      "  if (await self.run_code(code, result,  async_=asy)):\n",
      "/opt/anaconda3/lib/python3.7/site-packages/IPython/core/interactiveshell.py:3242: FutureWarning: arrays to stack must be passed as a \"sequence\" type such as list or tuple. Support for non-sequence iterables such as generators is deprecated as of NumPy 1.16 and will raise an error in the future.\n",
      "  if (await self.run_code(code, result,  async_=asy)):\n"
     ]
    }
   ],
   "source": [
    "start_time = time.time()\n",
    "\n",
    "# loading data and features:\n",
    "\n",
    "fiducial_pt_full = pd.read_pickle('../output/fiducial_pt_full.pkl')\n",
    "label_full = pd.read_pickle('../output/label_full.pkl')\n",
    "\n",
    "# Randomly splitting data into training & test sets:\n",
    "RSEED = 2020\n",
    "\n",
    "X_train, X_test, y_train, y_test = train_test_split(fiducial_pt_full, label_full, test_size=0.2, random_state=RSEED)\n",
    "\n",
    "# Using pairwise distance as feature.\n",
    "# extracting pairwise distance as features (78*77/2=3303 features)\n",
    "# nrow=number of records of the dataset; ncol=3303\n",
    "feature_train = np.stack((metrics.pairwise_distances(x_train[i])[np.triu_indices(78, k = 1)] for i in range(x_train.shape[0])))\n",
    "feature_test = np.stack((metrics.pairwise_distances(x_test[i])[np.triu_indices(78, k = 1)] for i in range(x_test.shape[0])))"
   ]
  },
  {
   "cell_type": "code",
   "execution_count": 23,
   "metadata": {},
   "outputs": [],
   "source": [
    "# balanced test dataset\n",
    "emotion_1 = y_test[y_test == 1]\n",
    "emotion_0 = y_test[y_test== 0]\n",
    "feature_1 = feature_test[y_test==1]\n",
    "feature_0 = feature_test[y_test==0]\n",
    "bal_feature = np.concatenate((feature_1[0:130],feature_0[0:130]),axis=0)\n",
    "bal_y = np.concatenate((emotion_1[0:130],emotion_0[0:130]),axis=0)"
   ]
  },
  {
   "cell_type": "markdown",
   "metadata": {},
   "source": [
    "# Train model:"
   ]
  },
  {
   "cell_type": "code",
   "execution_count": 20,
   "metadata": {},
   "outputs": [],
   "source": [
    "from sklearn.metrics import precision_score, recall_score, roc_auc_score, accuracy_score\n",
    "import time\n",
    "\n",
    "def clf_metrics(y_true, y_pred, y_score):\n",
    "    accuracy = accuracy_score(y_true, y_pred)\n",
    "    precision = precision_score(y_true, y_pred)\n",
    "    recall = recall_score(y_true, y_pred)\n",
    "    auc = roc_auc_score(y_true, y_score)\n",
    "    \n",
    "    df = pd.DataFrame({'accuracy':[accuracy],'precision': [precision], 'recall': [recall], 'auc':[auc]})\n",
    "    print(df)"
   ]
  },
  {
   "cell_type": "code",
   "execution_count": 22,
   "metadata": {},
   "outputs": [
    {
     "name": "stdout",
     "output_type": "stream",
     "text": [
      "Training time cost 27.06 s\n"
     ]
    }
   ],
   "source": [
    "#set weight\n",
    "weights = np.zeros(len(y_train))\n",
    "weights[y_train == 0] = 0.5\n",
    "weights[y_train == 1] = 10\n",
    "# train svm\n",
    "import sklearn.svm\n",
    "from sklearn.svm import SVC\n",
    "start=time.time()\n",
    "svc = SVC(kernel= 'linear', random_state = 123, C = 0.0001)\n",
    "model = svc.fit(feature_train, y_train, sample_weight = weights)\n",
    "print('Training time cost {:.2f} s'.format(time.time()-start))"
   ]
  },
  {
   "cell_type": "code",
   "execution_count": 24,
   "metadata": {},
   "outputs": [
    {
     "name": "stdout",
     "output_type": "stream",
     "text": [
      "Training set:\n",
      "   accuracy  precision    recall       auc\n",
      "0  0.594167   0.328729  0.995816  0.860555\n",
      "\n",
      "\n",
      "Test set:\n",
      "   accuracy  precision    recall       auc\n",
      "0      0.55   0.299465  0.933333  0.782674\n",
      "\n",
      "\n",
      "Balanced test set:\n",
      "   accuracy  precision    recall       auc\n",
      "0     0.716       0.64  0.933333  0.800641\n"
     ]
    }
   ],
   "source": [
    "pred_train = model.predict(feature_train)\n",
    "score_train = model.decision_function(feature_train)\n",
    "print('Training set:')\n",
    "clf_metrics(y_train, pred_train, score_train)\n",
    "print('\\n')\n",
    "\n",
    "pred_test = model.predict(feature_test)\n",
    "score_test = model.decision_function(feature_test)\n",
    "print('Test set:')\n",
    "clf_metrics(y_test, pred_test, score_test)\n",
    "print('\\n')\n",
    "\n",
    "pred_test = model.predict(bal_feature)\n",
    "score_test = model.decision_function(bal_feature)\n",
    "print('Balanced test set:')\n",
    "clf_metrics(bal_y, pred_test, score_test)"
   ]
  },
  {
   "cell_type": "markdown",
   "metadata": {},
   "source": [
    "# Parameter tuning"
   ]
  },
  {
   "cell_type": "markdown",
   "metadata": {},
   "source": [
    "## 1. Choose the best parameter C"
   ]
  },
  {
   "cell_type": "code",
   "execution_count": 26,
   "metadata": {},
   "outputs": [
    {
     "name": "stdout",
     "output_type": "stream",
     "text": [
      "Tuning time cost 4219.08 s\n"
     ]
    },
    {
     "data": {
      "text/plain": [
       "{'C': 0.001}"
      ]
     },
     "execution_count": 26,
     "metadata": {},
     "output_type": "execute_result"
    }
   ],
   "source": [
    "from sklearn.model_selection import GridSearchCV\n",
    "start=time.time()\n",
    "param= {'C': [0.0000001,0.000001,0.00001,0.0001,0.001,0.01,1]}\n",
    "gscv = GridSearchCV(SVC(kernel='linear',random_state = 123), param, cv=5)\n",
    "gscv.fit(feature_train, y_train)\n",
    "print('Tuning time cost {:.2f} s'.format(time.time()-start))\n",
    "gscv.best_params_"
   ]
  },
  {
   "cell_type": "markdown",
   "metadata": {},
   "source": [
    "Change C to 0.001"
   ]
  },
  {
   "cell_type": "code",
   "execution_count": 27,
   "metadata": {},
   "outputs": [
    {
     "name": "stdout",
     "output_type": "stream",
     "text": [
      "Training time cost 37.47 s\n"
     ]
    }
   ],
   "source": [
    "#set weight\n",
    "weights = np.zeros(len(y_train))\n",
    "weights[y_train == 0] = 0.5\n",
    "weights[y_train == 1] = 10\n",
    "# train svm\n",
    "import sklearn.svm\n",
    "from sklearn.svm import SVC\n",
    "start=time.time()\n",
    "svc1 = SVC(kernel= 'linear', random_state = 123, C = 0.001)\n",
    "model1 = svc1.fit(feature_train, y_train, sample_weight = weights)\n",
    "print('Training time cost {:.2f} s'.format(time.time()-start))"
   ]
  },
  {
   "cell_type": "code",
   "execution_count": 28,
   "metadata": {},
   "outputs": [
    {
     "name": "stdout",
     "output_type": "stream",
     "text": [
      "Training set:\n",
      "   accuracy  precision  recall       auc\n",
      "0  0.717917   0.413853     1.0  0.908177\n",
      "\n",
      "\n",
      "Test set:\n",
      "   accuracy  precision    recall       auc\n",
      "0  0.616667   0.327044  0.866667  0.782847\n",
      "\n",
      "\n",
      "Balanced test set:\n",
      "   accuracy  precision    recall       auc\n",
      "0     0.732   0.670968  0.866667  0.809231\n"
     ]
    }
   ],
   "source": [
    "pred_train = model1.predict(feature_train)\n",
    "score_train = model1.decision_function(feature_train)\n",
    "print('Training set:')\n",
    "clf_metrics(y_train, pred_train, score_train)\n",
    "print('\\n')\n",
    "\n",
    "pred_test = model1.predict(feature_test)\n",
    "score_test = model1.decision_function(feature_test)\n",
    "print('Test set:')\n",
    "clf_metrics(y_test, pred_test, score_test)\n",
    "print('\\n')\n",
    "\n",
    "pred_test = model1.predict(bal_feature)\n",
    "score_test = model1.decision_function(bal_feature)\n",
    "print('Balanced test set:')\n",
    "clf_metrics(bal_y, pred_test, score_test)"
   ]
  },
  {
   "cell_type": "markdown",
   "metadata": {},
   "source": [
    "Accuracy is promoted significantly."
   ]
  },
  {
   "cell_type": "markdown",
   "metadata": {},
   "source": [
    "## 2. Tune weights"
   ]
  },
  {
   "cell_type": "code",
   "execution_count": 29,
   "metadata": {},
   "outputs": [],
   "source": [
    "weights1 = np.zeros(len(y_train))\n",
    "weights1[y_train == 0] = 1\n",
    "weights1[y_train == 1] = 20\n",
    "\n",
    "weights2 = np.zeros(len(y_train))\n",
    "weights2[y_train == 0] = 1\n",
    "weights2[y_train == 1] = 10\n",
    "\n",
    "weights3 = np.zeros(len(y_train))\n",
    "weights3[y_train == 0] = 1\n",
    "weights3[y_train == 1] = 30\n",
    "\n",
    "weights4 = np.zeros(len(y_train))\n",
    "weights4[y_train == 0] = 1\n",
    "weights4[y_train == 1] = 40"
   ]
  },
  {
   "cell_type": "code",
   "execution_count": 30,
   "metadata": {},
   "outputs": [
    {
     "name": "stdout",
     "output_type": "stream",
     "text": [
      "Training time cost 43.49 s\n"
     ]
    }
   ],
   "source": [
    "tuning1 = SVC(kernel= 'linear', random_state = 123, C = 0.001)\n",
    "start = time.time()\n",
    "tuning1.fit(feature_train, y_train, sample_weight = weights1)\n",
    "print('Training time cost {:.2f} s'.format(time.time()-start))"
   ]
  },
  {
   "cell_type": "code",
   "execution_count": 31,
   "metadata": {},
   "outputs": [
    {
     "name": "stdout",
     "output_type": "stream",
     "text": [
      "Training set:\n",
      "   accuracy  precision  recall       auc\n",
      "0  0.764583   0.458293     1.0  0.926886\n",
      "\n",
      "\n",
      "Test set:\n",
      "   accuracy  precision  recall       auc\n",
      "0  0.638333   0.335593   0.825  0.783576\n",
      "\n",
      "\n",
      "Balanced test set:\n",
      "   accuracy  precision  recall       auc\n",
      "0     0.716    0.66443   0.825  0.805128\n"
     ]
    }
   ],
   "source": [
    "pred_train = tuning1.predict(feature_train)\n",
    "score_train = tuning1.decision_function(feature_train)\n",
    "print('Training set:')\n",
    "clf_metrics(y_train, pred_train, score_train)\n",
    "print('\\n')\n",
    "\n",
    "pred_test = tuning1.predict(feature_test)\n",
    "score_test = tuning1.decision_function(feature_test)\n",
    "print('Test set:')\n",
    "clf_metrics(y_test, pred_test, score_test)\n",
    "print('\\n')\n",
    "\n",
    "pred_test = tuning1.predict(bal_feature)\n",
    "score_test = tuning1.decision_function(bal_feature)\n",
    "print('Balanced test set:')\n",
    "clf_metrics(bal_y, pred_test, score_test)"
   ]
  },
  {
   "cell_type": "code",
   "execution_count": 34,
   "metadata": {},
   "outputs": [
    {
     "name": "stdout",
     "output_type": "stream",
     "text": [
      "Training time cost 52.80 s\n"
     ]
    }
   ],
   "source": [
    "tuning2 = SVC(kernel= 'linear', random_state = 123, C = 0.001)\n",
    "start = time.time()\n",
    "tuning2.fit(feature_train, y_train, sample_weight = weights2)\n",
    "print('Training time cost {:.2f} s'.format(time.time()-start))"
   ]
  },
  {
   "cell_type": "code",
   "execution_count": 35,
   "metadata": {},
   "outputs": [
    {
     "name": "stdout",
     "output_type": "stream",
     "text": [
      "Training set:\n",
      "   accuracy  precision    recall       auc\n",
      "0  0.784583   0.480323  0.995816  0.933136\n",
      "\n",
      "\n",
      "Test set:\n",
      "   accuracy  precision    recall      auc\n",
      "0  0.658333    0.34767  0.808333  0.79125\n",
      "\n",
      "\n",
      "Balanced test set:\n",
      "   accuracy  precision    recall       auc\n",
      "0      0.72   0.673611  0.808333  0.815128\n"
     ]
    }
   ],
   "source": [
    "pred_train = tuning2.predict(feature_train)\n",
    "score_train = tuning2.decision_function(feature_train)\n",
    "print('Training set:')\n",
    "clf_metrics(y_train, pred_train, score_train)\n",
    "print('\\n')\n",
    "\n",
    "pred_test = tuning2.predict(feature_test)\n",
    "score_test = tuning2.decision_function(feature_test)\n",
    "print('Test set:')\n",
    "clf_metrics(y_test, pred_test, score_test)\n",
    "print('\\n')\n",
    "\n",
    "pred_test = tuning2.predict(bal_feature)\n",
    "score_test = tuning2.decision_function(bal_feature)\n",
    "print('Balanced test set:')\n",
    "clf_metrics(bal_y, pred_test, score_test)"
   ]
  },
  {
   "cell_type": "code",
   "execution_count": 36,
   "metadata": {},
   "outputs": [
    {
     "name": "stdout",
     "output_type": "stream",
     "text": [
      "Training time cost 51.82 s\n"
     ]
    }
   ],
   "source": [
    "tuning3 = SVC(kernel= 'linear', random_state = 123, C = 0.001)\n",
    "start = time.time()\n",
    "tuning3.fit(feature_train, y_train, sample_weight = weights3)\n",
    "print('Training time cost {:.2f} s'.format(time.time()-start))"
   ]
  },
  {
   "cell_type": "code",
   "execution_count": 37,
   "metadata": {},
   "outputs": [
    {
     "name": "stdout",
     "output_type": "stream",
     "text": [
      "Training set:\n",
      "   accuracy  precision  recall       auc\n",
      "0   0.75875   0.452223     1.0  0.923377\n",
      "\n",
      "\n",
      "Test set:\n",
      "   accuracy  precision    recall     auc\n",
      "0  0.646667   0.342466  0.833333  0.7825\n",
      "\n",
      "\n",
      "Balanced test set:\n",
      "   accuracy  precision    recall       auc\n",
      "0     0.724   0.671141  0.833333  0.804231\n"
     ]
    }
   ],
   "source": [
    "pred_train = tuning3.predict(feature_train)\n",
    "score_train = tuning3.decision_function(feature_train)\n",
    "print('Training set:')\n",
    "clf_metrics(y_train, pred_train, score_train)\n",
    "print('\\n')\n",
    "\n",
    "pred_test = tuning3.predict(feature_test)\n",
    "score_test = tuning3.decision_function(feature_test)\n",
    "print('Test set:')\n",
    "clf_metrics(y_test, pred_test, score_test)\n",
    "print('\\n')\n",
    "\n",
    "pred_test = tuning3.predict(bal_feature)\n",
    "score_test = tuning3.decision_function(bal_feature)\n",
    "print('Balanced test set:')\n",
    "clf_metrics(bal_y, pred_test, score_test)"
   ]
  },
  {
   "cell_type": "code",
   "execution_count": 40,
   "metadata": {},
   "outputs": [
    {
     "name": "stdout",
     "output_type": "stream",
     "text": [
      "Training time cost 49.80 s\n"
     ]
    }
   ],
   "source": [
    "tuning4 = SVC(kernel= 'linear', random_state = 123, C = 0.001)\n",
    "start = time.time()\n",
    "tuning4.fit(feature_train, y_train, sample_weight = weights4)\n",
    "print('Training time cost {:.2f} s'.format(time.time()-start))"
   ]
  },
  {
   "cell_type": "code",
   "execution_count": 41,
   "metadata": {},
   "outputs": [
    {
     "name": "stdout",
     "output_type": "stream",
     "text": [
      "Training set:\n",
      "   accuracy  precision  recall       auc\n",
      "0  0.757917   0.451369     1.0  0.922503\n",
      "\n",
      "\n",
      "Test set:\n",
      "   accuracy  precision    recall       auc\n",
      "0  0.643333   0.340136  0.833333  0.782083\n",
      "\n",
      "\n",
      "Balanced test set:\n",
      "   accuracy  precision    recall       auc\n",
      "0     0.724   0.671141  0.833333  0.803013\n"
     ]
    }
   ],
   "source": [
    "pred_train = tuning4.predict(feature_train)\n",
    "score_train = tuning4.decision_function(feature_train)\n",
    "print('Training set:')\n",
    "clf_metrics(y_train, pred_train, score_train)\n",
    "print('\\n')\n",
    "\n",
    "pred_test = tuning4.predict(feature_test)\n",
    "score_test = tuning4.decision_function(feature_test)\n",
    "print('Test set:')\n",
    "clf_metrics(y_test, pred_test, score_test)\n",
    "print('\\n')\n",
    "\n",
    "pred_test = tuning4.predict(bal_feature)\n",
    "score_test = tuning4.decision_function(bal_feature)\n",
    "print('Balanced test set:')\n",
    "clf_metrics(bal_y, pred_test, score_test)"
   ]
  },
  {
   "cell_type": "markdown",
   "metadata": {},
   "source": [
    "tunning2 has the best outcome."
   ]
  },
  {
   "cell_type": "markdown",
   "metadata": {},
   "source": [
    "### After tuning, we would choose C=0.001, random_state=123, and fit the model with sample_weights ratio of 10."
   ]
  },
  {
   "cell_type": "markdown",
   "metadata": {},
   "source": [
    "## Save the model to pickle object:"
   ]
  },
  {
   "cell_type": "code",
   "execution_count": 42,
   "metadata": {},
   "outputs": [],
   "source": [
    "import scipy.io\n",
    "import os\n",
    "import numpy as np\n",
    "import pandas as pd\n",
    "import pickle\n",
    "\n",
    "def get_points(file):\n",
    "    '''load matlab style file'''\n",
    "    mat = scipy.io.loadmat(file)\n",
    "    return mat[list(mat.keys())[3]]\n",
    "\n",
    "def pickle_save(filename, content):\n",
    "    '''save the file into python pickle object under output folder'''\n",
    "    with open('../output/%s.pkl'%filename, 'wb') as f:\n",
    "        pickle.dump(content, f)\n",
    "        \n",
    "def pickle_open(filename):\n",
    "    '''load the pickle file'''\n",
    "    with open('../output/%s.pkl'%filename, 'rb') as f:\n",
    "        content = pickle.load(f)\n",
    "    return content"
   ]
  },
  {
   "cell_type": "code",
   "execution_count": 43,
   "metadata": {},
   "outputs": [],
   "source": [
    "# store the trained model\n",
    "pickle_save('SVM', tuning2)"
   ]
  },
  {
   "cell_type": "code",
   "execution_count": 44,
   "metadata": {},
   "outputs": [],
   "source": [
    "# load the trained model from file\n",
    "svm = pickle_open('SVM')"
   ]
  },
  {
   "cell_type": "code",
   "execution_count": 45,
   "metadata": {},
   "outputs": [
    {
     "name": "stdout",
     "output_type": "stream",
     "text": [
      "Training set:\n",
      "   accuracy  precision    recall       auc\n",
      "0  0.784583   0.480323  0.995816  0.933136\n",
      "\n",
      "\n",
      "Test set:\n",
      "   accuracy  precision    recall      auc\n",
      "0  0.658333    0.34767  0.808333  0.79125\n",
      "\n",
      "\n",
      "Balanced test set:\n",
      "   accuracy  precision    recall       auc\n",
      "0      0.72   0.673611  0.808333  0.815128\n"
     ]
    }
   ],
   "source": [
    "# SVM model performance\n",
    "pred_train = svm.predict(feature_train)\n",
    "score_train = svm.decision_function(feature_train)\n",
    "print('Training set:')\n",
    "clf_metrics(y_train, pred_train, score_train)\n",
    "print('\\n')\n",
    "\n",
    "pred_test = svm.predict(feature_test)\n",
    "score_test = svm.decision_function(feature_test)\n",
    "print('Test set:')\n",
    "clf_metrics(y_test, pred_test, score_test)\n",
    "print('\\n')\n",
    "\n",
    "pred_test = svm.predict(bal_feature)\n",
    "score_test = svm.decision_function(bal_feature)\n",
    "print('Balanced test set:')\n",
    "clf_metrics(bal_y, pred_test, score_test)"
   ]
  },
  {
   "cell_type": "code",
   "execution_count": 46,
   "metadata": {},
   "outputs": [
    {
     "data": {
      "text/plain": [
       "array([1, 1, 1, 1, 1, 1, 1, 1, 1, 1, 1, 1, 1, 1, 1, 1, 1, 0, 1, 0, 1, 0,\n",
       "       1, 1, 0, 1, 1, 1, 1, 1, 1, 0, 0, 1, 1, 1, 1, 1, 1, 0, 0, 1, 1, 1,\n",
       "       1, 1, 1, 1, 1, 1, 1, 1, 1, 1, 1, 1, 1, 1, 1, 1, 0, 0, 0, 1, 1, 1,\n",
       "       0, 1, 1, 1, 1, 1, 0, 1, 1, 0, 1, 1, 1, 1, 1, 1, 1, 1, 1, 1, 1, 1,\n",
       "       1, 1, 0, 0, 1, 1, 1, 1, 1, 1, 0, 0, 1, 1, 0, 1, 1, 1, 0, 1, 1, 1,\n",
       "       1, 1, 0, 1, 1, 0, 1, 0, 1, 1, 1, 0, 0, 1, 1, 0, 0, 0, 0, 0, 0, 0,\n",
       "       0, 0, 0, 1, 0, 1, 0, 0, 0, 0, 0, 1, 0, 0, 0, 0, 1, 0, 0, 0, 1, 1,\n",
       "       0, 0, 0, 1, 0, 0, 0, 1, 1, 1, 1, 0, 1, 1, 1, 0, 0, 1, 0, 0, 1, 1,\n",
       "       0, 0, 1, 0, 0, 1, 0, 1, 1, 1, 0, 0, 0, 0, 1, 0, 0, 1, 0, 0, 0, 1,\n",
       "       0, 1, 0, 0, 0, 1, 1, 0, 1, 0, 1, 0, 1, 1, 0, 1, 1, 0, 0, 0, 1, 0,\n",
       "       1, 0, 0, 0, 1, 0, 1, 1, 0, 0, 0, 0, 1, 0, 1, 1, 0, 0, 0, 0, 0, 1,\n",
       "       0, 1, 0, 0, 0, 0, 0, 0])"
      ]
     },
     "execution_count": 46,
     "metadata": {},
     "output_type": "execute_result"
    }
   ],
   "source": [
    "#label_prediction on test set\n",
    "pred_test"
   ]
  },
  {
   "cell_type": "code",
   "execution_count": null,
   "metadata": {},
   "outputs": [],
   "source": [
    "#Store it to csv file\n"
   ]
  }
 ],
 "metadata": {
  "kernelspec": {
   "display_name": "Python 3",
   "language": "python",
   "name": "python3"
  },
  "language_info": {
   "codemirror_mode": {
    "name": "ipython",
    "version": 3
   },
   "file_extension": ".py",
   "mimetype": "text/x-python",
   "name": "python",
   "nbconvert_exporter": "python",
   "pygments_lexer": "ipython3",
   "version": "3.7.6"
  }
 },
 "nbformat": 4,
 "nbformat_minor": 2
}
