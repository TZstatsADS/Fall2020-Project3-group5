{
 "cells": [
  {
   "cell_type": "markdown",
   "metadata": {
    "id": "JBKB5bkgvwuM"
   },
   "source": [
    "# **Part 0** Python Environment Set-up\n",
    "\n",
    "This project is completed using Python. There are two ways of setting up the Python environment.\n",
    "\n",
    "1. Colab (on virtual machine)\n",
    "  * Set up Google Colaboratory on lionmail drive, upload the notebook and open it with Colab. \n",
    "  * If you choose to run our notebook on Colab, there is no need install any library. \n",
    "  * Before training the model, please upload `fiducial_pt_full.pkl` and `label_full.pkl`.\n",
    "\n",
    "2. Jupyter Notebook (on local machine)\n",
    "  * Download Anaconda from https://www.anaconda.com/products/individual\n",
    "  * Open the notebook with Jupyter Notebook\n",
    "  * Install libraries that do not come with Anaconda: `!pip install tensorflow`, `!pip install scikit-learn`, `!pip install tensorflow_hub`. (or any other required libraries)"
   ]
  },
  {
   "cell_type": "markdown",
   "metadata": {
    "id": "q0XLA10S_HBE"
   },
   "source": [
    "# **Part I** Data Pre-Processing\n",
    "\n",
    "## 1. Read fiducial point and save as pickle files"
   ]
  },
  {
   "cell_type": "code",
   "execution_count": 1,
   "metadata": {
    "id": "kSzwx4YP_B3m"
   },
   "outputs": [],
   "source": [
    "import scipy.io\n",
    "import os\n",
    "import numpy as np\n",
    "import pandas as pd\n",
    "import pickle\n",
    "import tensorflow as tf\n",
    "import warnings\n",
    "warnings.filterwarnings('ignore')"
   ]
  },
  {
   "cell_type": "code",
   "execution_count": 2,
   "metadata": {
    "id": "gnEwHoeEAdE6"
   },
   "outputs": [],
   "source": [
    "def get_points(file):\n",
    "    '''load matlab style file'''\n",
    "    mat = scipy.io.loadmat(file)\n",
    "    return mat[list(mat.keys())[3]]\n",
    "\n",
    "def pickle_save(filename, content):\n",
    "    '''save the file into python pickle object under output folder'''\n",
    "    with open(filename, 'wb') as f:\n",
    "        pickle.dump(content, f)\n",
    "        \n",
    "def pickle_open(filename):\n",
    "    '''load the pickle file'''\n",
    "    with open(filename, 'rb') as f:\n",
    "        content = pickle.load(f)\n",
    "    return content"
   ]
  },
  {
   "cell_type": "code",
   "execution_count": null,
   "metadata": {
    "colab": {
     "base_uri": "https://localhost:8080/"
    },
    "id": "yLhP7RYGkQmn",
    "outputId": "c84f9a21-139a-43fe-e3ea-40d2936998f4"
   },
   "outputs": [
    {
     "name": "stdout",
     "output_type": "stream",
     "text": [
      "Mounted at /content/drive\n"
     ]
    }
   ],
   "source": [
    "## No need to run this cell if pickle files are uploaded\n",
    "\n",
    "from google.colab import drive\n",
    "drive.mount('/content/drive')"
   ]
  },
  {
   "cell_type": "code",
   "execution_count": null,
   "metadata": {
    "id": "gjU4mHoIR6Im"
   },
   "outputs": [],
   "source": [
    "## No need to run this cell if pickle files are uploaded\n",
    "\n",
    "# read mat format file into pickle\n",
    "dir_list = os.listdir('drive/My Drive/points')\n",
    "dir_list.sort()\n",
    "\n",
    "fiducial_pt_full = np.stack((get_points('drive/My Drive/points/'+filename) for filename in dir_list))\n",
    "label_full = pd.read_csv('label.csv')['label']\n",
    "\n",
    "# save the data into pickle files, so that we don't need to read raw data everytime\n",
    "pickle_save('fiducial_pt_full', fiducial_pt_full)\n",
    "pickle_save('label_full', label_full)"
   ]
  },
  {
   "cell_type": "markdown",
   "metadata": {
    "id": "ty7oFgT3BKD_"
   },
   "source": [
    "## 2. Train-test split"
   ]
  },
  {
   "cell_type": "code",
   "execution_count": 3,
   "metadata": {
    "id": "FeRzNmVXBJiB"
   },
   "outputs": [],
   "source": [
    "from sklearn.model_selection import train_test_split\n",
    "\n",
    "# load data from pickle oject\n",
    "fiducial_pt_full = pickle_open('fiducial_pt_full.pkl')\n",
    "label_full = pickle_open('label_full.pkl')\n",
    "\n",
    "## Note: randomly split into training & test set with seed 42\n",
    "X_train, X_test, y_train, y_test = train_test_split(fiducial_pt_full, label_full, test_size=0.2, random_state=42)"
   ]
  },
  {
   "cell_type": "code",
   "execution_count": 4,
   "metadata": {
    "colab": {
     "base_uri": "https://localhost:8080/"
    },
    "id": "AfHq5diqoH9V",
    "outputId": "7286478b-3d30-4037-a8b7-bd6aed631b20"
   },
   "outputs": [
    {
     "data": {
      "text/plain": [
       "((2400, 78, 2), (600,))"
      ]
     },
     "execution_count": 4,
     "metadata": {
      "tags": []
     },
     "output_type": "execute_result"
    }
   ],
   "source": [
    "X_train.shape, y_test.shape"
   ]
  },
  {
   "cell_type": "markdown",
   "metadata": {
    "id": "OpPygBDMBZiY"
   },
   "source": [
    "## 3. Feature Construction\n",
    "\n",
    "Keep the fiducial points on eyes, eyebrows,and lips. Compute the pairwise distances."
   ]
  },
  {
   "cell_type": "code",
   "execution_count": 10,
   "metadata": {
    "colab": {
     "base_uri": "https://localhost:8080/"
    },
    "id": "1Fca7SvdBIuh",
    "outputId": "d44490aa-33f5-4b39-b68f-cfc2d470cdcb"
   },
   "outputs": [
    {
     "name": "stdout",
     "output_type": "stream",
     "text": [
      "Baseline training feature extraction takes 1.049 seconds.\n",
      "Baseline training feature extraction takes 0.263 seconds.\n"
     ]
    }
   ],
   "source": [
    "from sklearn.metrics import pairwise_distances\n",
    "import time\n",
    "\n",
    "# extract pairwise distance as features (78*77/2=3003 features)\n",
    "# nrow=number of records of the dataset; ncol=3003\n",
    "# keep 48 points on lips, eyes, and eyebrows, 48*47\n",
    "\n",
    "start_time = time.time()\n",
    "feature_train = np.stack((pairwise_distances(X_train[i])[np.triu_indices(78, k = 1)] for i in range(X_train.shape[0])))\n",
    "print('Baseline training feature extraction takes %s seconds.'%round((time.time()-start_time),3))\n",
    "\n",
    "start_time = time.time()\n",
    "feature_test = np.stack((pairwise_distances(X_test[i])[np.triu_indices(78, k = 1)] for i in range(X_test.shape[0])))\n",
    "print('Baseline training feature extraction takes %s seconds.'%round((time.time()-start_time),3))\n"
   ]
  },
  {
   "cell_type": "markdown",
   "metadata": {
    "id": "YdJv2OObEju-"
   },
   "source": [
    "# **Part II** Baseline Model: GBT\n",
    "\n",
    "We optimized the baseline model with tuned parameters. Referencing main_draft.ipynb for more information."
   ]
  },
  {
   "cell_type": "code",
   "execution_count": 11,
   "metadata": {
    "id": "xBue719XFNI7"
   },
   "outputs": [],
   "source": [
    "from sklearn.ensemble import GradientBoostingClassifier\n",
    "from sklearn.metrics import precision_score, recall_score, roc_auc_score, accuracy_score\n",
    "import time\n",
    "\n",
    "# define function to report metrics for baseline model\n",
    "def clf_metrics(y_true, y_pred, y_score):\n",
    "    accuracy = accuracy_score(y_true, y_pred)\n",
    "    \n",
    "    # reweight dataset in order to estimate the accuracy of \"balanced\" data set\n",
    "    weight_data = np.zeros(len(y_true))\n",
    "    for v in np.unique(y_true):\n",
    "        weight_data[y_true==v] = 0.5*len(y_true)/np.sum(y_true==v)\n",
    "    weighted_acc = np.sum(weight_data * (y_pred==y_true)/np.sum(weight_data))\n",
    "    \n",
    "    precision = precision_score(y_true, y_pred)\n",
    "    recall = recall_score(y_true, y_pred)\n",
    "    auc = roc_auc_score(y_true, y_score, average='weighted')\n",
    "    \n",
    "    df = pd.DataFrame({'accuracy':[accuracy],'weighted acc':[weighted_acc],\n",
    "                       'precision': [precision], 'recall': [recall], 'auc':[auc]})\n",
    "    print(df)"
   ]
  },
  {
   "cell_type": "code",
   "execution_count": 34,
   "metadata": {
    "colab": {
     "base_uri": "https://localhost:8080/"
    },
    "id": "QoenUNbBGlK_",
    "outputId": "7b04b5f8-7ea4-4ecc-e691-6d6388adf5f3"
   },
   "outputs": [
    {
     "name": "stdout",
     "output_type": "stream",
     "text": [
      "Training time cost 7.13 s\n"
     ]
    }
   ],
   "source": [
    "# assign weights for data to remedy the imbalanced training data\n",
    "weights2 = np.zeros(len(y_train))\n",
    "weights2[y_train == 0] = 1\n",
    "weights2[y_train == 1] = 10\n",
    "\n",
    "gbt_baseline = GradientBoostingClassifier(learning_rate=0.1, n_estimators=150,\n",
    "                                      max_depth=4, min_samples_split=2, min_samples_leaf=1, \n",
    "                                      subsample=0.8,max_features='sqrt', random_state=242)\n",
    "start_baseline = time.time()\n",
    "gbt_baseline.fit(feature_train, y_train, sample_weight = weights2)\n",
    "end_baseline = time.time()\n",
    "print('Training time cost {:.2f} s'.format(end_baseline-start_baseline))"
   ]
  },
  {
   "cell_type": "code",
   "execution_count": 36,
   "metadata": {
    "id": "uqVP7G9DGnUh"
   },
   "outputs": [],
   "source": [
    "# store the trained model\n",
    "pickle_save('gbt_baseline.pkl', gbt_baseline)"
   ]
  },
  {
   "cell_type": "code",
   "execution_count": 37,
   "metadata": {
    "id": "y6LulSgLTN0L"
   },
   "outputs": [],
   "source": [
    "# load the trained model from file\n",
    "gbt_baseline = pickle_open('gbt_baseline.pkl')"
   ]
  },
  {
   "cell_type": "code",
   "execution_count": 18,
   "metadata": {
    "colab": {
     "base_uri": "https://localhost:8080/"
    },
    "id": "eT9s054xG3mN",
    "outputId": "1b239a8a-033d-44ae-d6d7-f916e90b00ba"
   },
   "outputs": [
    {
     "data": {
      "text/plain": [
       "{'ccp_alpha': 0.0,\n",
       " 'criterion': 'friedman_mse',\n",
       " 'init': None,\n",
       " 'learning_rate': 0.1,\n",
       " 'loss': 'deviance',\n",
       " 'max_depth': 4,\n",
       " 'max_features': 'sqrt',\n",
       " 'max_leaf_nodes': None,\n",
       " 'min_impurity_decrease': 0.0,\n",
       " 'min_impurity_split': None,\n",
       " 'min_samples_leaf': 1,\n",
       " 'min_samples_split': 2,\n",
       " 'min_weight_fraction_leaf': 0.0,\n",
       " 'n_estimators': 150,\n",
       " 'n_iter_no_change': None,\n",
       " 'presort': 'deprecated',\n",
       " 'random_state': 299,\n",
       " 'subsample': 0.8,\n",
       " 'tol': 0.0001,\n",
       " 'validation_fraction': 0.1,\n",
       " 'verbose': 0,\n",
       " 'warm_start': False}"
      ]
     },
     "execution_count": 18,
     "metadata": {
      "tags": []
     },
     "output_type": "execute_result"
    }
   ],
   "source": [
    "gbt_baseline.get_params()"
   ]
  },
  {
   "cell_type": "code",
   "execution_count": 90,
   "metadata": {
    "colab": {
     "base_uri": "https://localhost:8080/"
    },
    "id": "JF8PAyavG3bM",
    "outputId": "dde8dd95-b384-401b-b2e1-4d75c7e0404c"
   },
   "outputs": [
    {
     "name": "stdout",
     "output_type": "stream",
     "text": [
      "Training set:\n",
      "   accuracy  weighted acc  precision  recall       auc\n",
      "0  0.964167      0.977846   0.842202     1.0  0.999891\n",
      "\n",
      "\n",
      "Test set:\n",
      "   accuracy  weighted acc  precision    recall       auc\n",
      "0  0.778333      0.704997   0.519737  0.568345  0.789447\n",
      "\n",
      "\n",
      "Testing takes 0.02 seconds\n"
     ]
    }
   ],
   "source": [
    "# Gradient boosting baseline model performance\n",
    "pred_train = gbt_baseline.predict(feature_train)\n",
    "score_train = gbt_baseline.decision_function(feature_train)\n",
    "print('Training set:')\n",
    "clf_metrics(y_train, pred_train, score_train)\n",
    "print('\\n')\n",
    "\n",
    "test_start_baseline = time.time()\n",
    "pred_test = gbt_baseline.predict(feature_test)\n",
    "score_test = gbt_baseline.decision_function(feature_test)\n",
    "test_end_baseline = time.time()\n",
    "print('Test set:')\n",
    "clf_metrics(y_test, pred_test, score_test)\n",
    "print('\\n')\n",
    "print('Testing takes {:.2f} seconds'.format(test_end_baseline-test_start_baseline))"
   ]
  },
  {
   "cell_type": "markdown",
   "metadata": {
    "id": "DaUW4VxWmedq"
   },
   "source": [
    "# **Part III** Our Model: Densely Connected Neural Network\n",
    "\n",
    "## 1. Feature engineering"
   ]
  },
  {
   "cell_type": "code",
   "execution_count": 39,
   "metadata": {
    "colab": {
     "base_uri": "https://localhost:8080/"
    },
    "id": "39Aqp_oro4OP",
    "outputId": "6aa643dc-f986-4e6a-db84-16834eced576"
   },
   "outputs": [
    {
     "name": "stdout",
     "output_type": "stream",
     "text": [
      "Training feature extraction takes 1.059 seconds.\n",
      "Test feature extraction takes 0.295 seconds.\n"
     ]
    }
   ],
   "source": [
    "import warnings\n",
    "warnings.filterwarnings('ignore')\n",
    "start_time = time.time()\n",
    "feature_train = np.stack((pairwise_distances(X_train[i])[np.triu_indices(78, k = 1)] for i in range(X_train.shape[0])))\n",
    "print('Training feature extraction takes %s seconds.'%round((time.time()-start_time),3))\n",
    "\n",
    "start_time = time.time()\n",
    "feature_test = np.stack((pairwise_distances(X_test[i])[np.triu_indices(78, k = 1)] for i in range(X_test.shape[0])))\n",
    "print('Test feature extraction takes %s seconds.'%round((time.time()-start_time),3))"
   ]
  },
  {
   "cell_type": "markdown",
   "metadata": {
    "id": "yJ5aiq9apUTE"
   },
   "source": [
    "## 2. Oversampling the minority class"
   ]
  },
  {
   "cell_type": "code",
   "execution_count": 40,
   "metadata": {
    "id": "3iWKMlNW_rCy"
   },
   "outputs": [],
   "source": [
    "y_train = np.array(y_train)\n",
    "y_test = np.array(y_test)\n",
    "\n",
    "bool_train_labels = y_train != 0\n",
    "pos_features = feature_train[bool_train_labels]\n",
    "neg_features = feature_train[~bool_train_labels]\n",
    "\n",
    "pos_labels = y_train[bool_train_labels]\n",
    "neg_labels = y_train[~bool_train_labels]"
   ]
  },
  {
   "cell_type": "code",
   "execution_count": 41,
   "metadata": {
    "colab": {
     "base_uri": "https://localhost:8080/"
    },
    "id": "nWi3n6l-_4go",
    "outputId": "2f4e931b-f8e2-4fb9-eb21-b13b35a23d6d"
   },
   "outputs": [
    {
     "data": {
      "text/plain": [
       "((459,), (1941,))"
      ]
     },
     "execution_count": 41,
     "metadata": {
      "tags": []
     },
     "output_type": "execute_result"
    }
   ],
   "source": [
    "pos_labels.shape, neg_labels.shape"
   ]
  },
  {
   "cell_type": "code",
   "execution_count": 78,
   "metadata": {
    "colab": {
     "base_uri": "https://localhost:8080/"
    },
    "id": "L5nYGpwf_08s",
    "outputId": "116e4cba-cc95-4a53-b5e3-f9018a1af287"
   },
   "outputs": [
    {
     "data": {
      "text/plain": [
       "(1941, 3003)"
      ]
     },
     "execution_count": 78,
     "metadata": {
      "tags": []
     },
     "output_type": "execute_result"
    }
   ],
   "source": [
    "# Balance the dataset manually by choosing the right number of random indices from the positive examples\n",
    "RANDOM_SEED = 111\n",
    "np.random.seed(RANDOM_SEED)\n",
    "\n",
    "ids = np.arange(len(pos_features))\n",
    "choices = np.random.choice(ids, len(neg_features))\n",
    "\n",
    "res_pos_features = pos_features[choices]\n",
    "res_pos_labels = pos_labels[choices]\n",
    "\n",
    "res_pos_features.shape"
   ]
  },
  {
   "cell_type": "code",
   "execution_count": 79,
   "metadata": {
    "colab": {
     "base_uri": "https://localhost:8080/"
    },
    "id": "UPv3gwE3_88V",
    "outputId": "c7af3d29-093e-4439-b92c-df3f2e0cece2"
   },
   "outputs": [
    {
     "data": {
      "text/plain": [
       "((3882, 3003), (3882,))"
      ]
     },
     "execution_count": 79,
     "metadata": {
      "tags": []
     },
     "output_type": "execute_result"
    }
   ],
   "source": [
    "resampled_features = np.concatenate([res_pos_features, neg_features], axis=0)\n",
    "resampled_labels = np.concatenate([res_pos_labels, neg_labels], axis=0)\n",
    "\n",
    "order = np.arange(len(resampled_labels))\n",
    "np.random.shuffle(order)\n",
    "resampled_features = resampled_features[order]\n",
    "resampled_labels = resampled_labels[order]\n",
    "\n",
    "resampled_features.shape, resampled_labels.shape"
   ]
  },
  {
   "cell_type": "markdown",
   "metadata": {
    "id": "6P4uhPrupww9"
   },
   "source": [
    "## 3. Model Training"
   ]
  },
  {
   "cell_type": "code",
   "execution_count": 80,
   "metadata": {
    "colab": {
     "base_uri": "https://localhost:8080/"
    },
    "id": "Gz9coaRGpoqB",
    "outputId": "e73ece93-e9f0-46c7-915e-e5c33b9a5a39"
   },
   "outputs": [
    {
     "name": "stdout",
     "output_type": "stream",
     "text": [
      "Model: \"sequential_7\"\n",
      "_________________________________________________________________\n",
      "Layer (type)                 Output Shape              Param #   \n",
      "=================================================================\n",
      "batch_normalization_7 (Batch (None, 3003)              12012     \n",
      "_________________________________________________________________\n",
      "dense_56 (Dense)             (None, 1024)              3076096   \n",
      "_________________________________________________________________\n",
      "dropout_35 (Dropout)         (None, 1024)              0         \n",
      "_________________________________________________________________\n",
      "dense_57 (Dense)             (None, 512)               524800    \n",
      "_________________________________________________________________\n",
      "dropout_36 (Dropout)         (None, 512)               0         \n",
      "_________________________________________________________________\n",
      "dense_58 (Dense)             (None, 256)               131328    \n",
      "_________________________________________________________________\n",
      "dense_59 (Dense)             (None, 128)               32896     \n",
      "_________________________________________________________________\n",
      "dropout_37 (Dropout)         (None, 128)               0         \n",
      "_________________________________________________________________\n",
      "dense_60 (Dense)             (None, 64)                8256      \n",
      "_________________________________________________________________\n",
      "dropout_38 (Dropout)         (None, 64)                0         \n",
      "_________________________________________________________________\n",
      "dense_61 (Dense)             (None, 32)                2080      \n",
      "_________________________________________________________________\n",
      "dropout_39 (Dropout)         (None, 32)                0         \n",
      "_________________________________________________________________\n",
      "dense_62 (Dense)             (None, 16)                528       \n",
      "_________________________________________________________________\n",
      "dense_63 (Dense)             (None, 1)                 17        \n",
      "=================================================================\n",
      "Total params: 3,788,013\n",
      "Trainable params: 3,782,007\n",
      "Non-trainable params: 6,006\n",
      "_________________________________________________________________\n"
     ]
    }
   ],
   "source": [
    "from tensorflow import keras\n",
    "\n",
    "METRICS = [\n",
    "           keras.metrics.BinaryAccuracy(name='accuracy'),\n",
    "           keras.metrics.AUC(name='auc'),\n",
    "           keras.metrics.Precision(name='precision'),\n",
    "           keras.metrics.Recall(name='recall')\n",
    "]\n",
    "INPUT_SHAPE=[3003]\n",
    "model1 = keras.Sequential([\n",
    "                           keras.layers.BatchNormalization(input_shape=INPUT_SHAPE, \n",
    "                                                           momentum=0.80),\n",
    "                           keras.layers.Dense(1024, activation='relu',\n",
    "                                              kernel_initializer=keras.initializers.glorot_normal(seed=99)),\n",
    "                           keras.layers.Dropout(0.3, seed=4),\n",
    "                           keras.layers.Dense(512, activation='relu',\n",
    "                                              kernel_initializer=keras.initializers.glorot_normal(seed=99)),\n",
    "                           keras.layers.Dropout(0.3, seed=4),\n",
    "                           keras.layers.Dense(256, activation='relu',\n",
    "                                              kernel_initializer=keras.initializers.glorot_normal(seed=99)),\n",
    "                           keras.layers.Dense(128, activation='relu',\n",
    "                                              kernel_initializer=keras.initializers.glorot_normal(seed=99)),\n",
    "                           keras.layers.Dropout(0.3, seed=4),\n",
    "                           keras.layers.Dense(64, activation='relu',\n",
    "                                              kernel_initializer=keras.initializers.glorot_normal(seed=99)),\n",
    "                           keras.layers.Dropout(0.25, seed=4),\n",
    "                           keras.layers.Dense(32, activation='relu',\n",
    "                                              kernel_initializer=keras.initializers.glorot_normal(seed=99)),\n",
    "                           keras.layers.Dropout(0.1, seed=4),\n",
    "                           keras.layers.Dense(16, activation='relu',\n",
    "                                              kernel_initializer=keras.initializers.glorot_normal(seed=99)),\n",
    "                           keras.layers.Dense(1, activation='sigmoid')\n",
    "])\n",
    "\n",
    "model1.compile(\n",
    "      #optimizer=keras.optimizers.RMSprop(),\n",
    "      optimizer=keras.optimizers.Adam(lr=0.001),\n",
    "      loss=keras.losses.BinaryCrossentropy(),\n",
    "      metrics=METRICS)\n",
    "\n",
    "early_stopping = tf.keras.callbacks.EarlyStopping(  \n",
    "    monitor='val_auc', \n",
    "    verbose=1,\n",
    "    patience=5,\n",
    "    mode='max',\n",
    "    restore_best_weights=True)\n",
    "\n",
    "model1.summary()"
   ]
  },
  {
   "cell_type": "code",
   "execution_count": 81,
   "metadata": {
    "colab": {
     "base_uri": "https://localhost:8080/"
    },
    "id": "S8pvK59_pvS1",
    "outputId": "7df8987c-40d8-4139-ae9f-3be69c29743d"
   },
   "outputs": [
    {
     "name": "stdout",
     "output_type": "stream",
     "text": [
      "Epoch 1/100\n",
      "49/49 [==============================] - 3s 71ms/step - loss: 0.8279 - accuracy: 0.4979 - auc: 0.4973 - precision: 0.4945 - recall: 0.4333 - val_loss: 0.6949 - val_accuracy: 0.5084 - val_auc: 0.5181 - val_precision: 0.5097 - val_recall: 0.9924\n",
      "Epoch 2/100\n",
      "49/49 [==============================] - 3s 68ms/step - loss: 0.7238 - accuracy: 0.5089 - auc: 0.5164 - precision: 0.5058 - recall: 0.5376 - val_loss: 0.6904 - val_accuracy: 0.5508 - val_auc: 0.5670 - val_precision: 0.5373 - val_recall: 0.8715\n",
      "Epoch 3/100\n",
      "49/49 [==============================] - 3s 68ms/step - loss: 0.7157 - accuracy: 0.4957 - auc: 0.5006 - precision: 0.4937 - recall: 0.5544 - val_loss: 0.6913 - val_accuracy: 0.5187 - val_auc: 0.5410 - val_precision: 0.5228 - val_recall: 0.6650\n",
      "Epoch 4/100\n",
      "49/49 [==============================] - 3s 68ms/step - loss: 0.7082 - accuracy: 0.5192 - auc: 0.5149 - precision: 0.5147 - recall: 0.5784 - val_loss: 0.6911 - val_accuracy: 0.5135 - val_auc: 0.5684 - val_precision: 0.5629 - val_recall: 0.2141\n",
      "Epoch 5/100\n",
      "49/49 [==============================] - 3s 68ms/step - loss: 0.7004 - accuracy: 0.5069 - auc: 0.5004 - precision: 0.5039 - recall: 0.5389 - val_loss: 0.6919 - val_accuracy: 0.5354 - val_auc: 0.5555 - val_precision: 0.5308 - val_recall: 0.7809\n",
      "Epoch 6/100\n",
      "49/49 [==============================] - 3s 70ms/step - loss: 0.6962 - accuracy: 0.5176 - auc: 0.5260 - precision: 0.5145 - recall: 0.5278 - val_loss: 0.6947 - val_accuracy: 0.5225 - val_auc: 0.5110 - val_precision: 0.5489 - val_recall: 0.3678\n",
      "Epoch 7/100\n",
      "49/49 [==============================] - 3s 69ms/step - loss: 0.6937 - accuracy: 0.5488 - auc: 0.5683 - precision: 0.5467 - recall: 0.5421 - val_loss: 0.6682 - val_accuracy: 0.6165 - val_auc: 0.6574 - val_precision: 0.6410 - val_recall: 0.5668\n",
      "Epoch 8/100\n",
      "49/49 [==============================] - 3s 69ms/step - loss: 0.6789 - accuracy: 0.5820 - auc: 0.6086 - precision: 0.5712 - recall: 0.6392 - val_loss: 0.6428 - val_accuracy: 0.6281 - val_auc: 0.6757 - val_precision: 0.6280 - val_recall: 0.6675\n",
      "Epoch 9/100\n",
      "49/49 [==============================] - 3s 68ms/step - loss: 0.6507 - accuracy: 0.6006 - auc: 0.6450 - precision: 0.5836 - recall: 0.6872 - val_loss: 0.6228 - val_accuracy: 0.6757 - val_auc: 0.7364 - val_precision: 0.6436 - val_recall: 0.8186\n",
      "Epoch 10/100\n",
      "49/49 [==============================] - 3s 69ms/step - loss: 0.6237 - accuracy: 0.6319 - auc: 0.6931 - precision: 0.6206 - recall: 0.6684 - val_loss: 0.5970 - val_accuracy: 0.6834 - val_auc: 0.7505 - val_precision: 0.6332 - val_recall: 0.9043\n",
      "Epoch 11/100\n",
      "49/49 [==============================] - 3s 69ms/step - loss: 0.6018 - accuracy: 0.6631 - auc: 0.7374 - precision: 0.6479 - recall: 0.7066 - val_loss: 0.5691 - val_accuracy: 0.6602 - val_auc: 0.7758 - val_precision: 0.6157 - val_recall: 0.8917\n",
      "Epoch 12/100\n",
      "49/49 [==============================] - 3s 68ms/step - loss: 0.5616 - accuracy: 0.6953 - auc: 0.7781 - precision: 0.6728 - recall: 0.7539 - val_loss: 0.5432 - val_accuracy: 0.7079 - val_auc: 0.8079 - val_precision: 0.7607 - val_recall: 0.6247\n",
      "Epoch 13/100\n",
      "49/49 [==============================] - 3s 69ms/step - loss: 0.5282 - accuracy: 0.7192 - auc: 0.8069 - precision: 0.7005 - recall: 0.7604 - val_loss: 0.5991 - val_accuracy: 0.7143 - val_auc: 0.7621 - val_precision: 0.6606 - val_recall: 0.9068\n",
      "Epoch 14/100\n",
      "49/49 [==============================] - 3s 70ms/step - loss: 0.4969 - accuracy: 0.7456 - auc: 0.8329 - precision: 0.7116 - recall: 0.8212 - val_loss: 0.4748 - val_accuracy: 0.7838 - val_auc: 0.8576 - val_precision: 0.7657 - val_recall: 0.8312\n",
      "Epoch 15/100\n",
      "49/49 [==============================] - 3s 68ms/step - loss: 0.4696 - accuracy: 0.7778 - auc: 0.8582 - precision: 0.7485 - recall: 0.8329 - val_loss: 0.4545 - val_accuracy: 0.8018 - val_auc: 0.8613 - val_precision: 0.7845 - val_recall: 0.8438\n",
      "Epoch 16/100\n",
      "49/49 [==============================] - 3s 69ms/step - loss: 0.4723 - accuracy: 0.7646 - auc: 0.8551 - precision: 0.7634 - recall: 0.7630 - val_loss: 0.4309 - val_accuracy: 0.8069 - val_auc: 0.8805 - val_precision: 0.7826 - val_recall: 0.8615\n",
      "Epoch 17/100\n",
      "49/49 [==============================] - 3s 68ms/step - loss: 0.4494 - accuracy: 0.7942 - auc: 0.8732 - precision: 0.7698 - recall: 0.8361 - val_loss: 0.4209 - val_accuracy: 0.8198 - val_auc: 0.8827 - val_precision: 0.7800 - val_recall: 0.9018\n",
      "Epoch 18/100\n",
      "49/49 [==============================] - 3s 68ms/step - loss: 0.4163 - accuracy: 0.8068 - auc: 0.8865 - precision: 0.7763 - recall: 0.8588 - val_loss: 0.3918 - val_accuracy: 0.8366 - val_auc: 0.8980 - val_precision: 0.8111 - val_recall: 0.8866\n",
      "Epoch 19/100\n",
      "49/49 [==============================] - 3s 67ms/step - loss: 0.4010 - accuracy: 0.8161 - auc: 0.8946 - precision: 0.7901 - recall: 0.8582 - val_loss: 0.4333 - val_accuracy: 0.7773 - val_auc: 0.8922 - val_precision: 0.8237 - val_recall: 0.7179\n",
      "Epoch 20/100\n",
      "49/49 [==============================] - 3s 68ms/step - loss: 0.4033 - accuracy: 0.8148 - auc: 0.8951 - precision: 0.7739 - recall: 0.8867 - val_loss: 0.4041 - val_accuracy: 0.8069 - val_auc: 0.8934 - val_precision: 0.7947 - val_recall: 0.8388\n",
      "Epoch 21/100\n",
      "49/49 [==============================] - 3s 67ms/step - loss: 0.3890 - accuracy: 0.8209 - auc: 0.9025 - precision: 0.7930 - recall: 0.8659 - val_loss: 0.4003 - val_accuracy: 0.8237 - val_auc: 0.9038 - val_precision: 0.7664 - val_recall: 0.9421\n",
      "Epoch 22/100\n",
      "49/49 [==============================] - 3s 68ms/step - loss: 0.3613 - accuracy: 0.8309 - auc: 0.9184 - precision: 0.8097 - recall: 0.8627 - val_loss: 0.3636 - val_accuracy: 0.8430 - val_auc: 0.9131 - val_precision: 0.8146 - val_recall: 0.8967\n",
      "Epoch 23/100\n",
      "49/49 [==============================] - 3s 67ms/step - loss: 0.3459 - accuracy: 0.8409 - auc: 0.9214 - precision: 0.8121 - recall: 0.8847 - val_loss: 0.3595 - val_accuracy: 0.8507 - val_auc: 0.9247 - val_precision: 0.8022 - val_recall: 0.9395\n",
      "Epoch 24/100\n",
      "49/49 [==============================] - 3s 69ms/step - loss: 0.3443 - accuracy: 0.8464 - auc: 0.9260 - precision: 0.8166 - recall: 0.8912 - val_loss: 0.4439 - val_accuracy: 0.7928 - val_auc: 0.8605 - val_precision: 0.7389 - val_recall: 0.9194\n",
      "Epoch 25/100\n",
      "49/49 [==============================] - 3s 70ms/step - loss: 0.3540 - accuracy: 0.8303 - auc: 0.9187 - precision: 0.8065 - recall: 0.8666 - val_loss: 0.3627 - val_accuracy: 0.8237 - val_auc: 0.9156 - val_precision: 0.8009 - val_recall: 0.8715\n",
      "Epoch 26/100\n",
      "49/49 [==============================] - 3s 69ms/step - loss: 0.3199 - accuracy: 0.8548 - auc: 0.9334 - precision: 0.8314 - recall: 0.8880 - val_loss: 0.3590 - val_accuracy: 0.8288 - val_auc: 0.9162 - val_precision: 0.7661 - val_recall: 0.9572\n",
      "Epoch 27/100\n",
      "49/49 [==============================] - 3s 69ms/step - loss: 0.3082 - accuracy: 0.8612 - auc: 0.9389 - precision: 0.8322 - recall: 0.9028 - val_loss: 0.3082 - val_accuracy: 0.8674 - val_auc: 0.9416 - val_precision: 0.8789 - val_recall: 0.8589\n",
      "Epoch 28/100\n",
      "49/49 [==============================] - 3s 66ms/step - loss: 0.3053 - accuracy: 0.8567 - auc: 0.9407 - precision: 0.8332 - recall: 0.8899 - val_loss: 0.3589 - val_accuracy: 0.8546 - val_auc: 0.9123 - val_precision: 0.8034 - val_recall: 0.9471\n",
      "Epoch 29/100\n",
      "49/49 [==============================] - 3s 67ms/step - loss: 0.3077 - accuracy: 0.8576 - auc: 0.9398 - precision: 0.8352 - recall: 0.8892 - val_loss: 0.3262 - val_accuracy: 0.8739 - val_auc: 0.9363 - val_precision: 0.8453 - val_recall: 0.9219\n",
      "Epoch 30/100\n",
      "49/49 [==============================] - 3s 66ms/step - loss: 0.2815 - accuracy: 0.8776 - auc: 0.9508 - precision: 0.8665 - recall: 0.8912 - val_loss: 0.3431 - val_accuracy: 0.8468 - val_auc: 0.9267 - val_precision: 0.8697 - val_recall: 0.8237\n",
      "Epoch 31/100\n",
      "49/49 [==============================] - 3s 66ms/step - loss: 0.2816 - accuracy: 0.8741 - auc: 0.9504 - precision: 0.8556 - recall: 0.8983 - val_loss: 0.3289 - val_accuracy: 0.8430 - val_auc: 0.9389 - val_precision: 0.8917 - val_recall: 0.7884\n",
      "Epoch 32/100\n",
      "49/49 [==============================] - ETA: 0s - loss: 0.2933 - accuracy: 0.8680 - auc: 0.9464 - precision: 0.8607 - recall: 0.8763Restoring model weights from the end of the best epoch.\n",
      "49/49 [==============================] - 3s 67ms/step - loss: 0.2933 - accuracy: 0.8680 - auc: 0.9464 - precision: 0.8607 - recall: 0.8763 - val_loss: 0.3452 - val_accuracy: 0.8237 - val_auc: 0.9185 - val_precision: 0.8186 - val_recall: 0.8413\n",
      "Epoch 00032: early stopping\n",
      "training  model takes 110.419 seconds\n"
     ]
    }
   ],
   "source": [
    "start_NN = time.time()\n",
    "\n",
    "EPOCHS=100\n",
    "resampled_history = model1.fit(\n",
    "    resampled_features, resampled_labels,\n",
    "    epochs=EPOCHS,\n",
    "    batch_size=64, \n",
    "    callbacks = [early_stopping],\n",
    "    validation_split=0.2\n",
    "    )\n",
    "\n",
    "end_NN = time.time()\n",
    "print(\"training  model takes %s seconds\" % round((end_NN-start_NN),3))"
   ]
  },
  {
   "cell_type": "code",
   "execution_count": 82,
   "metadata": {
    "id": "1uiELtfXtoEB"
   },
   "outputs": [],
   "source": [
    "# calculate weighted accuracy on test data\n",
    "pred_prob = model1.predict(feature_test).reshape(len(y_test))\n",
    "pred_test = np.zeros(len(y_test))\n",
    "pred_test[pred_prob>0.5] = 1\n",
    "\n",
    "weight_test = np.zeros(len(y_test))\n",
    "for v in np.unique(y_test):\n",
    "    weight_test[y_test==v] = 0.5*len(y_test)/np.sum(y_test==v)\n",
    "weighted_acc = np.sum(weight_test * (pred_test==y_test)/np.sum(weight_test))"
   ]
  },
  {
   "cell_type": "code",
   "execution_count": 94,
   "metadata": {
    "colab": {
     "base_uri": "https://localhost:8080/"
    },
    "id": "0Ys1zuhEtErg",
    "outputId": "f666a666-ba2d-4621-a573-d91346cef088"
   },
   "outputs": [
    {
     "name": "stdout",
     "output_type": "stream",
     "text": [
      "19/19 [==============================] - 0s 11ms/step - loss: 0.4495 - accuracy: 0.8050 - auc: 0.8306 - precision: 0.5764 - recall: 0.5971\n",
      "Test accuracy: 0.81\n",
      "Test weighted accuracy: 0.732\n",
      "Test auc: 0.831\n",
      "Testing takes 0.30 seconds\n"
     ]
    }
   ],
   "source": [
    "test_start = time.time()\n",
    "eval = model1.evaluate(feature_test, y_test)\n",
    "test_end = time.time()\n",
    "print('Test accuracy: {:.2f}'.format(eval[1]))\n",
    "print('Test weighted accuracy: {:.3f}'.format(weighted_acc))\n",
    "print('Test auc: {:.3f}'.format(eval[2]))\n",
    "print('Testing takes {:.2f} seconds'.format(test_end-test_start))"
   ]
  },
  {
   "cell_type": "markdown",
   "metadata": {
    "id": "7Yw6a2KsvOKm"
   },
   "source": [
    "## 4. Visualization"
   ]
  },
  {
   "cell_type": "code",
   "execution_count": 48,
   "metadata": {
    "id": "6Y1kr-wcvNlo"
   },
   "outputs": [],
   "source": [
    "import matplotlib as mpl\n",
    "from matplotlib import pyplot as plt\n",
    "mpl.rcParams['figure.figsize'] = (12, 10)\n",
    "colors = plt.rcParams['axes.prop_cycle'].by_key()['color']\n",
    "\n",
    "def plot_metrics(history):\n",
    "  metrics =  ['auc', 'accuracy', 'precision', 'recall']\n",
    "  for n, metric in enumerate(metrics):\n",
    "    name = metric.replace(\"_\",\" \").capitalize()\n",
    "    plt.subplot(2,2,n+1)\n",
    "    plt.plot(history.epoch,  history.history[metric], color=colors[0], label='Train')\n",
    "    plt.plot(history.epoch, history.history['val_'+metric],\n",
    "             color=colors[0], linestyle=\"--\", label='Val')\n",
    "    plt.xlabel('Epoch')\n",
    "    plt.ylabel(name)\n",
    "    if metric == 'loss':\n",
    "      plt.ylim([0, plt.ylim()[1]])\n",
    "    elif metric == 'auc':\n",
    "      plt.ylim([0.8,1])\n",
    "    else:\n",
    "      plt.ylim([0,1])\n",
    "\n",
    "    plt.legend()"
   ]
  },
  {
   "cell_type": "code",
   "execution_count": 84,
   "metadata": {
    "colab": {
     "base_uri": "https://localhost:8080/",
     "height": 610
    },
    "id": "6D6En82kvapk",
    "outputId": "d17a050d-788c-46fc-9e09-e944c4864cf8"
   },
   "outputs": [
    {
     "data": {
      "image/png": "[encoded data removed]",
      "text/plain": [
       "<Figure size 864x720 with 4 Axes>"
      ]
     },
     "metadata": {
      "needs_background": "light",
      "tags": []
     },
     "output_type": "display_data"
    }
   ],
   "source": [
    "plot_metrics(resampled_history)"
   ]
  },
  {
   "cell_type": "markdown",
   "metadata": {
    "id": "fuei250KuVaA"
   },
   "source": [
    "## 5. Export the model"
   ]
  },
  {
   "cell_type": "code",
   "execution_count": 96,
   "metadata": {
    "id": "vxOex4yqtTNU"
   },
   "outputs": [],
   "source": [
    "export_path_keras = \"NNmodel.h5\"\n",
    "model1.save(export_path_keras)\n",
    "\n",
    "# load the exported model\n",
    "\n",
    "# NN_model = tf.keras.models.load_model(\n",
    "#   export_path_keras, \n",
    "#   custom_objects={'KerasLayer': hub.KerasLayer})"
   ]
  },
  {
   "cell_type": "markdown",
   "metadata": {
    "id": "zO1kNzQLwUVH"
   },
   "source": [
    "# **Part IV** Comparison\n",
    "\n",
    "The densely connected neural network is chosen from all the models we experimented for its running time and performance on accuracy and auc. The results and the links for other models we tried are shown below.\n",
    "\n",
    "| Model      |Accuracy| Weighted Accuracy |  AUC    |Train Time|Test time| Link|\n",
    "| ----------- | ----------- | ------    |------|------|------|------|\n",
    "| Baseline Model (GBT)      | 0.78|0.70       |  0.79   |7.13 s|0.02 s| [GBT](https://github.com/TZstatsADS/Fall2020-Project3-group5/blob/master/doc/baseline_model_tuned.ipynb)|\n",
    "| XGBoost   | 0.81|0.72       |  0.83|37.21 s |0.06 s |[XGBoost](https://github.com/TZstatsADS/Fall2020-Project3-group5/blob/master/doc/XGBoost_tuned_2.ipynb)|\n",
    "| Random Forest | 0.80|0.58 | 0.81 |8.38 s |0.23 s |[Random Forest](https://github.com/TZstatsADS/Fall2020-Project3-group5/blob/master/doc/random_forest.ipynb) |\n",
    "| SVM |0.66|0.71 |0.79|51.37 s |7.87 s |[SVM](https://github.com/TZstatsADS/Fall2020-Project3-group5/blob/master/doc/SVM.ipynb)|\n",
    "|Neural Networks|0.81|0.73 | 0.83|110.419 s|0.3 s| [NN](https://github.com/TZstatsADS/Fall2020-Project3-group5/blob/master/doc/Neural_Network_train.ipynb)|\n",
    "|CNN|0.52| 0.52 | 0.51 |278 s |25 s |[CNN](https://github.com/TZstatsADS/Fall2020-Project3-group5/blob/master/doc/CNN.ipynb)|\n",
    "|KNN |0.76||0.51|73.33 s|15.2 s|[KNN](https://github.com/TZstatsADS/Fall2020-Project3-group5/blob/master/doc/KNN.ipynb)\n",
    "|LDA|0.70||0.68|20.34 s||[LDA](https://github.com/TZstatsADS/Fall2020-Project3-group5/blob/master/doc/LDA%20with%20PCA.ipynb)\n",
    "|LDA with PCA|0.72||0.8|0.02s||[LDA with PCA](https://github.com/TZstatsADS/Fall2020-Project3-group5/blob/master/doc/LDA%20with%20PCA.ipynb)\n"
   ]
  }
 ],
 "metadata": {
  "colab": {
   "collapsed_sections": [],
   "name": "main_1103.ipynb",
   "provenance": [],
   "toc_visible": true
  },
  "kernelspec": {
   "display_name": "Python 3",
   "language": "python",
   "name": "python3"
  },
  "language_info": {
   "codemirror_mode": {
    "name": "ipython",
    "version": 3
   },
   "file_extension": ".py",
   "mimetype": "text/x-python",
   "name": "python",
   "nbconvert_exporter": "python",
   "pygments_lexer": "ipython3",
   "version": "3.7.6"
  }
 },
 "nbformat": 4,
 "nbformat_minor": 4
}
