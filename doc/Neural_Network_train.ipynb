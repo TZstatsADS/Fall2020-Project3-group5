{
  "nbformat": 4,
  "nbformat_minor": 0,
  "metadata": {
    "colab": {
      "name": "Copy of ads_project3_nn.ipynb",
      "provenance": [],
      "collapsed_sections": []
    },
    "kernelspec": {
      "display_name": "Python 3",
      "name": "python3"
    }
  },
  "cells": [
    {
      "cell_type": "markdown",
      "metadata": {
        "id": "DVWtSfsm6Ye1"
      },
      "source": [
        "\n",
        "# Data loading"
      ]
    },
    {
      "cell_type": "code",
      "metadata": {
        "id": "O93pKIvO5gbA"
      },
      "source": [
        "import numpy as np\n",
        "import pandas as pd\n",
        "from sklearn.model_selection import train_test_split\n",
        "from sklearn.metrics import pairwise_distances\n",
        "import time\n",
        "import tensorflow as tf\n",
        "import matplotlib.pyplot as plt\n",
        "from tensorflow import keras\n",
        "from tensorflow.keras.models import Sequential\n",
        "from tensorflow.keras import layers\n"
      ],
      "execution_count": 1,
      "outputs": []
    },
    {
      "cell_type": "code",
      "metadata": {
        "id": "z5JOLekB53Lr"
      },
      "source": [
        "label_full = pd.read_pickle('label_full.pkl')\n",
        "fiducial_pt_full = pd.read_pickle('fiducial_pt_full.pkl')"
      ],
      "execution_count": 2,
      "outputs": []
    },
    {
      "cell_type": "markdown",
      "metadata": {
        "id": "b4cg4EoRvUJK"
      },
      "source": [
        "# Split the dataset into train, validation and test sets"
      ]
    },
    {
      "cell_type": "code",
      "metadata": {
        "id": "MSXyCMpO58kf"
      },
      "source": [
        "# split data into train and test set\n",
        "X_train, X_test, y_train, y_test = train_test_split(fiducial_pt_full, label_full, test_size=0.2, random_state=42)\n",
        "#X_train, X_val, y_train, y_val = train_test_split(X_train, y_train, test_size=0.2, random_state=66)\n",
        "\n",
        "bool_train_labels = y_train != 0\n",
        "\n",
        "# form np arrays of labels\n",
        "y_train = np.array(y_train)\n",
        "y_test = np.array(y_test)\n",
        "#y_val = np.array(y_val)"
      ],
      "execution_count": 3,
      "outputs": []
    },
    {
      "cell_type": "code",
      "metadata": {
        "id": "GhnFqPmh59Qh",
        "outputId": "dfe27b49-2eac-49dd-808b-5ccf740ec2a2",
        "colab": {
          "base_uri": "https://localhost:8080/"
        }
      },
      "source": [
        "# form np arrays of features\n",
        "# pairwise distance calculation (can replace it with other feature engineering procedure)\n",
        "\n",
        "# extract pairwise distance as features (78*77/2=3003 features)\n",
        "# nrow=number of records of the dataset; ncol=3003\n",
        "import warnings\n",
        "warnings.filterwarnings('ignore')\n",
        "start_time = time.time()\n",
        "feature_train = np.stack((pairwise_distances(X_train[i])[np.triu_indices(78, k = 1)] for i in range(X_train.shape[0])))\n",
        "print('Training feature extraction takes %s seconds.'%round((time.time()-start_time),3))\n",
        "\n",
        "# start_time = time.time()\n",
        "# feature_val = np.stack((pairwise_distances(X_val[i])[np.triu_indices(78, k = 1)] for i in range(X_val.shape[0])))\n",
        "# print('Validation feature extraction takes %s seconds.'%round((time.time()-start_time),3))\n",
        "\n",
        "\n",
        "start_time = time.time()\n",
        "feature_test = np.stack((pairwise_distances(X_test[i])[np.triu_indices(78, k = 1)] for i in range(X_test.shape[0])))\n",
        "print('Test feature extraction takes %s seconds.'%round((time.time()-start_time),3))\n"
      ],
      "execution_count": 4,
      "outputs": [
        {
          "output_type": "stream",
          "text": [
            "Training feature extraction takes 1.167 seconds.\n",
            "Test feature extraction takes 0.278 seconds.\n"
          ],
          "name": "stdout"
        }
      ]
    },
    {
      "cell_type": "markdown",
      "metadata": {
        "id": "V1xgiht_w2j5"
      },
      "source": [
        "# Oversample the minority class using Numpy\n",
        "\n",
        "Balance the dataset manually by choosing the right number of random indices from the positive examples "
      ]
    },
    {
      "cell_type": "code",
      "metadata": {
        "id": "RFlEe1q9w4z0"
      },
      "source": [
        "pos_features = feature_train[bool_train_labels]\n",
        "neg_features = feature_train[~bool_train_labels]\n",
        "\n",
        "pos_labels = y_train[bool_train_labels]\n",
        "neg_labels = y_train[~bool_train_labels]"
      ],
      "execution_count": 5,
      "outputs": []
    },
    {
      "cell_type": "code",
      "metadata": {
        "id": "QbtxSycWxrFP",
        "outputId": "824b481e-b75b-40c1-d258-71743dddbbf0",
        "colab": {
          "base_uri": "https://localhost:8080/"
        }
      },
      "source": [
        "pos_labels.shape, neg_labels.shape"
      ],
      "execution_count": 6,
      "outputs": [
        {
          "output_type": "execute_result",
          "data": {
            "text/plain": [
              "((459,), (1941,))"
            ]
          },
          "metadata": {
            "tags": []
          },
          "execution_count": 6
        }
      ]
    },
    {
      "cell_type": "code",
      "metadata": {
        "id": "ze6VQ8Q51eQs",
        "outputId": "a2bf7239-86a3-41a8-c625-69404f81f310",
        "colab": {
          "base_uri": "https://localhost:8080/"
        }
      },
      "source": [
        "ids = np.arange(len(pos_features))\n",
        "choices = np.random.choice(ids, len(neg_features))\n",
        "\n",
        "res_pos_features = pos_features[choices]\n",
        "res_pos_labels = pos_labels[choices]\n",
        "\n",
        "res_pos_features.shape"
      ],
      "execution_count": 7,
      "outputs": [
        {
          "output_type": "execute_result",
          "data": {
            "text/plain": [
              "(1941, 3003)"
            ]
          },
          "metadata": {
            "tags": []
          },
          "execution_count": 7
        }
      ]
    },
    {
      "cell_type": "code",
      "metadata": {
        "id": "5U0Il0xz1grd",
        "outputId": "d8407109-1d0d-472c-b25e-b11e60a78a40",
        "colab": {
          "base_uri": "https://localhost:8080/"
        }
      },
      "source": [
        "resampled_features = np.concatenate([res_pos_features, neg_features], axis=0)\n",
        "resampled_labels = np.concatenate([res_pos_labels, neg_labels], axis=0)\n",
        "\n",
        "order = np.arange(len(resampled_labels))\n",
        "np.random.shuffle(order)\n",
        "resampled_features = resampled_features[order]\n",
        "resampled_labels = resampled_labels[order]\n",
        "\n",
        "resampled_features.shape, resampled_labels.shape"
      ],
      "execution_count": 10,
      "outputs": [
        {
          "output_type": "execute_result",
          "data": {
            "text/plain": [
              "((3882, 3003), (3882,))"
            ]
          },
          "metadata": {
            "tags": []
          },
          "execution_count": 10
        }
      ]
    },
    {
      "cell_type": "markdown",
      "metadata": {
        "id": "5WLWyxFmxlOr"
      },
      "source": [
        "## Oversample the minority using tensorflow dataset\n"
      ]
    },
    {
      "cell_type": "code",
      "metadata": {
        "id": "nqEts1g70tA2"
      },
      "source": [
        "BUFFER_SIZE = 1000\n",
        "\n",
        "def make_ds(features, labels):\n",
        "  ds = tf.data.Dataset.from_tensor_slices((features, labels))#.cache()\n",
        "  ds = ds.shuffle(BUFFER_SIZE).repeat()\n",
        "  return ds\n",
        "\n",
        "pos_ds = make_ds(pos_features, pos_labels)\n",
        "neg_ds = make_ds(neg_features, neg_labels)"
      ],
      "execution_count": null,
      "outputs": []
    },
    {
      "cell_type": "code",
      "metadata": {
        "id": "D8TM7HtR0yuU",
        "outputId": "185e7408-7533-4e2a-c609-07b83096e158",
        "colab": {
          "base_uri": "https://localhost:8080/"
        }
      },
      "source": [
        "for features, label in pos_ds.take(1):\n",
        "  print(\"Features:\\n\", features.numpy())\n",
        "  print()\n",
        "  print(\"Label: \", label.numpy())"
      ],
      "execution_count": null,
      "outputs": [
        {
          "output_type": "stream",
          "text": [
            "Features:\n",
            " [31.67663332 21.20858502 10.50377562 ... 45.254247   97.79595587\n",
            " 52.54373323]\n",
            "\n",
            "Label:  1\n"
          ],
          "name": "stdout"
        }
      ]
    },
    {
      "cell_type": "code",
      "metadata": {
        "id": "evVDSbrl063b"
      },
      "source": [
        "EPOCHS = 100\n",
        "BATCH_SIZE = 32\n",
        "\n",
        "resampled_ds = tf.data.experimental.sample_from_datasets([pos_ds, neg_ds], weights=[0.5, 0.5])\n",
        "resampled_ds = resampled_ds.batch(BATCH_SIZE).prefetch(2)"
      ],
      "execution_count": null,
      "outputs": []
    },
    {
      "cell_type": "code",
      "metadata": {
        "id": "lD1QatqD1JTP",
        "outputId": "3ca0f2ca-16ed-4a81-9fd2-c06a26230755",
        "colab": {
          "base_uri": "https://localhost:8080/"
        }
      },
      "source": [
        "# check if dataset is balanced\n",
        "for features, label in resampled_ds.take(1):\n",
        "  print(label.numpy().mean())"
      ],
      "execution_count": null,
      "outputs": [
        {
          "output_type": "stream",
          "text": [
            "0.5625\n"
          ],
          "name": "stdout"
        }
      ]
    },
    {
      "cell_type": "code",
      "metadata": {
        "id": "wheYytuG1QTq",
        "outputId": "1402fa6f-85f1-4e8a-b85b-d8e66b7890a2",
        "colab": {
          "base_uri": "https://localhost:8080/"
        }
      },
      "source": [
        "resampled_steps_per_epoch = np.ceil(2.0*len(y_train==0)/BATCH_SIZE)\n",
        "resampled_steps_per_epoch"
      ],
      "execution_count": null,
      "outputs": [
        {
          "output_type": "execute_result",
          "data": {
            "text/plain": [
              "120.0"
            ]
          },
          "metadata": {
            "tags": []
          },
          "execution_count": 17
        }
      ]
    },
    {
      "cell_type": "markdown",
      "metadata": {
        "id": "LtYsQ9u46dIP"
      },
      "source": [
        "\n",
        "\n",
        "# Neural Network "
      ]
    },
    {
      "cell_type": "code",
      "metadata": {
        "id": "P-lTVSaGsHDL",
        "outputId": "d67c71f0-2218-45ce-cebc-70f0651c0f3f",
        "colab": {
          "base_uri": "https://localhost:8080/"
        }
      },
      "source": [
        "METRICS = [\n",
        "           keras.metrics.BinaryAccuracy(name='accuracy'),\n",
        "           keras.metrics.AUC(name='auc'),\n",
        "           keras.metrics.Precision(name='precision'),\n",
        "           keras.metrics.Recall(name='recall')\n",
        "]\n",
        "INPUT_SHAPE=[3003]\n",
        "model1 = keras.Sequential([\n",
        "                           keras.layers.BatchNormalization(input_shape=INPUT_SHAPE, \n",
        "                                                           momentum=0.80),\n",
        "                           keras.layers.Dense(1024, activation='relu',\n",
        "                                              kernel_initializer=keras.initializers.glorot_normal(seed=99)),\n",
        "                           keras.layers.Dropout(0.3),\n",
        "                           keras.layers.Dense(512, activation='relu',\n",
        "                                              kernel_initializer=keras.initializers.glorot_normal(seed=99)),\n",
        "                           keras.layers.Dropout(0.3),\n",
        "                           keras.layers.Dense(256, activation='relu',\n",
        "                                              kernel_initializer=keras.initializers.glorot_normal(seed=99)),\n",
        "                           keras.layers.Dense(128, activation='relu',\n",
        "                                              kernel_initializer=keras.initializers.glorot_normal(seed=99)),\n",
        "                           keras.layers.Dropout(0.3),\n",
        "                           keras.layers.Dense(64, activation='relu',\n",
        "                                              kernel_initializer=keras.initializers.glorot_normal(seed=99)),\n",
        "                           keras.layers.Dropout(0.25),\n",
        "                           keras.layers.Dense(32, activation='relu',\n",
        "                                              kernel_initializer=keras.initializers.glorot_normal(seed=99)),\n",
        "                           keras.layers.Dropout(0.1),\n",
        "                           keras.layers.Dense(16, activation='relu',\n",
        "                                              kernel_initializer=keras.initializers.glorot_normal(seed=99)),\n",
        "                           keras.layers.Dense(1, activation='sigmoid')\n",
        "])\n",
        "\n",
        "model1.compile(\n",
        "      #optimizer=keras.optimizers.RMSprop(),\n",
        "      optimizer=keras.optimizers.Adam(lr=0.001),\n",
        "      loss=keras.losses.BinaryCrossentropy(),\n",
        "      metrics=METRICS)\n",
        "\n",
        "early_stopping = tf.keras.callbacks.EarlyStopping(\n",
        "    monitor='val_auc', \n",
        "    verbose=1,\n",
        "    patience=5,\n",
        "    mode='max',\n",
        "    restore_best_weights=True)\n",
        "\n",
        "model1.summary()"
      ],
      "execution_count": 17,
      "outputs": [
        {
          "output_type": "stream",
          "text": [
            "Model: \"sequential_1\"\n",
            "_________________________________________________________________\n",
            "Layer (type)                 Output Shape              Param #   \n",
            "=================================================================\n",
            "batch_normalization_1 (Batch (None, 3003)              12012     \n",
            "_________________________________________________________________\n",
            "dense_8 (Dense)              (None, 1024)              3076096   \n",
            "_________________________________________________________________\n",
            "dropout_5 (Dropout)          (None, 1024)              0         \n",
            "_________________________________________________________________\n",
            "dense_9 (Dense)              (None, 512)               524800    \n",
            "_________________________________________________________________\n",
            "dropout_6 (Dropout)          (None, 512)               0         \n",
            "_________________________________________________________________\n",
            "dense_10 (Dense)             (None, 256)               131328    \n",
            "_________________________________________________________________\n",
            "dense_11 (Dense)             (None, 128)               32896     \n",
            "_________________________________________________________________\n",
            "dropout_7 (Dropout)          (None, 128)               0         \n",
            "_________________________________________________________________\n",
            "dense_12 (Dense)             (None, 64)                8256      \n",
            "_________________________________________________________________\n",
            "dropout_8 (Dropout)          (None, 64)                0         \n",
            "_________________________________________________________________\n",
            "dense_13 (Dense)             (None, 32)                2080      \n",
            "_________________________________________________________________\n",
            "dropout_9 (Dropout)          (None, 32)                0         \n",
            "_________________________________________________________________\n",
            "dense_14 (Dense)             (None, 16)                528       \n",
            "_________________________________________________________________\n",
            "dense_15 (Dense)             (None, 1)                 17        \n",
            "=================================================================\n",
            "Total params: 3,788,013\n",
            "Trainable params: 3,782,007\n",
            "Non-trainable params: 6,006\n",
            "_________________________________________________________________\n"
          ],
          "name": "stdout"
        }
      ]
    },
    {
      "cell_type": "code",
      "metadata": {
        "id": "si165tL718e4",
        "outputId": "a2ceb9ac-bd33-4bed-f466-5bd9dcd6206e",
        "colab": {
          "base_uri": "https://localhost:8080/"
        }
      },
      "source": [
        "# fit model with Numpy dataset\n",
        "\n",
        "start_time = time.time()\n",
        "\n",
        "EPOCHS = 100\n",
        "#BATCH_SIZE = 64\n",
        "\n",
        "resampled_history = model1.fit(\n",
        "    resampled_features, resampled_labels,\n",
        "    epochs=EPOCHS,\n",
        "    batch_size=64, \n",
        "    callbacks = [early_stopping],\n",
        "    validation_split=0.2\n",
        "    )\n",
        "\n",
        "print(\"training  model takes %s seconds\" % round((time.time() - start_time),3))"
      ],
      "execution_count": 18,
      "outputs": [
        {
          "output_type": "stream",
          "text": [
            "Epoch 1/100\n",
            "49/49 [==============================] - 3s 68ms/step - loss: 0.8541 - accuracy: 0.5188 - auc: 0.5156 - precision: 0.5222 - recall: 0.4913 - val_loss: 0.6923 - val_accuracy: 0.5135 - val_auc: 0.5145 - val_precision: 0.5111 - val_recall: 0.2408\n",
            "Epoch 2/100\n",
            "49/49 [==============================] - 3s 59ms/step - loss: 0.7316 - accuracy: 0.5092 - auc: 0.5105 - precision: 0.5113 - recall: 0.5080 - val_loss: 0.6977 - val_accuracy: 0.5006 - val_auc: 0.4532 - val_precision: 0.4464 - val_recall: 0.0654\n",
            "Epoch 3/100\n",
            "49/49 [==============================] - 3s 60ms/step - loss: 0.7153 - accuracy: 0.5118 - auc: 0.5179 - precision: 0.5153 - recall: 0.4644 - val_loss: 0.6941 - val_accuracy: 0.5199 - val_auc: 0.5149 - val_precision: 0.5125 - val_recall: 0.4843\n",
            "Epoch 4/100\n",
            "49/49 [==============================] - 3s 59ms/step - loss: 0.7091 - accuracy: 0.5082 - auc: 0.5137 - precision: 0.5101 - recall: 0.5170 - val_loss: 0.6916 - val_accuracy: 0.5290 - val_auc: 0.5417 - val_precision: 0.5263 - val_recall: 0.4188\n",
            "Epoch 5/100\n",
            "49/49 [==============================] - 3s 59ms/step - loss: 0.6984 - accuracy: 0.5111 - auc: 0.5310 - precision: 0.5128 - recall: 0.5273 - val_loss: 0.6939 - val_accuracy: 0.4878 - val_auc: 0.5185 - val_precision: 0.4894 - val_recall: 0.9712\n",
            "Epoch 6/100\n",
            "49/49 [==============================] - 3s 59ms/step - loss: 0.7037 - accuracy: 0.5153 - auc: 0.5192 - precision: 0.5159 - recall: 0.5606 - val_loss: 0.6939 - val_accuracy: 0.4749 - val_auc: 0.4934 - val_precision: 0.4785 - val_recall: 0.7565\n",
            "Epoch 7/100\n",
            "49/49 [==============================] - 3s 59ms/step - loss: 0.6989 - accuracy: 0.5198 - auc: 0.5284 - precision: 0.5195 - recall: 0.5799 - val_loss: 0.6909 - val_accuracy: 0.5251 - val_auc: 0.5742 - val_precision: 0.5095 - val_recall: 0.9136\n",
            "Epoch 8/100\n",
            "49/49 [==============================] - 3s 61ms/step - loss: 0.7015 - accuracy: 0.5198 - auc: 0.5292 - precision: 0.5175 - recall: 0.6434 - val_loss: 0.6898 - val_accuracy: 0.5495 - val_auc: 0.5677 - val_precision: 0.5402 - val_recall: 0.5628\n",
            "Epoch 9/100\n",
            "49/49 [==============================] - 3s 59ms/step - loss: 0.6933 - accuracy: 0.5349 - auc: 0.5477 - precision: 0.5361 - recall: 0.5471 - val_loss: 0.6863 - val_accuracy: 0.5663 - val_auc: 0.6009 - val_precision: 0.5393 - val_recall: 0.8089\n",
            "Epoch 10/100\n",
            "49/49 [==============================] - 3s 59ms/step - loss: 0.6846 - accuracy: 0.5601 - auc: 0.5845 - precision: 0.5634 - recall: 0.5504 - val_loss: 0.6689 - val_accuracy: 0.6113 - val_auc: 0.6305 - val_precision: 0.6333 - val_recall: 0.4974\n",
            "Epoch 11/100\n",
            "49/49 [==============================] - 3s 59ms/step - loss: 0.6469 - accuracy: 0.6235 - auc: 0.6723 - precision: 0.6207 - recall: 0.6434 - val_loss: 0.6276 - val_accuracy: 0.6499 - val_auc: 0.7030 - val_precision: 0.6637 - val_recall: 0.5838\n",
            "Epoch 12/100\n",
            "49/49 [==============================] - 3s 59ms/step - loss: 0.6250 - accuracy: 0.6332 - auc: 0.7003 - precision: 0.6331 - recall: 0.6408 - val_loss: 0.6068 - val_accuracy: 0.6782 - val_auc: 0.7491 - val_precision: 0.7409 - val_recall: 0.5314\n",
            "Epoch 13/100\n",
            "49/49 [==============================] - 3s 59ms/step - loss: 0.6045 - accuracy: 0.6763 - auc: 0.7436 - precision: 0.6731 - recall: 0.6908 - val_loss: 0.5988 - val_accuracy: 0.6692 - val_auc: 0.7660 - val_precision: 0.6147 - val_recall: 0.8770\n",
            "Epoch 14/100\n",
            "49/49 [==============================] - 3s 59ms/step - loss: 0.5815 - accuracy: 0.6911 - auc: 0.7672 - precision: 0.6873 - recall: 0.7062 - val_loss: 0.5722 - val_accuracy: 0.7284 - val_auc: 0.8046 - val_precision: 0.8000 - val_recall: 0.5969\n",
            "Epoch 15/100\n",
            "49/49 [==============================] - 3s 61ms/step - loss: 0.5656 - accuracy: 0.7121 - auc: 0.7874 - precision: 0.6992 - recall: 0.7486 - val_loss: 0.5500 - val_accuracy: 0.7272 - val_auc: 0.7944 - val_precision: 0.6840 - val_recall: 0.8272\n",
            "Epoch 16/100\n",
            "49/49 [==============================] - 3s 61ms/step - loss: 0.5372 - accuracy: 0.7324 - auc: 0.8112 - precision: 0.7144 - recall: 0.7781 - val_loss: 0.5123 - val_accuracy: 0.7400 - val_auc: 0.8388 - val_precision: 0.7228 - val_recall: 0.7644\n",
            "Epoch 17/100\n",
            "49/49 [==============================] - 3s 61ms/step - loss: 0.5137 - accuracy: 0.7465 - auc: 0.8310 - precision: 0.7244 - recall: 0.7992 - val_loss: 0.5488 - val_accuracy: 0.7349 - val_auc: 0.8279 - val_precision: 0.7222 - val_recall: 0.7487\n",
            "Epoch 18/100\n",
            "49/49 [==============================] - 3s 61ms/step - loss: 0.5021 - accuracy: 0.7398 - auc: 0.8328 - precision: 0.7508 - recall: 0.7210 - val_loss: 0.5178 - val_accuracy: 0.7748 - val_auc: 0.8455 - val_precision: 0.7983 - val_recall: 0.7251\n",
            "Epoch 19/100\n",
            "49/49 [==============================] - 3s 61ms/step - loss: 0.4569 - accuracy: 0.7713 - auc: 0.8634 - precision: 0.7537 - recall: 0.8089 - val_loss: 0.5409 - val_accuracy: 0.7825 - val_auc: 0.8468 - val_precision: 0.8424 - val_recall: 0.6859\n",
            "Epoch 20/100\n",
            "49/49 [==============================] - 3s 60ms/step - loss: 0.4753 - accuracy: 0.7620 - auc: 0.8564 - precision: 0.7415 - recall: 0.8076 - val_loss: 0.4460 - val_accuracy: 0.7851 - val_auc: 0.8819 - val_precision: 0.7207 - val_recall: 0.9188\n",
            "Epoch 21/100\n",
            "49/49 [==============================] - 3s 60ms/step - loss: 0.4214 - accuracy: 0.8019 - auc: 0.8897 - precision: 0.7854 - recall: 0.8332 - val_loss: 0.4413 - val_accuracy: 0.8224 - val_auc: 0.8937 - val_precision: 0.8228 - val_recall: 0.8141\n",
            "Epoch 22/100\n",
            "49/49 [==============================] - 3s 61ms/step - loss: 0.3929 - accuracy: 0.8158 - auc: 0.9008 - precision: 0.7932 - recall: 0.8563 - val_loss: 0.4083 - val_accuracy: 0.8160 - val_auc: 0.9050 - val_precision: 0.8072 - val_recall: 0.8220\n",
            "Epoch 23/100\n",
            "49/49 [==============================] - 3s 59ms/step - loss: 0.3964 - accuracy: 0.8103 - auc: 0.9001 - precision: 0.7850 - recall: 0.8570 - val_loss: 0.4051 - val_accuracy: 0.8095 - val_auc: 0.8946 - val_precision: 0.7612 - val_recall: 0.8927\n",
            "Epoch 24/100\n",
            "49/49 [==============================] - 3s 59ms/step - loss: 0.4060 - accuracy: 0.8029 - auc: 0.8930 - precision: 0.7761 - recall: 0.8538 - val_loss: 0.5094 - val_accuracy: 0.7580 - val_auc: 0.8375 - val_precision: 0.6972 - val_recall: 0.8979\n",
            "Epoch 25/100\n",
            "49/49 [==============================] - 3s 61ms/step - loss: 0.4127 - accuracy: 0.7923 - auc: 0.8876 - precision: 0.7576 - recall: 0.8621 - val_loss: 0.3801 - val_accuracy: 0.8147 - val_auc: 0.9075 - val_precision: 0.7490 - val_recall: 0.9372\n",
            "Epoch 26/100\n",
            "49/49 [==============================] - 3s 59ms/step - loss: 0.3746 - accuracy: 0.8203 - auc: 0.9121 - precision: 0.7804 - recall: 0.8935 - val_loss: 0.3728 - val_accuracy: 0.8185 - val_auc: 0.9096 - val_precision: 0.7405 - val_recall: 0.9712\n",
            "Epoch 27/100\n",
            "49/49 [==============================] - 3s 60ms/step - loss: 0.3504 - accuracy: 0.8319 - auc: 0.9229 - precision: 0.7978 - recall: 0.8910 - val_loss: 0.3612 - val_accuracy: 0.8327 - val_auc: 0.9147 - val_precision: 0.7838 - val_recall: 0.9110\n",
            "Epoch 28/100\n",
            "49/49 [==============================] - 3s 60ms/step - loss: 0.3458 - accuracy: 0.8345 - auc: 0.9219 - precision: 0.7917 - recall: 0.9096 - val_loss: 0.3568 - val_accuracy: 0.8340 - val_auc: 0.9250 - val_precision: 0.7608 - val_recall: 0.9660\n",
            "Epoch 29/100\n",
            "49/49 [==============================] - 3s 60ms/step - loss: 0.3206 - accuracy: 0.8519 - auc: 0.9345 - precision: 0.8219 - recall: 0.8999 - val_loss: 0.3403 - val_accuracy: 0.8584 - val_auc: 0.9372 - val_precision: 0.7906 - val_recall: 0.9686\n",
            "Epoch 30/100\n",
            "49/49 [==============================] - 3s 61ms/step - loss: 0.3258 - accuracy: 0.8477 - auc: 0.9332 - precision: 0.8168 - recall: 0.8980 - val_loss: 0.3126 - val_accuracy: 0.8739 - val_auc: 0.9444 - val_precision: 0.8430 - val_recall: 0.9136\n",
            "Epoch 31/100\n",
            "49/49 [==============================] - 3s 60ms/step - loss: 0.3237 - accuracy: 0.8541 - auc: 0.9351 - precision: 0.8249 - recall: 0.9006 - val_loss: 0.3465 - val_accuracy: 0.8366 - val_auc: 0.9233 - val_precision: 0.8148 - val_recall: 0.8639\n",
            "Epoch 32/100\n",
            "49/49 [==============================] - 3s 59ms/step - loss: 0.3234 - accuracy: 0.8454 - auc: 0.9327 - precision: 0.8057 - recall: 0.9121 - val_loss: 0.3156 - val_accuracy: 0.8559 - val_auc: 0.9373 - val_precision: 0.8169 - val_recall: 0.9110\n",
            "Epoch 33/100\n",
            "49/49 [==============================] - 3s 60ms/step - loss: 0.3211 - accuracy: 0.8515 - auc: 0.9357 - precision: 0.8109 - recall: 0.9185 - val_loss: 0.3520 - val_accuracy: 0.8353 - val_auc: 0.9268 - val_precision: 0.7953 - val_recall: 0.8953\n",
            "Epoch 34/100\n",
            "49/49 [==============================] - 3s 60ms/step - loss: 0.2892 - accuracy: 0.8618 - auc: 0.9463 - precision: 0.8351 - recall: 0.9031 - val_loss: 0.3246 - val_accuracy: 0.8533 - val_auc: 0.9382 - val_precision: 0.7792 - val_recall: 0.9791\n",
            "Epoch 35/100\n",
            "48/49 [============================>.] - ETA: 0s - loss: 0.2689 - accuracy: 0.8776 - auc: 0.9536 - precision: 0.8473 - recall: 0.9221Restoring model weights from the end of the best epoch.\n",
            "49/49 [==============================] - 3s 59ms/step - loss: 0.2684 - accuracy: 0.8783 - auc: 0.9538 - precision: 0.8484 - recall: 0.9224 - val_loss: 0.3253 - val_accuracy: 0.8687 - val_auc: 0.9255 - val_precision: 0.8111 - val_recall: 0.9555\n",
            "Epoch 00035: early stopping\n",
            "training  model takes 106.48 seconds\n"
          ],
          "name": "stdout"
        }
      ]
    },
    {
      "cell_type": "code",
      "metadata": {
        "id": "ITsyqVV_uG5W",
        "outputId": "d27b32ad-e82d-4e64-8ce9-009f1bff11b2",
        "colab": {
          "base_uri": "https://localhost:8080/"
        }
      },
      "source": [
        "# fit model with tensorflow dataset\n",
        "\n",
        "# val_ds = tf.data.Dataset.from_tensor_slices((feature_val, y_val)).cache()\n",
        "# val_ds = val_ds.batch(BATCH_SIZE).prefetch(2) \n",
        "\n",
        "# start_time = time.time()\n",
        "\n",
        "# resampled_history = model1.fit(\n",
        "#     resampled_ds,\n",
        "#     epochs=EPOCHS,\n",
        "#     steps_per_epoch=resampled_steps_per_epoch,\n",
        "#     callbacks = [early_stopping],\n",
        "#     validation_data=val_ds\n",
        "#     )\n",
        "\n",
        "# print(\"training  model takes %s seconds\" % round((time.time() - start_time),3))"
      ],
      "execution_count": null,
      "outputs": [
        {
          "output_type": "stream",
          "text": [
            "Epoch 1/100\n",
            "120/120 [==============================] - 6s 47ms/step - loss: 0.8275 - accuracy: 0.5003 - auc: 0.4943 - precision: 0.5003 - recall: 0.4479 - val_loss: 0.7162 - val_accuracy: 0.4604 - val_auc: 0.5052 - val_precision: 0.1919 - val_recall: 0.5652\n",
            "Epoch 2/100\n",
            "120/120 [==============================] - 5s 44ms/step - loss: 0.7196 - accuracy: 0.5013 - auc: 0.4995 - precision: 0.5151 - recall: 0.6253 - val_loss: 0.7149 - val_accuracy: 0.2917 - val_auc: 0.5140 - val_precision: 0.1946 - val_recall: 0.8587\n",
            "Epoch 3/100\n",
            "120/120 [==============================] - 5s 44ms/step - loss: 0.7064 - accuracy: 0.4992 - auc: 0.5031 - precision: 0.4978 - recall: 0.6559 - val_loss: 0.6872 - val_accuracy: 0.4958 - val_auc: 0.4897 - val_precision: 0.1739 - val_recall: 0.4348\n",
            "Epoch 4/100\n",
            "120/120 [==============================] - 5s 44ms/step - loss: 0.7009 - accuracy: 0.5161 - auc: 0.5166 - precision: 0.5053 - recall: 0.5569 - val_loss: 0.7061 - val_accuracy: 0.1937 - val_auc: 0.5163 - val_precision: 0.1921 - val_recall: 1.0000\n",
            "Epoch 5/100\n",
            "120/120 [==============================] - 5s 44ms/step - loss: 0.7016 - accuracy: 0.4953 - auc: 0.4968 - precision: 0.4961 - recall: 0.7551 - val_loss: 0.6975 - val_accuracy: 0.2438 - val_auc: 0.5163 - val_precision: 0.1913 - val_recall: 0.9130\n",
            "Epoch 6/100\n",
            "120/120 [==============================] - 5s 44ms/step - loss: 0.6943 - accuracy: 0.5151 - auc: 0.5195 - precision: 0.5070 - recall: 0.5177 - val_loss: 0.6814 - val_accuracy: 0.8042 - val_auc: 0.5463 - val_precision: 0.2500 - val_recall: 0.0109\n",
            "Epoch 7/100\n",
            "120/120 [==============================] - 5s 44ms/step - loss: 0.6959 - accuracy: 0.5044 - auc: 0.5197 - precision: 0.5027 - recall: 0.4419 - val_loss: 0.6748 - val_accuracy: 0.6292 - val_auc: 0.5153 - val_precision: 0.1972 - val_recall: 0.3043\n",
            "Epoch 8/100\n",
            "120/120 [==============================] - 5s 44ms/step - loss: 0.6829 - accuracy: 0.5516 - auc: 0.5870 - precision: 0.5520 - recall: 0.5474 - val_loss: 0.6420 - val_accuracy: 0.4292 - val_auc: 0.5909 - val_precision: 0.2242 - val_recall: 0.8043\n",
            "Epoch 9/100\n",
            "120/120 [==============================] - 5s 44ms/step - loss: 0.6579 - accuracy: 0.5776 - auc: 0.6022 - precision: 0.5544 - recall: 0.7796 - val_loss: 0.6546 - val_accuracy: 0.3583 - val_auc: 0.6300 - val_precision: 0.2202 - val_recall: 0.9239\n",
            "Epoch 10/100\n",
            "120/120 [==============================] - 5s 44ms/step - loss: 0.6384 - accuracy: 0.6198 - auc: 0.6701 - precision: 0.5818 - recall: 0.8124 - val_loss: 0.5982 - val_accuracy: 0.5562 - val_auc: 0.6711 - val_precision: 0.2609 - val_recall: 0.7174\n",
            "Epoch 11/100\n",
            "120/120 [==============================] - 5s 45ms/step - loss: 0.6122 - accuracy: 0.6474 - auc: 0.7116 - precision: 0.6028 - recall: 0.7931 - val_loss: 0.6290 - val_accuracy: 0.4750 - val_auc: 0.6873 - val_precision: 0.2419 - val_recall: 0.8152\n",
            "Epoch 12/100\n",
            "120/120 [==============================] - 5s 44ms/step - loss: 0.5811 - accuracy: 0.6888 - auc: 0.7525 - precision: 0.6665 - recall: 0.7805 - val_loss: 0.7884 - val_accuracy: 0.4625 - val_auc: 0.7044 - val_precision: 0.2470 - val_recall: 0.8804\n",
            "Epoch 13/100\n",
            "120/120 [==============================] - 5s 44ms/step - loss: 0.5367 - accuracy: 0.7284 - auc: 0.7956 - precision: 0.6857 - recall: 0.8702 - val_loss: 0.5178 - val_accuracy: 0.6958 - val_auc: 0.7766 - val_precision: 0.3516 - val_recall: 0.6957\n",
            "Epoch 14/100\n",
            "120/120 [==============================] - 5s 44ms/step - loss: 0.5090 - accuracy: 0.7500 - auc: 0.8277 - precision: 0.7151 - recall: 0.8153 - val_loss: 0.5480 - val_accuracy: 0.6750 - val_auc: 0.7801 - val_precision: 0.3416 - val_recall: 0.7500\n",
            "Epoch 15/100\n",
            "120/120 [==============================] - 5s 44ms/step - loss: 0.4873 - accuracy: 0.7628 - auc: 0.8411 - precision: 0.7366 - recall: 0.8238 - val_loss: 0.5063 - val_accuracy: 0.7354 - val_auc: 0.8042 - val_precision: 0.3885 - val_recall: 0.6630\n",
            "Epoch 16/100\n",
            "120/120 [==============================] - 5s 44ms/step - loss: 0.4544 - accuracy: 0.7771 - auc: 0.8648 - precision: 0.7510 - recall: 0.8429 - val_loss: 0.5555 - val_accuracy: 0.6583 - val_auc: 0.7966 - val_precision: 0.3378 - val_recall: 0.8152\n",
            "Epoch 17/100\n",
            "120/120 [==============================] - 5s 45ms/step - loss: 0.4157 - accuracy: 0.7974 - auc: 0.8849 - precision: 0.7510 - recall: 0.8883 - val_loss: 0.5391 - val_accuracy: 0.6479 - val_auc: 0.8109 - val_precision: 0.3274 - val_recall: 0.7935\n",
            "Epoch 18/100\n",
            "120/120 [==============================] - 5s 44ms/step - loss: 0.4113 - accuracy: 0.8117 - auc: 0.8903 - precision: 0.7749 - recall: 0.8905 - val_loss: 0.4640 - val_accuracy: 0.7646 - val_auc: 0.8003 - val_precision: 0.4286 - val_recall: 0.6848\n",
            "Epoch 19/100\n",
            "120/120 [==============================] - 5s 45ms/step - loss: 0.3769 - accuracy: 0.8232 - auc: 0.9088 - precision: 0.7932 - recall: 0.8767 - val_loss: 0.4730 - val_accuracy: 0.7146 - val_auc: 0.7921 - val_precision: 0.3602 - val_recall: 0.6304\n",
            "Epoch 20/100\n",
            "120/120 [==============================] - 5s 44ms/step - loss: 0.3810 - accuracy: 0.8190 - auc: 0.9056 - precision: 0.7786 - recall: 0.8850 - val_loss: 0.4285 - val_accuracy: 0.8021 - val_auc: 0.8364 - val_precision: 0.4872 - val_recall: 0.6196\n",
            "Epoch 21/100\n",
            "120/120 [==============================] - 5s 44ms/step - loss: 0.3522 - accuracy: 0.8414 - auc: 0.9227 - precision: 0.8108 - recall: 0.8759 - val_loss: 0.4962 - val_accuracy: 0.7375 - val_auc: 0.8344 - val_precision: 0.4000 - val_recall: 0.7391\n",
            "Epoch 22/100\n",
            "120/120 [==============================] - 5s 44ms/step - loss: 0.3463 - accuracy: 0.8458 - auc: 0.9212 - precision: 0.8068 - recall: 0.9198 - val_loss: 0.5237 - val_accuracy: 0.7000 - val_auc: 0.8175 - val_precision: 0.3700 - val_recall: 0.8043\n",
            "Epoch 23/100\n",
            "120/120 [==============================] - 5s 44ms/step - loss: 0.3323 - accuracy: 0.8461 - auc: 0.9294 - precision: 0.8211 - recall: 0.8863 - val_loss: 0.4795 - val_accuracy: 0.7250 - val_auc: 0.8295 - val_precision: 0.3901 - val_recall: 0.7717\n",
            "Epoch 24/100\n",
            "120/120 [==============================] - 5s 44ms/step - loss: 0.3208 - accuracy: 0.8555 - auc: 0.9352 - precision: 0.8273 - recall: 0.8955 - val_loss: 0.4726 - val_accuracy: 0.8167 - val_auc: 0.8282 - val_precision: 0.5172 - val_recall: 0.6522\n",
            "Epoch 25/100\n",
            "120/120 [==============================] - 5s 44ms/step - loss: 0.3071 - accuracy: 0.8638 - auc: 0.9422 - precision: 0.8440 - recall: 0.8857 - val_loss: 0.4550 - val_accuracy: 0.7896 - val_auc: 0.8512 - val_precision: 0.4694 - val_recall: 0.7500\n",
            "Epoch 26/100\n",
            "120/120 [==============================] - 5s 44ms/step - loss: 0.3063 - accuracy: 0.8620 - auc: 0.9395 - precision: 0.8188 - recall: 0.9237 - val_loss: 0.5182 - val_accuracy: 0.7750 - val_auc: 0.8516 - val_precision: 0.4500 - val_recall: 0.7826\n",
            "Epoch 27/100\n",
            "120/120 [==============================] - 5s 44ms/step - loss: 0.2957 - accuracy: 0.8656 - auc: 0.9434 - precision: 0.8358 - recall: 0.9070 - val_loss: 0.4473 - val_accuracy: 0.7833 - val_auc: 0.8417 - val_precision: 0.4583 - val_recall: 0.7174\n",
            "Epoch 28/100\n",
            "120/120 [==============================] - 5s 44ms/step - loss: 0.2637 - accuracy: 0.8844 - auc: 0.9567 - precision: 0.8606 - recall: 0.9237 - val_loss: 0.5883 - val_accuracy: 0.8208 - val_auc: 0.8440 - val_precision: 0.5238 - val_recall: 0.7174\n",
            "Epoch 29/100\n",
            "120/120 [==============================] - 5s 44ms/step - loss: 0.2768 - accuracy: 0.8781 - auc: 0.9493 - precision: 0.8402 - recall: 0.9332 - val_loss: 0.5843 - val_accuracy: 0.8083 - val_auc: 0.8314 - val_precision: 0.5000 - val_recall: 0.6630\n",
            "Epoch 30/100\n",
            "120/120 [==============================] - 5s 44ms/step - loss: 0.2932 - accuracy: 0.8734 - auc: 0.9469 - precision: 0.8602 - recall: 0.8964 - val_loss: 0.5417 - val_accuracy: 0.7479 - val_auc: 0.8125 - val_precision: 0.4099 - val_recall: 0.7174\n",
            "Epoch 31/100\n",
            "119/120 [============================>.] - ETA: 0s - loss: 0.2515 - accuracy: 0.8934 - auc: 0.9599 - precision: 0.8658 - recall: 0.9348Restoring model weights from the end of the best epoch.\n",
            "120/120 [==============================] - 5s 44ms/step - loss: 0.2512 - accuracy: 0.8935 - auc: 0.9600 - precision: 0.8665 - recall: 0.9344 - val_loss: 0.4778 - val_accuracy: 0.7979 - val_auc: 0.8395 - val_precision: 0.4806 - val_recall: 0.6739\n",
            "Epoch 00031: early stopping\n",
            "training  model takes 167.157 seconds\n"
          ],
          "name": "stdout"
        }
      ]
    },
    {
      "cell_type": "code",
      "metadata": {
        "id": "sGF-3Y7HX2lP"
      },
      "source": [
        "# calculate weighted accuracy on test data\n",
        "pred_prob = model1.predict(feature_test).reshape(len(y_test))\n",
        "pred_test = np.zeros(len(y_test))\n",
        "pred_test[pred_prob>0.5] = 1\n",
        "\n",
        "weight_test = np.zeros(len(y_test))\n",
        "for v in np.unique(y_test):\n",
        "    weight_test[y_test==v] = 0.5*len(y_test)/np.sum(y_test==v)\n",
        "weighted_acc = np.sum(weight_test * (pred_test==y_test)/np.sum(weight_test))"
      ],
      "execution_count": 19,
      "outputs": []
    },
    {
      "cell_type": "code",
      "metadata": {
        "id": "TVQ8-71RX4d0",
        "outputId": "ddad86b4-12b3-4091-81e6-5e5423406604",
        "colab": {
          "base_uri": "https://localhost:8080/"
        }
      },
      "source": [
        "eval = model1.evaluate(feature_test, y_test)\n",
        "print('Test accuracy: {:.2f}'.format(eval[1]))\n",
        "print('Test weighted accuracy: {:.2f}'.format(weighted_acc))\n",
        "print('Test auc: {:.2f}'.format(eval[2]))"
      ],
      "execution_count": 20,
      "outputs": [
        {
          "output_type": "stream",
          "text": [
            "19/19 [==============================] - 0s 9ms/step - loss: 0.4353 - accuracy: 0.7833 - auc: 0.8384 - precision: 0.5257 - recall: 0.6619\n",
            "Test accuracy: 0.78\n",
            "Test weighted accuracy: 0.74\n",
            "Test auc: 0.84\n"
          ],
          "name": "stdout"
        }
      ]
    },
    {
      "cell_type": "code",
      "metadata": {
        "id": "pK6ltGENjZ-b",
        "outputId": "02b32dc0-6efa-4777-ff4b-ec7ff22d2d69",
        "colab": {
          "base_uri": "https://localhost:8080/"
        }
      },
      "source": [
        "# save the model, download manually\n",
        "t = time.time()\n",
        "export_path_keras = \"./{}.h5\".format(int(t))\n",
        "print(export_path_keras)\n",
        "model1.save(export_path_keras)"
      ],
      "execution_count": 21,
      "outputs": [
        {
          "output_type": "stream",
          "text": [
            "./1604421126.h5\n"
          ],
          "name": "stdout"
        }
      ]
    },
    {
      "cell_type": "code",
      "metadata": {
        "id": "6DMteignTpNv"
      },
      "source": [
        "# load model\n",
        "import tensorflow_hub as hub\n",
        "m = tf.keras.models.load_model(\n",
        "  export_path_keras, \n",
        "  # `custom_objects` tells keras how to load a `hub.KerasLayer`\n",
        "  custom_objects={'KerasLayer': hub.KerasLayer})\n",
        "\n",
        "#new_model = tf.keras.models.load_model('NN.h5')\n",
        "\n",
        "#m.summary()"
      ],
      "execution_count": null,
      "outputs": []
    },
    {
      "cell_type": "code",
      "metadata": {
        "id": "NH0jl6zW2E7Q"
      },
      "source": [
        "# calculate weighted accuracy on test data\n",
        "pred_prob = m.predict(feature_test).reshape(len(y_test))\n",
        "pred_test = np.zeros(len(y_test))\n",
        "pred_test[pred_prob>0.5] = 1\n",
        "\n",
        "weight_test = np.zeros(len(y_test))\n",
        "for v in np.unique(y_test):\n",
        "    weight_test[y_test==v] = 0.5*len(y_test)/np.sum(y_test==v)\n",
        "weighted_acc = np.sum(weight_test * (pred_test==y_test)/np.sum(weight_test))"
      ],
      "execution_count": null,
      "outputs": []
    },
    {
      "cell_type": "code",
      "metadata": {
        "id": "ro9sj6SY34mz",
        "outputId": "78e7e60b-d827-40ae-a2b5-5072532904a8",
        "colab": {
          "base_uri": "https://localhost:8080/"
        }
      },
      "source": [
        "eval = m.evaluate(feature_test, y_test)\n",
        "print('Test accuracy: {:.2f}'.format(eval[1]))\n",
        "print('Test weighted accuracy: {:.2f}'.format(weighted_acc))\n",
        "print('Test auc: {:.2f}'.format(eval[2]))"
      ],
      "execution_count": null,
      "outputs": [
        {
          "output_type": "stream",
          "text": [
            "19/19 [==============================] - 0s 9ms/step - loss: 0.5532 - accuracy: 0.7483 - auc: 0.8251 - precision: 0.4714 - recall: 0.7122\n",
            "Test accuracy: 0.75\n",
            "Test weighted accuracy: 0.74\n",
            "Test auc: 0.83\n"
          ],
          "name": "stdout"
        }
      ]
    },
    {
      "cell_type": "code",
      "metadata": {
        "id": "Grwgtm0t3FJ7"
      },
      "source": [
        "import matplotlib as mpl\n",
        "mpl.rcParams['figure.figsize'] = (12, 10)\n",
        "colors = plt.rcParams['axes.prop_cycle'].by_key()['color']\n",
        "\n",
        "def plot_metrics(history):\n",
        "  metrics =  ['auc', 'accuracy', 'precision', 'recall']\n",
        "  for n, metric in enumerate(metrics):\n",
        "    name = metric.replace(\"_\",\" \").capitalize()\n",
        "    plt.subplot(2,2,n+1)\n",
        "    plt.plot(history.epoch,  history.history[metric], color=colors[0], label='Train')\n",
        "    plt.plot(history.epoch, history.history['val_'+metric],\n",
        "             color=colors[0], linestyle=\"--\", label='Val')\n",
        "    plt.xlabel('Epoch')\n",
        "    plt.ylabel(name)\n",
        "    if metric == 'loss':\n",
        "      plt.ylim([0, plt.ylim()[1]])\n",
        "    elif metric == 'auc':\n",
        "      plt.ylim([0.8,1])\n",
        "    else:\n",
        "      plt.ylim([0,1])\n",
        "\n",
        "    plt.legend()"
      ],
      "execution_count": null,
      "outputs": []
    },
    {
      "cell_type": "code",
      "metadata": {
        "id": "hnWafFuc3GZD",
        "outputId": "3ce402e9-0ef9-4089-fa80-361c883d62a3",
        "colab": {
          "base_uri": "https://localhost:8080/",
          "height": 610
        }
      },
      "source": [
        "plot_metrics(resampled_history)"
      ],
      "execution_count": null,
      "outputs": [
        {
          "output_type": "display_data",
          "data": {
            "image/png": "[encoded data removed]",
            "text/plain": [
              "<Figure size 864x720 with 4 Axes>"
            ]
          },
          "metadata": {
            "tags": [],
            "needs_background": "light"
          }
        }
      ]
    }
  ]
}