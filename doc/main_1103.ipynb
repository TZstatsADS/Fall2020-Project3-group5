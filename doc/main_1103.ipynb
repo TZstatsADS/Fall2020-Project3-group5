{
  "nbformat": 4,
  "nbformat_minor": 0,
  "metadata": {
    "colab": {
      "name": "main_1103.ipynb",
      "provenance": [],
      "collapsed_sections": [],
      "toc_visible": true
    },
    "kernelspec": {
      "display_name": "Python 3",
      "name": "python3"
    }
  },
  "cells": [
    {
      "cell_type": "markdown",
      "metadata": {
        "id": "q0XLA10S_HBE"
      },
      "source": [
        "# **Part I** Data Pre-Processing\n",
        "\n",
        "## 1. Read fiducial point and save as pickle files"
      ]
    },
    {
      "cell_type": "code",
      "metadata": {
        "id": "kSzwx4YP_B3m"
      },
      "source": [
        "import scipy.io\n",
        "import os\n",
        "import numpy as np\n",
        "import pandas as pd\n",
        "import pickle\n",
        "import tensorflow as tf\n",
        "import warnings\n",
        "warnings.filterwarnings('ignore')"
      ],
      "execution_count": null,
      "outputs": []
    },
    {
      "cell_type": "code",
      "metadata": {
        "id": "gnEwHoeEAdE6"
      },
      "source": [
        "def get_points(file):\n",
        "    '''load matlab style file'''\n",
        "    mat = scipy.io.loadmat(file)\n",
        "    return mat[list(mat.keys())[3]]\n",
        "\n",
        "def pickle_save(filename, content):\n",
        "    '''save the file into python pickle object under output folder'''\n",
        "    with open(filename, 'wb') as f:\n",
        "        pickle.dump(content, f)\n",
        "        \n",
        "def pickle_open(filename):\n",
        "    '''load the pickle file'''\n",
        "    with open(filename, 'rb') as f:\n",
        "        content = pickle.load(f)\n",
        "    return content"
      ],
      "execution_count": null,
      "outputs": []
    },
    {
      "cell_type": "code",
      "metadata": {
        "id": "yLhP7RYGkQmn",
        "outputId": "c84f9a21-139a-43fe-e3ea-40d2936998f4",
        "colab": {
          "base_uri": "https://localhost:8080/"
        }
      },
      "source": [
        "from google.colab import drive\n",
        "drive.mount('/content/drive')"
      ],
      "execution_count": null,
      "outputs": [
        {
          "output_type": "stream",
          "text": [
            "Mounted at /content/drive\n"
          ],
          "name": "stdout"
        }
      ]
    },
    {
      "cell_type": "code",
      "metadata": {
        "id": "gjU4mHoIR6Im"
      },
      "source": [
        "# read mat format file into pickle\n",
        "dir_list = os.listdir('drive/My Drive/points')\n",
        "dir_list.sort()\n",
        "\n",
        "fiducial_pt_full = np.stack((get_points('drive/My Drive/points/'+filename) for filename in dir_list))\n",
        "label_full = pd.read_csv('label.csv')['label']\n",
        "\n",
        "# save the data into pickle files, so that we don't need to read raw data everytime\n",
        "pickle_save('fiducial_pt_full', fiducial_pt_full)\n",
        "pickle_save('label_full', label_full)"
      ],
      "execution_count": null,
      "outputs": []
    },
    {
      "cell_type": "markdown",
      "metadata": {
        "id": "ty7oFgT3BKD_"
      },
      "source": [
        "## 2. Train-test split"
      ]
    },
    {
      "cell_type": "code",
      "metadata": {
        "id": "FeRzNmVXBJiB"
      },
      "source": [
        "from sklearn.model_selection import train_test_split\n",
        "\n",
        "# load data from pickle oject\n",
        "fiducial_pt_full = pickle_open('fiducial_pt_full.pkl')\n",
        "label_full = pickle_open('label_full.pkl')\n",
        "\n",
        "## Note: randomly split into training & test set with seed 42\n",
        "X_train, X_test, y_train, y_test = train_test_split(fiducial_pt_full, label_full, test_size=0.2, random_state=42)"
      ],
      "execution_count": null,
      "outputs": []
    },
    {
      "cell_type": "code",
      "metadata": {
        "id": "AfHq5diqoH9V",
        "outputId": "59da3c4c-c106-46d8-e592-e0c5f8bebf30",
        "colab": {
          "base_uri": "https://localhost:8080/"
        }
      },
      "source": [
        "X_train.shape, y_test.shape"
      ],
      "execution_count": null,
      "outputs": [
        {
          "output_type": "execute_result",
          "data": {
            "text/plain": [
              "((2400, 78, 2), (600,))"
            ]
          },
          "metadata": {
            "tags": []
          },
          "execution_count": 4
        }
      ]
    },
    {
      "cell_type": "markdown",
      "metadata": {
        "id": "OpPygBDMBZiY"
      },
      "source": [
        "## 3. Feature Construction\n",
        "\n",
        "Keep the fiducial points on eyes, eyebrows,and lips. Compute the pairwise distances."
      ]
    },
    {
      "cell_type": "code",
      "metadata": {
        "id": "1Fca7SvdBIuh",
        "outputId": "ad1e0e7d-0b68-4dc7-e5bf-d5f6926129de",
        "colab": {
          "base_uri": "https://localhost:8080/"
        }
      },
      "source": [
        "from sklearn.metrics import pairwise_distances\n",
        "import time\n",
        "\n",
        "# extract pairwise distance as features (78*77/2=3003 features)\n",
        "# nrow=number of records of the dataset; ncol=3003\n",
        "# keep 48 points on lips, eyes, and eyebrows, 48*47\n",
        "\n",
        "start_time = time.time()\n",
        "feature_train = np.stack((pairwise_distances(X_train[i])[np.triu_indices(48, k = 1)] for i in range(X_train.shape[0])))\n",
        "print('Baseline training feature extraction takes %s seconds.'%round((time.time()-start_time),3))\n",
        "\n",
        "start_time = time.time()\n",
        "feature_test = np.stack((pairwise_distances(X_test[i])[np.triu_indices(48, k = 1)] for i in range(X_test.shape[0])))\n",
        "print('Baseline training feature extraction takes %s seconds.'%round((time.time()-start_time),3))\n"
      ],
      "execution_count": null,
      "outputs": [
        {
          "output_type": "stream",
          "text": [
            "Baseline training feature extraction takes 0.912 seconds.\n",
            "Baseline training feature extraction takes 0.209 seconds.\n"
          ],
          "name": "stdout"
        }
      ]
    },
    {
      "cell_type": "markdown",
      "metadata": {
        "id": "YdJv2OObEju-"
      },
      "source": [
        "# **Part II** Baseline Model: GBT\n",
        "\n",
        "We optimized the baseline model with tuned parameters. Referencing main_draft.ipynb for more information."
      ]
    },
    {
      "cell_type": "code",
      "metadata": {
        "id": "xBue719XFNI7"
      },
      "source": [
        "from sklearn.ensemble import GradientBoostingClassifier\n",
        "from sklearn.metrics import precision_score, recall_score, roc_auc_score, accuracy_score\n",
        "import time\n",
        "\n",
        "def clf_metrics(y_true, y_pred, y_score):\n",
        "    accuracy = accuracy_score(y_true, y_pred)\n",
        "    \n",
        "    # reweight dataset in order to estimate the accuracy of \"balanced\" data set\n",
        "    weight_data = np.zeros(len(y_true))\n",
        "    for v in np.unique(y_true):\n",
        "        weight_data[y_true==v] = 0.5*len(y_true)/np.sum(y_true==v)\n",
        "    weighted_acc = np.sum(weight_data * (y_pred==y_true)/np.sum(weight_data))\n",
        "    \n",
        "    precision = precision_score(y_true, y_pred)\n",
        "    recall = recall_score(y_true, y_pred)\n",
        "    auc = roc_auc_score(y_true, y_score, average='weighted')\n",
        "    \n",
        "    df = pd.DataFrame({'accuracy':[accuracy],'weighted acc':[weighted_acc],\n",
        "                       'precision': [precision], 'recall': [recall], 'auc':[auc]})\n",
        "    print(df)"
      ],
      "execution_count": null,
      "outputs": []
    },
    {
      "cell_type": "code",
      "metadata": {
        "id": "QoenUNbBGlK_",
        "outputId": "72dc3444-de25-45a1-e98a-047b55ab5ad1",
        "colab": {
          "base_uri": "https://localhost:8080/"
        }
      },
      "source": [
        "weights2 = np.zeros(len(y_train))\n",
        "weights2[y_train == 0] = 1\n",
        "weights2[y_train == 1] = 10\n",
        "\n",
        "gbt_baseline = GradientBoostingClassifier(learning_rate=0.1, n_estimators=150,\n",
        "                                      max_depth=4, min_samples_split=2, min_samples_leaf=1, \n",
        "                                      subsample=0.8,max_features='sqrt', random_state=299)\n",
        "start = time.time()\n",
        "gbt_baseline.fit(feature_train, y_train, sample_weight = weights2)\n",
        "print('Training time cost {:.2f} s'.format(time.time()-start))"
      ],
      "execution_count": null,
      "outputs": [
        {
          "output_type": "stream",
          "text": [
            "Training time cost 4.45 s\n"
          ],
          "name": "stdout"
        }
      ]
    },
    {
      "cell_type": "code",
      "metadata": {
        "id": "uqVP7G9DGnUh"
      },
      "source": [
        "# store the trained model\n",
        "pickle_save('gbt_baseline', gbt_baseline)\n",
        "\n",
        "# load the trained model from file\n",
        "gbt_baseline = pickle_open('gbt_baseline')"
      ],
      "execution_count": null,
      "outputs": []
    },
    {
      "cell_type": "code",
      "metadata": {
        "id": "eT9s054xG3mN",
        "outputId": "b930585c-3684-409f-b8c3-5f1155ccd3f8",
        "colab": {
          "base_uri": "https://localhost:8080/"
        }
      },
      "source": [
        "gbt_baseline.get_params()"
      ],
      "execution_count": null,
      "outputs": [
        {
          "output_type": "execute_result",
          "data": {
            "text/plain": [
              "{'ccp_alpha': 0.0,\n",
              " 'criterion': 'friedman_mse',\n",
              " 'init': None,\n",
              " 'learning_rate': 0.1,\n",
              " 'loss': 'deviance',\n",
              " 'max_depth': 4,\n",
              " 'max_features': 'sqrt',\n",
              " 'max_leaf_nodes': None,\n",
              " 'min_impurity_decrease': 0.0,\n",
              " 'min_impurity_split': None,\n",
              " 'min_samples_leaf': 1,\n",
              " 'min_samples_split': 2,\n",
              " 'min_weight_fraction_leaf': 0.0,\n",
              " 'n_estimators': 150,\n",
              " 'n_iter_no_change': None,\n",
              " 'presort': 'deprecated',\n",
              " 'random_state': 299,\n",
              " 'subsample': 0.8,\n",
              " 'tol': 0.0001,\n",
              " 'validation_fraction': 0.1,\n",
              " 'verbose': 0,\n",
              " 'warm_start': False}"
            ]
          },
          "metadata": {
            "tags": []
          },
          "execution_count": 9
        }
      ]
    },
    {
      "cell_type": "code",
      "metadata": {
        "id": "JF8PAyavG3bM",
        "outputId": "ff2ef105-011a-46fe-bb69-2ea447ec9a52",
        "colab": {
          "base_uri": "https://localhost:8080/"
        }
      },
      "source": [
        "# Gradient boosting baseline model performance\n",
        "pred_train = gbt_baseline.predict(feature_train)\n",
        "score_train = gbt_baseline.decision_function(feature_train)\n",
        "print('Training set:')\n",
        "clf_metrics(y_train, pred_train, score_train)\n",
        "print('\\n')\n",
        "\n",
        "pred_test = gbt_baseline.predict(feature_test)\n",
        "score_test = gbt_baseline.decision_function(feature_test)\n",
        "print('Test set:')\n",
        "clf_metrics(y_test, pred_test, score_test)\n",
        "print('\\n')"
      ],
      "execution_count": null,
      "outputs": [
        {
          "output_type": "stream",
          "text": [
            "Training set:\n",
            "   accuracy  weighted acc  precision  recall       auc\n",
            "0  0.930833      0.957239     0.7344     1.0  0.999494\n",
            "\n",
            "\n",
            "Test set:\n",
            "   accuracy  weighted acc  precision    recall       auc\n",
            "0  0.736667      0.670344   0.444444  0.546763  0.730192\n",
            "\n",
            "\n"
          ],
          "name": "stdout"
        }
      ]
    },
    {
      "cell_type": "markdown",
      "metadata": {
        "id": "DaUW4VxWmedq"
      },
      "source": [
        "# **Part III** Our Model: Densely Connected Neural Network\n",
        "\n",
        "## 1. Feature engineering"
      ]
    },
    {
      "cell_type": "code",
      "metadata": {
        "id": "39Aqp_oro4OP",
        "outputId": "22886aa4-dca7-41c6-e43a-a46f76ca3a59",
        "colab": {
          "base_uri": "https://localhost:8080/"
        }
      },
      "source": [
        "import warnings\n",
        "warnings.filterwarnings('ignore')\n",
        "start_time = time.time()\n",
        "feature_train = np.stack((pairwise_distances(X_train[i])[np.triu_indices(78, k = 1)] for i in range(X_train.shape[0])))\n",
        "print('Training feature extraction takes %s seconds.'%round((time.time()-start_time),3))\n",
        "\n",
        "start_time = time.time()\n",
        "feature_test = np.stack((pairwise_distances(X_test[i])[np.triu_indices(78, k = 1)] for i in range(X_test.shape[0])))\n",
        "print('Test feature extraction takes %s seconds.'%round((time.time()-start_time),3))\n"
      ],
      "execution_count": null,
      "outputs": [
        {
          "output_type": "stream",
          "text": [
            "Training feature extraction takes 1.145 seconds.\n",
            "Test feature extraction takes 0.269 seconds.\n"
          ],
          "name": "stdout"
        }
      ]
    },
    {
      "cell_type": "markdown",
      "metadata": {
        "id": "yJ5aiq9apUTE"
      },
      "source": [
        "## 2. Oversampling the minority class"
      ]
    },
    {
      "cell_type": "code",
      "metadata": {
        "id": "3iWKMlNW_rCy"
      },
      "source": [
        "y_train = np.array(y_train)\n",
        "y_test = np.array(y_test)\n",
        "\n",
        "bool_train_labels = y_train != 0\n",
        "pos_features = feature_train[bool_train_labels]\n",
        "neg_features = feature_train[~bool_train_labels]\n",
        "\n",
        "pos_labels = y_train[bool_train_labels]\n",
        "neg_labels = y_train[~bool_train_labels]"
      ],
      "execution_count": null,
      "outputs": []
    },
    {
      "cell_type": "code",
      "metadata": {
        "id": "nWi3n6l-_4go",
        "outputId": "55553662-9357-4bd5-a7c5-85a9a576c326",
        "colab": {
          "base_uri": "https://localhost:8080/"
        }
      },
      "source": [
        "pos_labels.shape, neg_labels.shape"
      ],
      "execution_count": null,
      "outputs": [
        {
          "output_type": "execute_result",
          "data": {
            "text/plain": [
              "((459,), (1941,))"
            ]
          },
          "metadata": {
            "tags": []
          },
          "execution_count": 14
        }
      ]
    },
    {
      "cell_type": "code",
      "metadata": {
        "id": "L5nYGpwf_08s",
        "outputId": "a3445f14-8220-4918-82ad-dc88cec14e14",
        "colab": {
          "base_uri": "https://localhost:8080/"
        }
      },
      "source": [
        "# Balance the dataset manually by choosing the right number of random indices from the positive examples\n",
        "ids = np.arange(len(pos_features))\n",
        "choices = np.random.choice(ids, len(neg_features))\n",
        "\n",
        "res_pos_features = pos_features[choices]\n",
        "res_pos_labels = pos_labels[choices]\n",
        "\n",
        "res_pos_features.shape"
      ],
      "execution_count": null,
      "outputs": [
        {
          "output_type": "execute_result",
          "data": {
            "text/plain": [
              "(1941, 3003)"
            ]
          },
          "metadata": {
            "tags": []
          },
          "execution_count": 15
        }
      ]
    },
    {
      "cell_type": "code",
      "metadata": {
        "id": "UPv3gwE3_88V",
        "outputId": "f5b5d3f2-6e2b-4b14-fd50-3db848cb16de",
        "colab": {
          "base_uri": "https://localhost:8080/"
        }
      },
      "source": [
        "resampled_features = np.concatenate([res_pos_features, neg_features], axis=0)\n",
        "resampled_labels = np.concatenate([res_pos_labels, neg_labels], axis=0)\n",
        "\n",
        "order = np.arange(len(resampled_labels))\n",
        "np.random.shuffle(order)\n",
        "resampled_features = resampled_features[order]\n",
        "resampled_labels = resampled_labels[order]\n",
        "\n",
        "resampled_features.shape, resampled_labels.shape"
      ],
      "execution_count": null,
      "outputs": [
        {
          "output_type": "execute_result",
          "data": {
            "text/plain": [
              "((3882, 3003), (3882,))"
            ]
          },
          "metadata": {
            "tags": []
          },
          "execution_count": 16
        }
      ]
    },
    {
      "cell_type": "markdown",
      "metadata": {
        "id": "6P4uhPrupww9"
      },
      "source": [
        "## 3. Model Training"
      ]
    },
    {
      "cell_type": "code",
      "metadata": {
        "id": "Gz9coaRGpoqB",
        "outputId": "1b7f5396-efac-4bcc-bb7c-9e6465b3c40f",
        "colab": {
          "base_uri": "https://localhost:8080/"
        }
      },
      "source": [
        "from tensorflow import keras\n",
        "\n",
        "METRICS = [\n",
        "           keras.metrics.BinaryAccuracy(name='accuracy'),\n",
        "           keras.metrics.AUC(name='auc'),\n",
        "           keras.metrics.Precision(name='precision'),\n",
        "           keras.metrics.Recall(name='recall')\n",
        "]\n",
        "INPUT_SHAPE=[3003]\n",
        "model1 = keras.Sequential([\n",
        "                           keras.layers.BatchNormalization(input_shape=INPUT_SHAPE, \n",
        "                                                           momentum=0.80),\n",
        "                           keras.layers.Dense(1024, activation='relu',\n",
        "                                              kernel_initializer=keras.initializers.glorot_normal(seed=99)),\n",
        "                           keras.layers.Dropout(0.3),\n",
        "                           keras.layers.Dense(512, activation='relu',\n",
        "                                              kernel_initializer=keras.initializers.glorot_normal(seed=99)),\n",
        "                           keras.layers.Dropout(0.3),\n",
        "                           keras.layers.Dense(256, activation='relu',\n",
        "                                              kernel_initializer=keras.initializers.glorot_normal(seed=99)),\n",
        "                           keras.layers.Dense(128, activation='relu',\n",
        "                                              kernel_initializer=keras.initializers.glorot_normal(seed=99)),\n",
        "                           keras.layers.Dropout(0.3),\n",
        "                           keras.layers.Dense(64, activation='relu',\n",
        "                                              kernel_initializer=keras.initializers.glorot_normal(seed=99)),\n",
        "                           keras.layers.Dropout(0.25),\n",
        "                           keras.layers.Dense(32, activation='relu',\n",
        "                                              kernel_initializer=keras.initializers.glorot_normal(seed=99)),\n",
        "                           keras.layers.Dropout(0.1),\n",
        "                           keras.layers.Dense(16, activation='relu',\n",
        "                                              kernel_initializer=keras.initializers.glorot_normal(seed=99)),\n",
        "                           keras.layers.Dense(1, activation='sigmoid')\n",
        "])\n",
        "\n",
        "model1.compile(\n",
        "      #optimizer=keras.optimizers.RMSprop(),\n",
        "      optimizer=keras.optimizers.Adam(lr=0.001),\n",
        "      loss=keras.losses.BinaryCrossentropy(),\n",
        "      metrics=METRICS)\n",
        "\n",
        "early_stopping = tf.keras.callbacks.EarlyStopping(  \n",
        "    monitor='val_auc', \n",
        "    verbose=1,\n",
        "    patience=10,\n",
        "    mode='max',\n",
        "    restore_best_weights=True)\n",
        "\n",
        "model1.summary()"
      ],
      "execution_count": null,
      "outputs": [
        {
          "output_type": "stream",
          "text": [
            "Model: \"sequential_1\"\n",
            "_________________________________________________________________\n",
            "Layer (type)                 Output Shape              Param #   \n",
            "=================================================================\n",
            "batch_normalization_1 (Batch (None, 3003)              12012     \n",
            "_________________________________________________________________\n",
            "dense_8 (Dense)              (None, 1024)              3076096   \n",
            "_________________________________________________________________\n",
            "dropout_5 (Dropout)          (None, 1024)              0         \n",
            "_________________________________________________________________\n",
            "dense_9 (Dense)              (None, 512)               524800    \n",
            "_________________________________________________________________\n",
            "dropout_6 (Dropout)          (None, 512)               0         \n",
            "_________________________________________________________________\n",
            "dense_10 (Dense)             (None, 256)               131328    \n",
            "_________________________________________________________________\n",
            "dense_11 (Dense)             (None, 128)               32896     \n",
            "_________________________________________________________________\n",
            "dropout_7 (Dropout)          (None, 128)               0         \n",
            "_________________________________________________________________\n",
            "dense_12 (Dense)             (None, 64)                8256      \n",
            "_________________________________________________________________\n",
            "dropout_8 (Dropout)          (None, 64)                0         \n",
            "_________________________________________________________________\n",
            "dense_13 (Dense)             (None, 32)                2080      \n",
            "_________________________________________________________________\n",
            "dropout_9 (Dropout)          (None, 32)                0         \n",
            "_________________________________________________________________\n",
            "dense_14 (Dense)             (None, 16)                528       \n",
            "_________________________________________________________________\n",
            "dense_15 (Dense)             (None, 1)                 17        \n",
            "=================================================================\n",
            "Total params: 3,788,013\n",
            "Trainable params: 3,782,007\n",
            "Non-trainable params: 6,006\n",
            "_________________________________________________________________\n"
          ],
          "name": "stdout"
        }
      ]
    },
    {
      "cell_type": "code",
      "metadata": {
        "id": "S8pvK59_pvS1",
        "outputId": "e9d46abb-625b-453c-ec71-cfd60525c141",
        "colab": {
          "base_uri": "https://localhost:8080/"
        }
      },
      "source": [
        "start_time = time.time()\n",
        "\n",
        "EPOCHS=100\n",
        "resampled_history = model1.fit(\n",
        "    resampled_features, resampled_labels,\n",
        "    epochs=EPOCHS,\n",
        "    batch_size=64, \n",
        "    callbacks = [early_stopping],\n",
        "    validation_split=0.2\n",
        "    )\n",
        "\n",
        "print(\"training  model takes %s seconds\" % round((time.time() - start_time),3))"
      ],
      "execution_count": null,
      "outputs": [
        {
          "output_type": "stream",
          "text": [
            "Epoch 1/100\n",
            "49/49 [==============================] - 4s 72ms/step - loss: 0.7985 - accuracy: 0.4937 - auc: 0.4872 - precision: 0.4929 - recall: 0.5132 - val_loss: 0.6932 - val_accuracy: 0.5122 - val_auc: 0.5049 - val_precision: 0.5176 - val_recall: 0.4872\n",
            "Epoch 2/100\n",
            "49/49 [==============================] - 3s 60ms/step - loss: 0.7310 - accuracy: 0.4899 - auc: 0.4815 - precision: 0.4871 - recall: 0.4280 - val_loss: 0.6939 - val_accuracy: 0.5006 - val_auc: 0.5070 - val_precision: 0.5039 - val_recall: 0.6531\n",
            "Epoch 3/100\n",
            "49/49 [==============================] - 3s 60ms/step - loss: 0.7124 - accuracy: 0.5060 - auc: 0.5060 - precision: 0.5054 - recall: 0.4519 - val_loss: 0.6915 - val_accuracy: 0.5174 - val_auc: 0.5367 - val_precision: 0.5188 - val_recall: 0.5969\n",
            "Epoch 4/100\n",
            "49/49 [==============================] - 3s 60ms/step - loss: 0.7112 - accuracy: 0.4918 - auc: 0.4768 - precision: 0.4862 - recall: 0.3292 - val_loss: 0.6931 - val_accuracy: 0.4994 - val_auc: 0.5146 - val_precision: 0.5882 - val_recall: 0.0255\n",
            "Epoch 5/100\n",
            "49/49 [==============================] - 3s 59ms/step - loss: 0.7027 - accuracy: 0.4986 - auc: 0.4880 - precision: 0.4969 - recall: 0.4093 - val_loss: 0.6914 - val_accuracy: 0.5071 - val_auc: 0.5318 - val_precision: 0.5146 - val_recall: 0.4056\n",
            "Epoch 6/100\n",
            "49/49 [==============================] - 3s 60ms/step - loss: 0.7040 - accuracy: 0.5246 - auc: 0.5144 - precision: 0.5265 - recall: 0.4680 - val_loss: 0.6909 - val_accuracy: 0.5534 - val_auc: 0.5565 - val_precision: 0.5553 - val_recall: 0.5765\n",
            "Epoch 7/100\n",
            "49/49 [==============================] - 3s 60ms/step - loss: 0.6948 - accuracy: 0.5395 - auc: 0.5435 - precision: 0.5395 - recall: 0.5249 - val_loss: 0.6860 - val_accuracy: 0.5727 - val_auc: 0.6267 - val_precision: 0.5498 - val_recall: 0.8444\n",
            "Epoch 8/100\n",
            "49/49 [==============================] - 3s 60ms/step - loss: 0.6919 - accuracy: 0.5356 - auc: 0.5518 - precision: 0.5328 - recall: 0.5617 - val_loss: 0.6777 - val_accuracy: 0.5701 - val_auc: 0.6426 - val_precision: 0.5474 - val_recall: 0.8546\n",
            "Epoch 9/100\n",
            "49/49 [==============================] - 3s 59ms/step - loss: 0.6765 - accuracy: 0.5758 - auc: 0.6036 - precision: 0.5843 - recall: 0.5190 - val_loss: 0.6461 - val_accuracy: 0.6332 - val_auc: 0.7187 - val_precision: 0.6931 - val_recall: 0.4898\n",
            "Epoch 10/100\n",
            "49/49 [==============================] - 3s 60ms/step - loss: 0.6603 - accuracy: 0.6135 - auc: 0.6427 - precision: 0.6485 - recall: 0.4919 - val_loss: 0.6277 - val_accuracy: 0.6808 - val_auc: 0.7342 - val_precision: 0.7535 - val_recall: 0.5459\n",
            "Epoch 11/100\n",
            "49/49 [==============================] - 3s 59ms/step - loss: 0.6323 - accuracy: 0.6538 - auc: 0.7009 - precision: 0.6849 - recall: 0.5668 - val_loss: 0.5765 - val_accuracy: 0.7336 - val_auc: 0.8033 - val_precision: 0.7606 - val_recall: 0.6888\n",
            "Epoch 12/100\n",
            "49/49 [==============================] - 3s 59ms/step - loss: 0.6001 - accuracy: 0.6770 - auc: 0.7453 - precision: 0.6891 - recall: 0.6423 - val_loss: 0.5849 - val_accuracy: 0.6782 - val_auc: 0.7771 - val_precision: 0.6340 - val_recall: 0.8571\n",
            "Epoch 13/100\n",
            "49/49 [==============================] - 3s 59ms/step - loss: 0.5474 - accuracy: 0.7221 - auc: 0.8005 - precision: 0.7224 - recall: 0.7192 - val_loss: 0.5218 - val_accuracy: 0.7490 - val_auc: 0.8183 - val_precision: 0.7408 - val_recall: 0.7730\n",
            "Epoch 14/100\n",
            "49/49 [==============================] - 3s 58ms/step - loss: 0.5157 - accuracy: 0.7372 - auc: 0.8233 - precision: 0.7502 - recall: 0.7095 - val_loss: 0.4843 - val_accuracy: 0.7632 - val_auc: 0.8651 - val_precision: 0.8377 - val_recall: 0.6582\n",
            "Epoch 15/100\n",
            "49/49 [==============================] - 3s 61ms/step - loss: 0.4815 - accuracy: 0.7643 - auc: 0.8499 - precision: 0.7704 - recall: 0.7515 - val_loss: 0.4828 - val_accuracy: 0.7851 - val_auc: 0.8631 - val_precision: 0.8049 - val_recall: 0.7577\n",
            "Epoch 16/100\n",
            "49/49 [==============================] - 3s 62ms/step - loss: 0.4698 - accuracy: 0.7755 - auc: 0.8587 - precision: 0.7700 - recall: 0.7844 - val_loss: 0.4391 - val_accuracy: 0.7658 - val_auc: 0.8727 - val_precision: 0.7386 - val_recall: 0.8291\n",
            "Epoch 17/100\n",
            "49/49 [==============================] - 3s 62ms/step - loss: 0.4507 - accuracy: 0.7810 - auc: 0.8667 - precision: 0.7731 - recall: 0.7941 - val_loss: 0.4366 - val_accuracy: 0.7658 - val_auc: 0.8626 - val_precision: 0.7293 - val_recall: 0.8520\n",
            "Epoch 18/100\n",
            "49/49 [==============================] - 3s 61ms/step - loss: 0.4297 - accuracy: 0.7939 - auc: 0.8814 - precision: 0.7800 - recall: 0.8173 - val_loss: 0.4575 - val_accuracy: 0.7722 - val_auc: 0.8860 - val_precision: 0.7172 - val_recall: 0.9056\n",
            "Epoch 19/100\n",
            "49/49 [==============================] - 3s 62ms/step - loss: 0.4276 - accuracy: 0.7942 - auc: 0.8831 - precision: 0.7851 - recall: 0.8089 - val_loss: 0.3985 - val_accuracy: 0.8108 - val_auc: 0.9005 - val_precision: 0.7601 - val_recall: 0.9133\n",
            "Epoch 20/100\n",
            "49/49 [==============================] - 3s 61ms/step - loss: 0.4076 - accuracy: 0.8061 - auc: 0.8934 - precision: 0.8003 - recall: 0.8147 - val_loss: 0.3981 - val_accuracy: 0.8018 - val_auc: 0.9058 - val_precision: 0.7847 - val_recall: 0.8367\n",
            "Epoch 21/100\n",
            "49/49 [==============================] - 3s 61ms/step - loss: 0.3748 - accuracy: 0.8167 - auc: 0.9092 - precision: 0.8097 - recall: 0.8270 - val_loss: 0.3991 - val_accuracy: 0.7889 - val_auc: 0.8984 - val_precision: 0.7457 - val_recall: 0.8827\n",
            "Epoch 22/100\n",
            "49/49 [==============================] - 3s 60ms/step - loss: 0.3668 - accuracy: 0.8203 - auc: 0.9161 - precision: 0.8182 - recall: 0.8225 - val_loss: 0.3730 - val_accuracy: 0.7979 - val_auc: 0.9053 - val_precision: 0.7403 - val_recall: 0.9235\n",
            "Epoch 23/100\n",
            "49/49 [==============================] - 3s 59ms/step - loss: 0.3594 - accuracy: 0.8406 - auc: 0.9233 - precision: 0.8156 - recall: 0.8793 - val_loss: 0.3498 - val_accuracy: 0.8301 - val_auc: 0.9209 - val_precision: 0.8052 - val_recall: 0.8750\n",
            "Epoch 24/100\n",
            "49/49 [==============================] - 3s 59ms/step - loss: 0.3296 - accuracy: 0.8515 - auc: 0.9331 - precision: 0.8396 - recall: 0.8683 - val_loss: 0.3417 - val_accuracy: 0.8366 - val_auc: 0.9277 - val_precision: 0.8288 - val_recall: 0.8520\n",
            "Epoch 25/100\n",
            "49/49 [==============================] - 3s 60ms/step - loss: 0.3187 - accuracy: 0.8567 - auc: 0.9371 - precision: 0.8463 - recall: 0.8709 - val_loss: 0.3318 - val_accuracy: 0.8507 - val_auc: 0.9318 - val_precision: 0.8450 - val_recall: 0.8622\n",
            "Epoch 26/100\n",
            "49/49 [==============================] - 3s 60ms/step - loss: 0.3281 - accuracy: 0.8580 - auc: 0.9352 - precision: 0.8428 - recall: 0.8793 - val_loss: 0.3213 - val_accuracy: 0.8584 - val_auc: 0.9365 - val_precision: 0.8079 - val_recall: 0.9439\n",
            "Epoch 27/100\n",
            "49/49 [==============================] - 3s 59ms/step - loss: 0.3181 - accuracy: 0.8586 - auc: 0.9386 - precision: 0.8486 - recall: 0.8722 - val_loss: 0.3507 - val_accuracy: 0.8288 - val_auc: 0.9229 - val_precision: 0.8381 - val_recall: 0.8189\n",
            "Epoch 28/100\n",
            "49/49 [==============================] - 3s 60ms/step - loss: 0.3023 - accuracy: 0.8680 - auc: 0.9435 - precision: 0.8458 - recall: 0.8993 - val_loss: 0.3211 - val_accuracy: 0.8443 - val_auc: 0.9330 - val_precision: 0.8379 - val_recall: 0.8571\n",
            "Epoch 29/100\n",
            "49/49 [==============================] - 3s 60ms/step - loss: 0.2958 - accuracy: 0.8647 - auc: 0.9466 - precision: 0.8491 - recall: 0.8864 - val_loss: 0.3285 - val_accuracy: 0.8468 - val_auc: 0.9358 - val_precision: 0.8054 - val_recall: 0.9184\n",
            "Epoch 30/100\n",
            "49/49 [==============================] - 3s 59ms/step - loss: 0.2939 - accuracy: 0.8738 - auc: 0.9483 - precision: 0.8504 - recall: 0.9064 - val_loss: 0.3074 - val_accuracy: 0.8623 - val_auc: 0.9450 - val_precision: 0.8188 - val_recall: 0.9337\n",
            "Epoch 31/100\n",
            "49/49 [==============================] - 3s 59ms/step - loss: 0.2639 - accuracy: 0.8776 - auc: 0.9566 - precision: 0.8575 - recall: 0.9051 - val_loss: 0.3184 - val_accuracy: 0.8468 - val_auc: 0.9411 - val_precision: 0.8660 - val_recall: 0.8240\n",
            "Epoch 32/100\n",
            "49/49 [==============================] - 3s 60ms/step - loss: 0.2551 - accuracy: 0.8866 - auc: 0.9596 - precision: 0.8697 - recall: 0.9090 - val_loss: 0.3092 - val_accuracy: 0.8571 - val_auc: 0.9376 - val_precision: 0.8290 - val_recall: 0.9031\n",
            "Epoch 33/100\n",
            "49/49 [==============================] - 3s 60ms/step - loss: 0.2654 - accuracy: 0.8792 - auc: 0.9558 - precision: 0.8523 - recall: 0.9167 - val_loss: 0.2783 - val_accuracy: 0.8597 - val_auc: 0.9536 - val_precision: 0.7870 - val_recall: 0.9898\n",
            "Epoch 34/100\n",
            "49/49 [==============================] - 3s 60ms/step - loss: 0.2822 - accuracy: 0.8721 - auc: 0.9502 - precision: 0.8420 - recall: 0.9154 - val_loss: 0.2966 - val_accuracy: 0.8674 - val_auc: 0.9560 - val_precision: 0.8042 - val_recall: 0.9745\n",
            "Epoch 35/100\n",
            "49/49 [==============================] - 3s 60ms/step - loss: 0.2244 - accuracy: 0.9031 - auc: 0.9702 - precision: 0.8959 - recall: 0.9116 - val_loss: 0.2654 - val_accuracy: 0.8790 - val_auc: 0.9563 - val_precision: 0.8725 - val_recall: 0.8903\n",
            "Epoch 36/100\n",
            "49/49 [==============================] - 3s 62ms/step - loss: 0.2390 - accuracy: 0.8934 - auc: 0.9640 - precision: 0.8741 - recall: 0.9187 - val_loss: 0.2750 - val_accuracy: 0.8649 - val_auc: 0.9497 - val_precision: 0.8579 - val_recall: 0.8776\n",
            "Epoch 37/100\n",
            "49/49 [==============================] - 3s 63ms/step - loss: 0.2195 - accuracy: 0.9085 - auc: 0.9709 - precision: 0.9062 - recall: 0.9109 - val_loss: 0.2475 - val_accuracy: 0.8983 - val_auc: 0.9602 - val_precision: 0.8533 - val_recall: 0.9643\n",
            "Epoch 38/100\n",
            "49/49 [==============================] - 3s 61ms/step - loss: 0.2040 - accuracy: 0.9163 - auc: 0.9740 - precision: 0.8956 - recall: 0.9419 - val_loss: 0.2382 - val_accuracy: 0.8945 - val_auc: 0.9657 - val_precision: 0.8326 - val_recall: 0.9898\n",
            "Epoch 39/100\n",
            "49/49 [==============================] - 3s 60ms/step - loss: 0.2181 - accuracy: 0.9076 - auc: 0.9713 - precision: 0.8824 - recall: 0.9400 - val_loss: 0.2638 - val_accuracy: 0.8867 - val_auc: 0.9562 - val_precision: 0.8486 - val_recall: 0.9439\n",
            "Epoch 40/100\n",
            "49/49 [==============================] - 3s 60ms/step - loss: 0.2148 - accuracy: 0.9069 - auc: 0.9717 - precision: 0.8928 - recall: 0.9245 - val_loss: 0.2690 - val_accuracy: 0.8713 - val_auc: 0.9533 - val_precision: 0.8476 - val_recall: 0.9082\n",
            "Epoch 41/100\n",
            "49/49 [==============================] - 3s 59ms/step - loss: 0.1994 - accuracy: 0.9172 - auc: 0.9754 - precision: 0.8949 - recall: 0.9451 - val_loss: 0.2453 - val_accuracy: 0.8880 - val_auc: 0.9611 - val_precision: 0.8729 - val_recall: 0.9107\n",
            "Epoch 42/100\n",
            "49/49 [==============================] - 3s 59ms/step - loss: 0.1934 - accuracy: 0.9111 - auc: 0.9774 - precision: 0.9016 - recall: 0.9225 - val_loss: 0.2433 - val_accuracy: 0.9035 - val_auc: 0.9652 - val_precision: 0.8894 - val_recall: 0.9235\n",
            "Epoch 43/100\n",
            "49/49 [==============================] - 3s 60ms/step - loss: 0.2051 - accuracy: 0.9143 - auc: 0.9747 - precision: 0.9027 - recall: 0.9283 - val_loss: 0.2752 - val_accuracy: 0.8584 - val_auc: 0.9532 - val_precision: 0.8119 - val_recall: 0.9362\n",
            "Epoch 44/100\n",
            "49/49 [==============================] - 3s 60ms/step - loss: 0.1789 - accuracy: 0.9179 - auc: 0.9807 - precision: 0.9044 - recall: 0.9342 - val_loss: 0.2655 - val_accuracy: 0.8996 - val_auc: 0.9602 - val_precision: 0.8568 - val_recall: 0.9617\n",
            "Epoch 45/100\n",
            "49/49 [==============================] - 3s 60ms/step - loss: 0.1754 - accuracy: 0.9279 - auc: 0.9812 - precision: 0.9217 - recall: 0.9348 - val_loss: 0.2993 - val_accuracy: 0.8726 - val_auc: 0.9464 - val_precision: 0.8547 - val_recall: 0.9005\n",
            "Epoch 46/100\n",
            "49/49 [==============================] - 3s 60ms/step - loss: 0.1780 - accuracy: 0.9227 - auc: 0.9805 - precision: 0.9161 - recall: 0.9303 - val_loss: 0.2303 - val_accuracy: 0.9022 - val_auc: 0.9669 - val_precision: 0.8744 - val_recall: 0.9413\n",
            "Epoch 47/100\n",
            "49/49 [==============================] - 3s 60ms/step - loss: 0.1687 - accuracy: 0.9340 - auc: 0.9830 - precision: 0.9148 - recall: 0.9567 - val_loss: 0.2951 - val_accuracy: 0.8662 - val_auc: 0.9491 - val_precision: 0.8512 - val_recall: 0.8903\n",
            "Epoch 48/100\n",
            "49/49 [==============================] - 3s 60ms/step - loss: 0.1659 - accuracy: 0.9369 - auc: 0.9841 - precision: 0.9257 - recall: 0.9496 - val_loss: 0.2423 - val_accuracy: 0.8867 - val_auc: 0.9689 - val_precision: 0.8486 - val_recall: 0.9439\n",
            "Epoch 49/100\n",
            "49/49 [==============================] - 3s 60ms/step - loss: 0.1464 - accuracy: 0.9401 - auc: 0.9871 - precision: 0.9400 - recall: 0.9400 - val_loss: 0.2673 - val_accuracy: 0.9009 - val_auc: 0.9641 - val_precision: 0.8555 - val_recall: 0.9668\n",
            "Epoch 50/100\n",
            "49/49 [==============================] - 3s 60ms/step - loss: 0.1654 - accuracy: 0.9304 - auc: 0.9826 - precision: 0.9210 - recall: 0.9413 - val_loss: 0.2385 - val_accuracy: 0.8958 - val_auc: 0.9671 - val_precision: 0.8997 - val_recall: 0.8929\n",
            "Epoch 51/100\n",
            "49/49 [==============================] - 3s 60ms/step - loss: 0.1561 - accuracy: 0.9395 - auc: 0.9852 - precision: 0.9365 - recall: 0.9425 - val_loss: 0.2335 - val_accuracy: 0.8958 - val_auc: 0.9718 - val_precision: 0.8433 - val_recall: 0.9745\n",
            "Epoch 52/100\n",
            "49/49 [==============================] - 3s 60ms/step - loss: 0.1494 - accuracy: 0.9378 - auc: 0.9857 - precision: 0.9286 - recall: 0.9484 - val_loss: 0.2237 - val_accuracy: 0.8996 - val_auc: 0.9695 - val_precision: 0.8925 - val_recall: 0.9107\n",
            "Epoch 53/100\n",
            "49/49 [==============================] - 3s 60ms/step - loss: 0.1408 - accuracy: 0.9459 - auc: 0.9880 - precision: 0.9379 - recall: 0.9548 - val_loss: 0.2497 - val_accuracy: 0.8983 - val_auc: 0.9677 - val_precision: 0.8470 - val_recall: 0.9745\n",
            "Epoch 54/100\n",
            "49/49 [==============================] - 3s 60ms/step - loss: 0.1449 - accuracy: 0.9424 - auc: 0.9868 - precision: 0.9319 - recall: 0.9542 - val_loss: 0.2224 - val_accuracy: 0.9112 - val_auc: 0.9703 - val_precision: 0.8679 - val_recall: 0.9719\n",
            "Epoch 55/100\n",
            "49/49 [==============================] - 3s 60ms/step - loss: 0.1616 - accuracy: 0.9375 - auc: 0.9849 - precision: 0.9248 - recall: 0.9522 - val_loss: 0.2070 - val_accuracy: 0.9099 - val_auc: 0.9747 - val_precision: 0.8852 - val_recall: 0.9439\n",
            "Epoch 56/100\n",
            "49/49 [==============================] - 3s 60ms/step - loss: 0.1544 - accuracy: 0.9375 - auc: 0.9847 - precision: 0.9205 - recall: 0.9574 - val_loss: 0.2425 - val_accuracy: 0.8983 - val_auc: 0.9650 - val_precision: 0.8351 - val_recall: 0.9949\n",
            "Epoch 57/100\n",
            "49/49 [==============================] - 3s 60ms/step - loss: 0.1427 - accuracy: 0.9420 - auc: 0.9875 - precision: 0.9212 - recall: 0.9664 - val_loss: 0.1891 - val_accuracy: 0.9189 - val_auc: 0.9783 - val_precision: 0.9042 - val_recall: 0.9388\n",
            "Epoch 58/100\n",
            "49/49 [==============================] - 4s 90ms/step - loss: 0.1037 - accuracy: 0.9607 - auc: 0.9925 - precision: 0.9513 - recall: 0.9709 - val_loss: 0.2123 - val_accuracy: 0.9138 - val_auc: 0.9753 - val_precision: 0.8719 - val_recall: 0.9719\n",
            "Epoch 59/100\n",
            "49/49 [==============================] - 5s 103ms/step - loss: 0.1229 - accuracy: 0.9510 - auc: 0.9897 - precision: 0.9385 - recall: 0.9651 - val_loss: 0.1988 - val_accuracy: 0.9099 - val_auc: 0.9741 - val_precision: 0.8852 - val_recall: 0.9439\n",
            "Epoch 60/100\n",
            "49/49 [==============================] - 5s 101ms/step - loss: 0.1202 - accuracy: 0.9504 - auc: 0.9901 - precision: 0.9330 - recall: 0.9703 - val_loss: 0.1728 - val_accuracy: 0.9279 - val_auc: 0.9793 - val_precision: 0.8981 - val_recall: 0.9668\n",
            "Epoch 61/100\n",
            "49/49 [==============================] - 3s 60ms/step - loss: 0.1206 - accuracy: 0.9501 - auc: 0.9909 - precision: 0.9324 - recall: 0.9703 - val_loss: 0.2187 - val_accuracy: 0.9099 - val_auc: 0.9692 - val_precision: 0.8908 - val_recall: 0.9362\n",
            "Epoch 62/100\n",
            "49/49 [==============================] - 3s 59ms/step - loss: 0.1203 - accuracy: 0.9494 - auc: 0.9910 - precision: 0.9405 - recall: 0.9593 - val_loss: 0.2117 - val_accuracy: 0.9151 - val_auc: 0.9728 - val_precision: 0.8937 - val_recall: 0.9439\n",
            "Epoch 63/100\n",
            "49/49 [==============================] - 3s 60ms/step - loss: 0.0948 - accuracy: 0.9623 - auc: 0.9943 - precision: 0.9515 - recall: 0.9742 - val_loss: 0.1899 - val_accuracy: 0.9151 - val_auc: 0.9805 - val_precision: 0.8705 - val_recall: 0.9770\n",
            "Epoch 64/100\n",
            "49/49 [==============================] - 3s 60ms/step - loss: 0.1056 - accuracy: 0.9549 - auc: 0.9929 - precision: 0.9456 - recall: 0.9651 - val_loss: 0.1890 - val_accuracy: 0.9202 - val_auc: 0.9774 - val_precision: 0.8947 - val_recall: 0.9541\n",
            "Epoch 65/100\n",
            "49/49 [==============================] - 3s 60ms/step - loss: 0.1040 - accuracy: 0.9578 - auc: 0.9931 - precision: 0.9470 - recall: 0.9697 - val_loss: 0.1787 - val_accuracy: 0.9176 - val_auc: 0.9814 - val_precision: 0.8832 - val_recall: 0.9643\n",
            "Epoch 66/100\n",
            "49/49 [==============================] - 3s 60ms/step - loss: 0.1123 - accuracy: 0.9572 - auc: 0.9920 - precision: 0.9510 - recall: 0.9638 - val_loss: 0.1969 - val_accuracy: 0.9176 - val_auc: 0.9777 - val_precision: 0.8796 - val_recall: 0.9694\n",
            "Epoch 67/100\n",
            "49/49 [==============================] - 3s 60ms/step - loss: 0.0870 - accuracy: 0.9665 - auc: 0.9951 - precision: 0.9611 - recall: 0.9722 - val_loss: 0.2226 - val_accuracy: 0.9189 - val_auc: 0.9757 - val_precision: 0.8680 - val_recall: 0.9898\n",
            "Epoch 68/100\n",
            "49/49 [==============================] - 3s 61ms/step - loss: 0.1099 - accuracy: 0.9565 - auc: 0.9926 - precision: 0.9497 - recall: 0.9638 - val_loss: 0.2750 - val_accuracy: 0.8958 - val_auc: 0.9703 - val_precision: 0.8433 - val_recall: 0.9745\n",
            "Epoch 69/100\n",
            "49/49 [==============================] - 3s 61ms/step - loss: 0.1113 - accuracy: 0.9543 - auc: 0.9924 - precision: 0.9389 - recall: 0.9716 - val_loss: 0.2049 - val_accuracy: 0.9112 - val_auc: 0.9742 - val_precision: 0.8696 - val_recall: 0.9694\n",
            "Epoch 70/100\n",
            "49/49 [==============================] - 3s 60ms/step - loss: 0.1067 - accuracy: 0.9530 - auc: 0.9928 - precision: 0.9382 - recall: 0.9697 - val_loss: 0.2062 - val_accuracy: 0.9099 - val_auc: 0.9773 - val_precision: 0.8889 - val_recall: 0.9388\n",
            "Epoch 71/100\n",
            "49/49 [==============================] - 3s 61ms/step - loss: 0.1254 - accuracy: 0.9549 - auc: 0.9899 - precision: 0.9490 - recall: 0.9613 - val_loss: 0.1619 - val_accuracy: 0.9318 - val_auc: 0.9843 - val_precision: 0.9045 - val_recall: 0.9668\n",
            "Epoch 72/100\n",
            "49/49 [==============================] - 3s 60ms/step - loss: 0.0928 - accuracy: 0.9652 - auc: 0.9942 - precision: 0.9586 - recall: 0.9722 - val_loss: 0.1954 - val_accuracy: 0.9163 - val_auc: 0.9785 - val_precision: 0.8978 - val_recall: 0.9413\n",
            "Epoch 73/100\n",
            "49/49 [==============================] - 3s 60ms/step - loss: 0.1363 - accuracy: 0.9543 - auc: 0.9884 - precision: 0.9450 - recall: 0.9645 - val_loss: 0.1904 - val_accuracy: 0.9228 - val_auc: 0.9800 - val_precision: 0.8897 - val_recall: 0.9668\n",
            "Epoch 74/100\n",
            "49/49 [==============================] - 3s 61ms/step - loss: 0.1393 - accuracy: 0.9478 - auc: 0.9874 - precision: 0.9326 - recall: 0.9651 - val_loss: 0.1710 - val_accuracy: 0.9292 - val_auc: 0.9816 - val_precision: 0.8856 - val_recall: 0.9872\n",
            "Epoch 75/100\n",
            "49/49 [==============================] - 3s 61ms/step - loss: 0.0897 - accuracy: 0.9643 - auc: 0.9948 - precision: 0.9597 - recall: 0.9690 - val_loss: 0.1901 - val_accuracy: 0.9254 - val_auc: 0.9799 - val_precision: 0.8866 - val_recall: 0.9770\n",
            "Epoch 76/100\n",
            "49/49 [==============================] - 3s 61ms/step - loss: 0.0878 - accuracy: 0.9633 - auc: 0.9952 - precision: 0.9550 - recall: 0.9722 - val_loss: 0.1533 - val_accuracy: 0.9472 - val_auc: 0.9843 - val_precision: 0.9249 - val_recall: 0.9745\n",
            "Epoch 77/100\n",
            "49/49 [==============================] - 3s 60ms/step - loss: 0.0685 - accuracy: 0.9755 - auc: 0.9971 - precision: 0.9718 - recall: 0.9793 - val_loss: 0.2418 - val_accuracy: 0.9163 - val_auc: 0.9760 - val_precision: 0.8865 - val_recall: 0.9566\n",
            "Epoch 78/100\n",
            "49/49 [==============================] - 3s 60ms/step - loss: 0.0809 - accuracy: 0.9694 - auc: 0.9954 - precision: 0.9666 - recall: 0.9722 - val_loss: 0.2021 - val_accuracy: 0.9369 - val_auc: 0.9760 - val_precision: 0.9093 - val_recall: 0.9719\n",
            "Epoch 79/100\n",
            "49/49 [==============================] - 3s 60ms/step - loss: 0.0701 - accuracy: 0.9720 - auc: 0.9966 - precision: 0.9716 - recall: 0.9722 - val_loss: 0.1792 - val_accuracy: 0.9382 - val_auc: 0.9825 - val_precision: 0.9076 - val_recall: 0.9770\n",
            "Epoch 80/100\n",
            "49/49 [==============================] - 3s 60ms/step - loss: 0.0803 - accuracy: 0.9691 - auc: 0.9959 - precision: 0.9660 - recall: 0.9722 - val_loss: 0.2240 - val_accuracy: 0.9228 - val_auc: 0.9779 - val_precision: 0.8897 - val_recall: 0.9668\n",
            "Epoch 81/100\n",
            "49/49 [==============================] - 3s 60ms/step - loss: 0.0877 - accuracy: 0.9710 - auc: 0.9942 - precision: 0.9722 - recall: 0.9697 - val_loss: 0.2031 - val_accuracy: 0.9305 - val_auc: 0.9785 - val_precision: 0.9024 - val_recall: 0.9668\n",
            "Epoch 82/100\n",
            "49/49 [==============================] - 3s 60ms/step - loss: 0.0578 - accuracy: 0.9781 - auc: 0.9977 - precision: 0.9762 - recall: 0.9800 - val_loss: 0.2777 - val_accuracy: 0.9228 - val_auc: 0.9749 - val_precision: 0.8739 - val_recall: 0.9898\n",
            "Epoch 83/100\n",
            "49/49 [==============================] - 3s 60ms/step - loss: 0.0852 - accuracy: 0.9723 - auc: 0.9943 - precision: 0.9639 - recall: 0.9813 - val_loss: 0.1925 - val_accuracy: 0.9292 - val_auc: 0.9790 - val_precision: 0.9202 - val_recall: 0.9413\n",
            "Epoch 84/100\n",
            "49/49 [==============================] - 3s 60ms/step - loss: 0.0831 - accuracy: 0.9688 - auc: 0.9956 - precision: 0.9630 - recall: 0.9748 - val_loss: 0.1872 - val_accuracy: 0.9395 - val_auc: 0.9822 - val_precision: 0.9117 - val_recall: 0.9745\n",
            "Epoch 85/100\n",
            "49/49 [==============================] - 3s 60ms/step - loss: 0.0809 - accuracy: 0.9710 - auc: 0.9957 - precision: 0.9638 - recall: 0.9787 - val_loss: 0.1932 - val_accuracy: 0.9215 - val_auc: 0.9795 - val_precision: 0.8822 - val_recall: 0.9745\n",
            "Epoch 86/100\n",
            "49/49 [==============================] - ETA: 0s - loss: 0.0578 - accuracy: 0.9797 - auc: 0.9970 - precision: 0.9745 - recall: 0.9852Restoring model weights from the end of the best epoch.\n",
            "49/49 [==============================] - 3s 61ms/step - loss: 0.0578 - accuracy: 0.9797 - auc: 0.9970 - precision: 0.9745 - recall: 0.9852 - val_loss: 0.1895 - val_accuracy: 0.9331 - val_auc: 0.9829 - val_precision: 0.9229 - val_recall: 0.9464\n",
            "Epoch 00086: early stopping\n",
            "training  model takes 266.685 seconds\n"
          ],
          "name": "stdout"
        }
      ]
    },
    {
      "cell_type": "code",
      "metadata": {
        "id": "1uiELtfXtoEB"
      },
      "source": [
        "# calculate weighted accuracy on test data\n",
        "pred_prob = model1.predict(feature_test).reshape(len(y_test))\n",
        "pred_test = np.zeros(len(y_test))\n",
        "pred_test[pred_prob>0.5] = 1\n",
        "\n",
        "weight_test = np.zeros(len(y_test))\n",
        "for v in np.unique(y_test):\n",
        "    weight_test[y_test==v] = 0.5*len(y_test)/np.sum(y_test==v)\n",
        "weighted_acc = np.sum(weight_test * (pred_test==y_test)/np.sum(weight_test))"
      ],
      "execution_count": null,
      "outputs": []
    },
    {
      "cell_type": "code",
      "metadata": {
        "id": "0Ys1zuhEtErg",
        "outputId": "15849adb-23c3-4461-abbf-38caf6bd3f4d",
        "colab": {
          "base_uri": "https://localhost:8080/"
        }
      },
      "source": [
        "eval = model1.evaluate(feature_test, y_test)\n",
        "print('Test accuracy: {:.2f}'.format(eval[1]))\n",
        "print('Test weighted accuracy: {:.2f}'.format(weighted_acc))\n",
        "print('Test auc: {:.2f}'.format(eval[2]))"
      ],
      "execution_count": null,
      "outputs": [
        {
          "output_type": "stream",
          "text": [
            "19/19 [==============================] - 0s 9ms/step - loss: 0.7621 - accuracy: 0.8367 - auc: 0.8189 - precision: 0.6667 - recall: 0.5899\n",
            "Test accuracy: 0.84\n",
            "Test weighted accuracy: 0.75\n",
            "Test auc: 0.82\n"
          ],
          "name": "stdout"
        }
      ]
    },
    {
      "cell_type": "markdown",
      "metadata": {
        "id": "7Yw6a2KsvOKm"
      },
      "source": [
        "## 4. Visualization"
      ]
    },
    {
      "cell_type": "code",
      "metadata": {
        "id": "6Y1kr-wcvNlo"
      },
      "source": [
        "import matplotlib as mpl\n",
        "from matplotlib import pyplot as plt\n",
        "mpl.rcParams['figure.figsize'] = (12, 10)\n",
        "colors = plt.rcParams['axes.prop_cycle'].by_key()['color']\n",
        "\n",
        "def plot_metrics(history):\n",
        "  metrics =  ['auc', 'accuracy', 'precision', 'recall']\n",
        "  for n, metric in enumerate(metrics):\n",
        "    name = metric.replace(\"_\",\" \").capitalize()\n",
        "    plt.subplot(2,2,n+1)\n",
        "    plt.plot(history.epoch,  history.history[metric], color=colors[0], label='Train')\n",
        "    plt.plot(history.epoch, history.history['val_'+metric],\n",
        "             color=colors[0], linestyle=\"--\", label='Val')\n",
        "    plt.xlabel('Epoch')\n",
        "    plt.ylabel(name)\n",
        "    if metric == 'loss':\n",
        "      plt.ylim([0, plt.ylim()[1]])\n",
        "    elif metric == 'auc':\n",
        "      plt.ylim([0.8,1])\n",
        "    else:\n",
        "      plt.ylim([0,1])\n",
        "\n",
        "    plt.legend()"
      ],
      "execution_count": null,
      "outputs": []
    },
    {
      "cell_type": "code",
      "metadata": {
        "id": "6D6En82kvapk",
        "outputId": "a5ee6666-e7aa-424e-e856-e99433a831c2",
        "colab": {
          "base_uri": "https://localhost:8080/",
          "height": 610
        }
      },
      "source": [
        "plot_metrics(resampled_history)"
      ],
      "execution_count": null,
      "outputs": [
        {
          "output_type": "display_data",
          "data": {
            "image/png": "[encoded data removed]",
            "text/plain": [
              "<Figure size 864x720 with 4 Axes>"
            ]
          },
          "metadata": {
            "tags": []
          }
        }
      ]
    },
    {
      "cell_type": "markdown",
      "metadata": {
        "id": "fuei250KuVaA"
      },
      "source": [
        "## 5. Export the model"
      ]
    },
    {
      "cell_type": "code",
      "metadata": {
        "id": "JiBLxo1Kp9Qw",
        "outputId": "4a0d0ed7-9a1f-4a9e-ca86-04f290eb92ac",
        "colab": {
          "base_uri": "https://localhost:8080/"
        }
      },
      "source": [
        "# save tensorflow model\n",
        "!mkdir -p saved_model\n",
        "model1.save('saved_model/NN') "
      ],
      "execution_count": 67,
      "outputs": [
        {
          "output_type": "stream",
          "text": [
            "WARNING:tensorflow:From /usr/local/lib/python3.6/dist-packages/tensorflow/python/training/tracking/tracking.py:111: Model.state_updates (from tensorflow.python.keras.engine.training) is deprecated and will be removed in a future version.\n",
            "Instructions for updating:\n",
            "This property should not be used in TensorFlow 2.0, as updates are applied automatically.\n",
            "WARNING:tensorflow:From /usr/local/lib/python3.6/dist-packages/tensorflow/python/training/tracking/tracking.py:111: Layer.updates (from tensorflow.python.keras.engine.base_layer) is deprecated and will be removed in a future version.\n",
            "Instructions for updating:\n",
            "This property should not be used in TensorFlow 2.0, as updates are applied automatically.\n",
            "INFO:tensorflow:Assets written to: saved_model/NN/assets\n"
          ],
          "name": "stdout"
        }
      ]
    },
    {
      "cell_type": "code",
      "metadata": {
        "id": "vxOex4yqtTNU",
        "outputId": "6b64f137-1161-4c52-89fa-152165ae8e70",
        "colab": {
          "base_uri": "https://localhost:8080/"
        }
      },
      "source": [
        "t = time.time()\n",
        "export_path_keras = \"./{}.h5\".format(int(t))\n",
        "print(export_path_keras)\n",
        "model1.save(export_path_keras)"
      ],
      "execution_count": 68,
      "outputs": [
        {
          "output_type": "stream",
          "text": [
            "./1604422915.h5\n"
          ],
          "name": "stdout"
        }
      ]
    },
    {
      "cell_type": "markdown",
      "metadata": {
        "id": "zO1kNzQLwUVH"
      },
      "source": [
        "# **Part IV** Comparison\n",
        "\n",
        "The densely connected neural network is chosen from all the models we experimented for its running time and performance on accuracy and auc. The results and the links for other models we tried are shown below.\n",
        "\n",
        "| Model      | Accuracy |  AUC    | Link|\n",
        "| ----------- | ----------- | ------    |------|\n",
        "| Baseline Model (GBT)      | 0.71       |  0.79   | [GBT](https://github.com/TZstatsADS/Fall2020-Project3-group5/blob/master/doc/baseline_model_tuned.ipynb)|\n",
        "| XGBoost   | 0.73       |  0.83|[XGBoost](https://github.com/TZstatsADS/Fall2020-Project3-group5/blob/master/doc/XGBoost_tuned_2.ipynb)|\n",
        "| Random Forest | 0.79 | 0.80 |[Random Forest](https://github.com/TZstatsADS/Fall2020-Project3-group5/blob/master/doc/random_forest.ipynb) |\n",
        "| SVM |0.72 |0.82| [SVM](https://github.com/TZstatsADS/Fall2020-Project3-group5/blob/master/doc/SVM.ipynb)|\n",
        "|Neural Networks|0.76 | 0.85| [NN](https://github.com/TZstatsADS/Fall2020-Project3-group5/blob/master/doc/Neural_Network_train.ipynb)|\n",
        "|CNN| 0.52 | 0.51 | [CNN](https://github.com/TZstatsADS/Fall2020-Project3-group5/blob/master/doc/CNN.ipynb)|"
      ]
    }
  ]
}