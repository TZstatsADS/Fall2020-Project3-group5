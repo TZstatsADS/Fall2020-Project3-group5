{
 "cells": [
  {
   "cell_type": "markdown",
   "metadata": {},
   "source": [
    "# Random Forest Model"
   ]
  },
  {
   "cell_type": "code",
   "execution_count": 1,
   "metadata": {},
   "outputs": [],
   "source": [
    "import numpy as np\n",
    "import pandas as pd\n",
    "import time\n",
    "from sklearn.model_selection import train_test_split\n",
    "from sklearn.ensemble import RandomForestClassifier\n",
    "from sklearn import metrics"
   ]
  },
  {
   "cell_type": "code",
   "execution_count": 2,
   "metadata": {},
   "outputs": [
    {
     "name": "stderr",
     "output_type": "stream",
     "text": [
      "C:\\Users\\Yotam\\Anaconda3\\lib\\site-packages\\IPython\\core\\interactiveshell.py:3337: FutureWarning: arrays to stack must be passed as a \"sequence\" type such as list or tuple. Support for non-sequence iterables such as generators is deprecated as of NumPy 1.16 and will raise an error in the future.\n",
      "  if (await self.run_code(code, result,  async_=asy)):\n",
      "C:\\Users\\Yotam\\Anaconda3\\lib\\site-packages\\IPython\\core\\interactiveshell.py:3337: FutureWarning: arrays to stack must be passed as a \"sequence\" type such as list or tuple. Support for non-sequence iterables such as generators is deprecated as of NumPy 1.16 and will raise an error in the future.\n",
      "  if (await self.run_code(code, result,  async_=asy)):\n"
     ]
    }
   ],
   "source": [
    "start_time = time.time()\n",
    "\n",
    "# loading data and features:\n",
    "\n",
    "fiducial_pt_full = pd.read_pickle('../output/fiducial_pt_full.pkl')\n",
    "label_full = pd.read_pickle('../output/label_full.pkl')\n",
    "\n",
    "# Randomly splitting data into training & test sets:\n",
    "\n",
    "x_train, x_test, train_labels, test_labels = train_test_split(fiducial_pt_full, \n",
    "                                                          label_full, \n",
    "                                                          test_size=0.2, \n",
    "                                                          random_state=42)\n",
    "\n",
    "# Using pairwise distance as feature.\n",
    "# extracting pairwise distance as features (78*77/2=3303 features)\n",
    "# nrow=number of records of the dataset; ncol=3303\n",
    "\n",
    "feature_train = np.stack((metrics.pairwise_distances(x_train[i])[np.triu_indices(78, k = 1)] for i in range(x_train.shape[0])))\n",
    "feature_test = np.stack((metrics.pairwise_distances(x_test[i])[np.triu_indices(78, k = 1)] for i in range(x_test.shape[0])))\n"
   ]
  },
  {
   "cell_type": "code",
   "execution_count": 3,
   "metadata": {},
   "outputs": [
    {
     "data": {
      "text/plain": [
       "RandomForestClassifier(max_features='sqrt')"
      ]
     },
     "execution_count": 3,
     "metadata": {},
     "output_type": "execute_result"
    }
   ],
   "source": [
    "model = RandomForestClassifier(n_estimators=100, \n",
    "                               bootstrap = True,\n",
    "                               max_features = 'sqrt')\n",
    "# Fit on training data\n",
    "model.fit(feature_train, train_labels)"
   ]
  },
  {
   "cell_type": "code",
   "execution_count": 4,
   "metadata": {},
   "outputs": [],
   "source": [
    "# Make probability predictions\n",
    "train_probs = model.predict_proba(feature_train)[:, 1]\n",
    "probs = model.predict_proba(feature_test)[:, 1]\n",
    "\n",
    "train_predictions = model.predict(feature_train)\n",
    "predictions = model.predict(feature_test)"
   ]
  },
  {
   "cell_type": "code",
   "execution_count": 5,
   "metadata": {},
   "outputs": [
    {
     "name": "stdout",
     "output_type": "stream",
     "text": [
      "Train ROC AUC Score: 1.0\n",
      "Test ROC AUC  Score: 0.8036096068914933\n"
     ]
    }
   ],
   "source": [
    "print(f'Train ROC AUC Score: {metrics.roc_auc_score(train_labels, train_probs)}')\n",
    "print(f'Test ROC AUC  Score: {metrics.roc_auc_score(test_labels, probs)}')"
   ]
  },
  {
   "cell_type": "code",
   "execution_count": 6,
   "metadata": {},
   "outputs": [
    {
     "name": "stdout",
     "output_type": "stream",
     "text": [
      "Run time is 12.24 s\n"
     ]
    }
   ],
   "source": [
    "end_time = time.time()\n",
    "print('Run time is {:.2f} s'.format(end_time - start_time))"
   ]
  }
 ],
 "metadata": {
  "kernelspec": {
   "display_name": "Python 3",
   "language": "python",
   "name": "python3"
  },
  "language_info": {
   "codemirror_mode": {
    "name": "ipython",
    "version": 3
   },
   "file_extension": ".py",
   "mimetype": "text/x-python",
   "name": "python",
   "nbconvert_exporter": "python",
   "pygments_lexer": "ipython3",
   "version": "3.7.4"
  }
 },
 "nbformat": 4,
 "nbformat_minor": 4
}
