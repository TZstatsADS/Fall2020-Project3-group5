{
 "cells": [
  {
   "cell_type": "markdown",
   "metadata": {},
   "source": [
    "## Simple LDA"
   ]
  },
  {
   "cell_type": "code",
   "execution_count": 16,
   "metadata": {},
   "outputs": [],
   "source": [
    "import numpy as np\n",
    "import pandas as pd\n",
    "import time\n",
    "from sklearn.datasets import make_classification\n",
    "from sklearn.discriminant_analysis import LinearDiscriminantAnalysis\n",
    "from sklearn.model_selection import train_test_split\n",
    "from sklearn import metrics\n"
   ]
  },
  {
   "cell_type": "code",
   "execution_count": 17,
   "metadata": {},
   "outputs": [],
   "source": [
    "# load data from pickle oject\n",
    "fiducial_pt_full =pd.read_pickle('fiducial_pt_full.pkl')\n",
    "label_full = pd.read_pickle('label_full.pkl')\n",
    "\n",
    "## Split into training & test set\n",
    "X_train, X_test, y_train, y_test = train_test_split(fiducial_pt_full, label_full, test_size=0.2, random_state=42)"
   ]
  },
  {
   "cell_type": "code",
   "execution_count": 18,
   "metadata": {},
   "outputs": [
    {
     "name": "stderr",
     "output_type": "stream",
     "text": [
      "/Users/XiangningHan/env_tools/lib/python3.7/site-packages/IPython/core/interactiveshell.py:3249: FutureWarning: arrays to stack must be passed as a \"sequence\" type such as list or tuple. Support for non-sequence iterables such as generators is deprecated as of NumPy 1.16 and will raise an error in the future.\n",
      "  if (await self.run_code(code, result,  async_=asy)):\n"
     ]
    },
    {
     "name": "stdout",
     "output_type": "stream",
     "text": [
      "Training feature extraction takes 1.199 seconds.\n"
     ]
    },
    {
     "name": "stderr",
     "output_type": "stream",
     "text": [
      "/Users/XiangningHan/env_tools/lib/python3.7/site-packages/IPython/core/interactiveshell.py:3249: FutureWarning: arrays to stack must be passed as a \"sequence\" type such as list or tuple. Support for non-sequence iterables such as generators is deprecated as of NumPy 1.16 and will raise an error in the future.\n",
      "  if (await self.run_code(code, result,  async_=asy)):\n"
     ]
    },
    {
     "name": "stdout",
     "output_type": "stream",
     "text": [
      "Test feature extraction takes 0.355 seconds.\n"
     ]
    }
   ],
   "source": [
    "# pairwise distance calculation (can replace it with other feature engineering procedure)\n",
    "\n",
    "# extract pairwise distance as features (78*77/2=3003 features)\n",
    "# nrow=number of records of the dataset; ncol=3003\n",
    "start_time = time.time()\n",
    "feature_train = np.stack((metrics.pairwise_distances(X_train[i])[np.triu_indices(78, k = 1)] for i in range(X_train.shape[0])))\n",
    "print('Training feature extraction takes %s seconds.'%round((time.time()-start_time),3))\n",
    "\n",
    "start_time = time.time()\n",
    "feature_test = np.stack((metrics.pairwise_distances(X_test[i])[np.triu_indices(78, k = 1)] for i in range(X_test.shape[0])))\n",
    "print('Test feature extraction takes %s seconds.'%round((time.time()-start_time),3))"
   ]
  },
  {
   "cell_type": "code",
   "execution_count": 12,
   "metadata": {},
   "outputs": [],
   "source": [
    "#balance test set\n",
    "emotion_1 = y_test[y_test == 1]\n",
    "emotion_0 = y_test[y_test== 0]\n",
    "feature_1 = feature_test[y_test==1]\n",
    "feature_0 = feature_test[y_test==0]\n",
    "bal_feature = np.concatenate((feature_1[0:130],feature_0[0:130]),axis=0)\n",
    "bal_y = np.concatenate((emotion_1[0:130],emotion_0[0:130]),axis=0)"
   ]
  },
  {
   "cell_type": "markdown",
   "metadata": {},
   "source": [
    "## Train LDA model"
   ]
  },
  {
   "cell_type": "code",
   "execution_count": 13,
   "metadata": {},
   "outputs": [
    {
     "name": "stdout",
     "output_type": "stream",
     "text": [
      "Training time cost 20.34 s\n"
     ]
    }
   ],
   "source": [
    "start=time.time()\n",
    "clf_lda = LinearDiscriminantAnalysis()\n",
    "model_lda=clf_lda.fit(feature_train, y_train)\n",
    "print('Training time cost {:.2f} s'.format(time.time()-start))"
   ]
  },
  {
   "cell_type": "code",
   "execution_count": 30,
   "metadata": {
    "scrolled": true
   },
   "outputs": [
    {
     "name": "stdout",
     "output_type": "stream",
     "text": [
      "accuracy 0.581667\n",
      "Test ROC AUC  Score: 0.5446870269511073\n",
      "Testing time cost 0.14 s\n"
     ]
    }
   ],
   "source": [
    "start=time.time()\n",
    "print('accuracy', model_lda.score(feature_test,y_test).round(6))\n",
    "prob_test = model_lda.predict_proba(feature_test)\n",
    "print(f'Test ROC AUC  Score: {metrics.roc_auc_score(y_test, prob_test[:,1])}')\n",
    "print('Testing time cost {:.2f} s'.format(time.time()-start))"
   ]
  },
  {
   "cell_type": "markdown",
   "metadata": {},
   "source": [
    "Weighted accuracy"
   ]
  },
  {
   "cell_type": "code",
   "execution_count": 27,
   "metadata": {
    "scrolled": false
   },
   "outputs": [
    {
     "name": "stdout",
     "output_type": "stream",
     "text": [
      "weighted accuracy 0.526763838386991\n"
     ]
    }
   ],
   "source": [
    "weight_data = np.zeros(len(y_test))\n",
    "y_pred=model_lda.predict(feature_test)\n",
    "for v in np.unique(y_test):\n",
    "    weight_data[y_test==v] = 0.5*len(y_test)/np.sum(y_test==v)\n",
    "weighted_acc = np.sum(weight_data * (y_pred==y_test)/np.sum(weight_data))\n",
    "print('weighted accuracy',weighted_acc)"
   ]
  },
  {
   "cell_type": "markdown",
   "metadata": {},
   "source": [
    "##balanced test"
   ]
  },
  {
   "cell_type": "code",
   "execution_count": 33,
   "metadata": {},
   "outputs": [
    {
     "name": "stdout",
     "output_type": "stream",
     "text": [
      "accuracy 0.665385\n",
      "Test ROC AUC  Score: 0.6884023668639054\n"
     ]
    }
   ],
   "source": [
    "print('accuracy', model_lda.score(bal_feature,bal_y).round(6))\n",
    "prob_test = model_lda.predict_proba(bal_feature)\n",
    "print(f'Test ROC AUC  Score: {metrics.roc_auc_score(bal_y, prob_test[:,1])}')"
   ]
  },
  {
   "cell_type": "code",
   "execution_count": 49,
   "metadata": {},
   "outputs": [
    {
     "name": "stdout",
     "output_type": "stream",
     "text": [
      "Training time cost 23.01 s\n"
     ]
    }
   ],
   "source": [
    "#lda with shrinkage\n",
    "start=time.time()\n",
    "clf1 = LinearDiscriminantAnalysis(solver='lsqr', shrinkage='auto').fit(feature_train, y_train)\n",
    "print('Training time cost {:.2f} s'.format(time.time()-start))"
   ]
  },
  {
   "cell_type": "code",
   "execution_count": 50,
   "metadata": {},
   "outputs": [
    {
     "name": "stdout",
     "output_type": "stream",
     "text": [
      "accuracy 0.83\n",
      "pred prob\n",
      " [[0.9881618  0.0118382 ]\n",
      " [0.9986068  0.0013932 ]\n",
      " [0.99878647 0.00121353]\n",
      " ...\n",
      " [0.98432139 0.01567861]\n",
      " [0.98704607 0.01295393]\n",
      " [0.93085743 0.06914257]]\n"
     ]
    }
   ],
   "source": [
    "print('accuracy', clf1.score(feature_test,y_test).round(6))\n",
    "prob_test = clf1.predict_proba(feature_test)\n",
    "print(f'Test ROC AUC  Score: {metrics.roc_auc_score(y_test, prob_test[:,1])}')"
   ]
  },
  {
   "cell_type": "markdown",
   "metadata": {},
   "source": [
    "## PCA with LDA"
   ]
  },
  {
   "cell_type": "code",
   "execution_count": 168,
   "metadata": {},
   "outputs": [
    {
     "data": {
      "text/plain": [
       "34"
      ]
     },
     "execution_count": 168,
     "metadata": {},
     "output_type": "execute_result"
    }
   ],
   "source": [
    "##choose main component\n",
    "def zeroMean(dataMat):      \n",
    "    meanVal=np.mean(dataMat,axis=0)\n",
    "    newData=dataMat-meanVal\n",
    "    return newData,meanVal\n",
    "def pca(dataMat,n):\n",
    "    newData,meanVal=zeroMean(dataMat)\n",
    "    covMat=np.cov(newData,rowvar=0)\n",
    "    \n",
    "    eigVals,eigVects=np.linalg.eig(np.mat(covMat))\n",
    "    eigValIndice=np.argsort(eigVals)          \n",
    "    n_eigValIndice=eigValIndice[-1:-(n+1):-1]   \n",
    "    n_eigVect=eigVects[:,n_eigValIndice]        \n",
    "    lowDDataMat=newData*n_eigVect               \n",
    "    reconMat=(lowDDataMat*n_eigVect.T)+meanVal  \n",
    "    return lowDDataMat,reconMat,eigVals\n",
    "def percentage2n(eigVals,percentage):\n",
    "    sortArray=np.sort(eigVals)  \n",
    "    sortArray=sortArray[-1::-1]  \n",
    "    arraySum=sum(sortArray)\n",
    "    tmpSum=0\n",
    "    num=0\n",
    "    for i in sortArray:\n",
    "        tmpSum+=i\n",
    "        num+=1\n",
    "        if tmpSum>=arraySum*percentage:\n",
    "            return num\n",
    "main_component=percentage2n(pca(feature_train,3003)[2],0.96)"
   ]
  },
  {
   "cell_type": "markdown",
   "metadata": {},
   "source": [
    "## Use explained variance to chose main component"
   ]
  },
  {
   "cell_type": "code",
   "execution_count": 19,
   "metadata": {},
   "outputs": [
    {
     "data": {
      "text/plain": [
       "Text(0, 0.5, 'cumulative explained variance')"
      ]
     },
     "execution_count": 19,
     "metadata": {},
     "output_type": "execute_result"
    },
    {
     "data": {
      "image/png": "[encoded data removed]",
      "text/plain": [
       "<Figure size 432x288 with 1 Axes>"
      ]
     },
     "metadata": {
      "needs_background": "light"
     },
     "output_type": "display_data"
    }
   ],
   "source": [
    "from sklearn.preprocessing import StandardScaler\n",
    "\n",
    "sc = StandardScaler()\n",
    "feature_train = sc.fit_transform(feature_train)\n",
    "feature_test = sc.transform(feature_test)\n",
    "\n",
    "from sklearn.decomposition import PCA\n",
    "clf_pca=PCA()\n",
    "x_train=clf_pca.fit(feature_train).transform(feature_train)\n",
    "x_test=clf_pca.fit(feature_test).transform(feature_test)\n",
    "\n",
    "import matplotlib.pyplot as plt\n",
    "plt.plot(np.cumsum(clf_pca.explained_variance_ratio_))\n",
    "plt.xlim((1,40))\n",
    "plt.xlabel('number of components')\n",
    "plt.ylabel('cumulative explained variance')"
   ]
  },
  {
   "cell_type": "code",
   "execution_count": 20,
   "metadata": {},
   "outputs": [],
   "source": [
    "from sklearn.decomposition import PCA\n",
    "n_components=main_component\n",
    "pca = PCA(n_components=n_components).fit(feature_train)\n",
    "X_train_pca = pca.transform(feature_train)\n",
    "X_test_pca = pca.transform(feature_test)\n"
   ]
  },
  {
   "cell_type": "markdown",
   "metadata": {},
   "source": [
    "## Applied LDA"
   ]
  },
  {
   "cell_type": "code",
   "execution_count": 21,
   "metadata": {},
   "outputs": [
    {
     "name": "stdout",
     "output_type": "stream",
     "text": [
      "Training time cost 0.02 s\n"
     ]
    }
   ],
   "source": [
    "start=time.time()\n",
    "clf_pca_lda = LinearDiscriminantAnalysis()\n",
    "clf_pca_lda.fit(X_train_pca, y_train)\n",
    "print('Training time cost {:.2f} s'.format(time.time()-start))"
   ]
  },
  {
   "cell_type": "code",
   "execution_count": 31,
   "metadata": {},
   "outputs": [
    {
     "name": "stdout",
     "output_type": "stream",
     "text": [
      "accuracy 0.8\n",
      "Test ROC AUC  Score: 0.715819535261162\n",
      "Testing time cost 0.02 s\n"
     ]
    }
   ],
   "source": [
    "start=time.time()\n",
    "prob_test=clf_pca_lda.predict_proba(X_test_pca)\n",
    "print('accuracy',clf_pca_lda.score(X_test_pca,y_test).round(6))\n",
    "print(f'Test ROC AUC  Score: {metrics.roc_auc_score(y_test, prob_test[:,1])}')\n",
    "print('Testing time cost {:.2f} s'.format(time.time()-start))"
   ]
  },
  {
   "cell_type": "code",
   "execution_count": 28,
   "metadata": {},
   "outputs": [
    {
     "name": "stdout",
     "output_type": "stream",
     "text": [
      "weighted accuracy 0.5909580361740976\n"
     ]
    }
   ],
   "source": [
    "weight_data = np.zeros(len(y_test))\n",
    "y_pred_pca=clf_pca_lda.predict(X_test_pca)\n",
    "for v in np.unique(y_test):\n",
    "    weight_data[y_test==v] = 0.5*len(y_test)/np.sum(y_test==v)\n",
    "weighted_acc = np.sum(weight_data * (y_pred_pca==y_test)/np.sum(weight_data))\n",
    "print('weighted accuracy',weighted_acc)"
   ]
  }
 ],
 "metadata": {
  "kernelspec": {
   "display_name": "Python 3",
   "language": "python",
   "name": "python3"
  },
  "language_info": {
   "codemirror_mode": {
    "name": "ipython",
    "version": 3
   },
   "file_extension": ".py",
   "mimetype": "text/x-python",
   "name": "python",
   "nbconvert_exporter": "python",
   "pygments_lexer": "ipython3",
   "version": "3.7.0"
  }
 },
 "nbformat": 4,
 "nbformat_minor": 2
}
