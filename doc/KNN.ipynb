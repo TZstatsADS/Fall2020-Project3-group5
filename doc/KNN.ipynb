{
 "cells": [
  {
   "cell_type": "code",
   "execution_count": 1,
   "metadata": {},
   "outputs": [],
   "source": [
    "import numpy as np\n",
    "import pandas as pd\n",
    "import time\n",
    "from matplotlib import pyplot as plt\n",
    "from sklearn.model_selection import train_test_split\n",
    "from sklearn import metrics\n",
    "from sklearn.neighbors import KNeighborsClassifier"
   ]
  },
  {
   "cell_type": "code",
   "execution_count": 12,
   "metadata": {},
   "outputs": [],
   "source": [
    "# load data from pickle oject\n",
    "fiducial_pt_full =pd.read_pickle('fiducial_pt_full.pkl')\n",
    "label_full= pd.read_pickle('label_full.pkl')\n",
    "\n",
    "## Split into training & test set\n",
    "X_train, X_test, y_train, y_test = train_test_split(fiducial_pt_full, label_full, test_size=0.2, random_state=42)"
   ]
  },
  {
   "cell_type": "code",
   "execution_count": 13,
   "metadata": {},
   "outputs": [
    {
     "name": "stderr",
     "output_type": "stream",
     "text": [
      "/Users/XiangningHan/env_tools/lib/python3.7/site-packages/IPython/core/interactiveshell.py:3249: FutureWarning: arrays to stack must be passed as a \"sequence\" type such as list or tuple. Support for non-sequence iterables such as generators is deprecated as of NumPy 1.16 and will raise an error in the future.\n",
      "  if (await self.run_code(code, result,  async_=asy)):\n"
     ]
    },
    {
     "name": "stdout",
     "output_type": "stream",
     "text": [
      "Training feature extraction takes 1.31 seconds.\n"
     ]
    },
    {
     "name": "stderr",
     "output_type": "stream",
     "text": [
      "/Users/XiangningHan/env_tools/lib/python3.7/site-packages/IPython/core/interactiveshell.py:3249: FutureWarning: arrays to stack must be passed as a \"sequence\" type such as list or tuple. Support for non-sequence iterables such as generators is deprecated as of NumPy 1.16 and will raise an error in the future.\n",
      "  if (await self.run_code(code, result,  async_=asy)):\n"
     ]
    },
    {
     "name": "stdout",
     "output_type": "stream",
     "text": [
      "Test feature extraction takes 0.401 seconds.\n"
     ]
    }
   ],
   "source": [
    "# pairwise distance calculation (can replace it with other feature engineering procedure)\n",
    "\n",
    "# extract pairwise distance as features (78*77/2=3003 features)\n",
    "# nrow=number of records of the dataset; ncol=3003\n",
    "start_time = time.time()\n",
    "feature_train = np.stack((metrics.pairwise_distances(X_train[i])[np.triu_indices(78, k = 1)] for i in range(X_train.shape[0])))\n",
    "print('Training feature extraction takes %s seconds.'%round((time.time()-start_time),3))\n",
    "\n",
    "start_time = time.time()\n",
    "feature_test = np.stack((metrics.pairwise_distances(X_test[i])[np.triu_indices(78, k = 1)] for i in range(X_test.shape[0])))\n",
    "print('Test feature extraction takes %s seconds.'%round((time.time()-start_time),3))"
   ]
  },
  {
   "cell_type": "code",
   "execution_count": 14,
   "metadata": {},
   "outputs": [],
   "source": [
    "#balance test set\n",
    "emotion_1 = y_test[y_test == 1]\n",
    "emotion_0 = y_test[y_test== 0]\n",
    "feature_1 = feature_test[y_test==1]\n",
    "feature_0 = feature_test[y_test==0]\n",
    "bal_feature = np.concatenate((feature_1[0:130],feature_0[0:130]),axis=0)\n",
    "bal_y = np.concatenate((emotion_1[0:130],emotion_0[0:130]),axis=0)\n"
   ]
  },
  {
   "cell_type": "markdown",
   "metadata": {},
   "source": [
    "## Train Model using k-neighbors=3"
   ]
  },
  {
   "cell_type": "code",
   "execution_count": 15,
   "metadata": {},
   "outputs": [
    {
     "name": "stdout",
     "output_type": "stream",
     "text": [
      "Training time cost 12.64 s\n"
     ]
    }
   ],
   "source": [
    "from sklearn.neighbors import KNeighborsClassifier\n",
    "from sklearn.preprocessing import StandardScaler\n",
    "#Standardize\n",
    "standard_fit = StandardScaler().fit(feature_train)\n",
    "feature_train_knn_norm = standard_fit.transform(feature_train)\n",
    "feature_test_knn_norm=standard_fit.transform(feature_test)\n",
    "start=time.time()\n",
    "clf_knn = KNeighborsClassifier(n_neighbors = 3)\n",
    "model_k_3=clf_knn.fit(feature_train_knn_norm,y_train)\n",
    "prob_train = clf_knn.predict_proba(feature_test_knn_norm)\n",
    "print('Training time cost {:.2f} s'.format(time.time()-start))"
   ]
  },
  {
   "cell_type": "code",
   "execution_count": 16,
   "metadata": {},
   "outputs": [
    {
     "name": "stdout",
     "output_type": "stream",
     "text": [
      "accuracy 0.768333\n",
      "Test ROC AUC  Score: 0.5\n"
     ]
    }
   ],
   "source": [
    "print('accuracy', model_k_3.score(feature_test,y_test).round(6))\n",
    "prob_test = model_k_3.predict_proba(feature_test)\n",
    "print(f'Test ROC AUC  Score: {metrics.roc_auc_score(y_test, prob_test[:,1])}')\n",
    "#print('pred prob\\n', prob_test)"
   ]
  },
  {
   "cell_type": "markdown",
   "metadata": {},
   "source": [
    "## Choose the best K-Neighbors  by using 5-fold cross validation"
   ]
  },
  {
   "cell_type": "code",
   "execution_count": 17,
   "metadata": {},
   "outputs": [
    {
     "name": "stdout",
     "output_type": "stream",
     "text": [
      "[0.8012499999999999, 0.8104166666666666, 0.8025, 0.8129166666666666, 0.8091666666666667, 0.8125, 0.8133333333333332, 0.8154166666666667, 0.8145833333333332, 0.8125, 0.8120833333333334, 0.8133333333333335]\n",
      "Training time cost 626.21 s\n"
     ]
    },
    {
     "data": {
      "text/plain": [
       "Text(0, 0.5, 'Cross validated accuracy')"
      ]
     },
     "execution_count": 17,
     "metadata": {},
     "output_type": "execute_result"
    },
    {
     "data": {
      "image/png": "[encoded data removed]",
      "text/plain": [
       "<Figure size 432x288 with 1 Axes>"
      ]
     },
     "metadata": {
      "needs_background": "light"
     },
     "output_type": "display_data"
    }
   ],
   "source": [
    "from sklearn.model_selection import KFold\n",
    "from sklearn.preprocessing import StandardScaler\n",
    "from sklearn.model_selection import cross_val_score\n",
    "start=time.time()\n",
    "cv_splitter = KFold(n_splits = 5, shuffle = True, random_state = 1)\n",
    "knn_scores = []\n",
    "k_range=range(3,15)\n",
    "for i in k_range:\n",
    "    clf = KNeighborsClassifier(n_neighbors= i)\n",
    "    cv_scores = cross_val_score(clf,feature_train_knn_norm, y_train, cv =cv_splitter, scoring = 'accuracy')\n",
    "    knn_scores.append(cv_scores.mean())\n",
    "print(f'{knn_scores}')\n",
    "print('Training time cost {:.2f} s'.format(time.time()-start))\n",
    "plt.plot(k_range, knn_scores)\n",
    "plt.xlabel(\"Value of K for KNN\")\n",
    "plt.ylabel(\"Cross validated accuracy\")"
   ]
  },
  {
   "cell_type": "markdown",
   "metadata": {},
   "source": [
    "The k-neighbors cannot be too small or too big, so we choose the k-range from (3,15) to choose best k-neighbor where the knn_score is maximum."
   ]
  },
  {
   "cell_type": "code",
   "execution_count": 18,
   "metadata": {},
   "outputs": [],
   "source": [
    "best_k=k_range[knn_scores.index(max(knn_scores))]"
   ]
  },
  {
   "cell_type": "code",
   "execution_count": 19,
   "metadata": {},
   "outputs": [
    {
     "name": "stdout",
     "output_type": "stream",
     "text": [
      "Training time cost 59.26 s\n"
     ]
    }
   ],
   "source": [
    "#best model\n",
    "from sklearn.neighbors import KNeighborsClassifier\n",
    "start=time.time()\n",
    "best_k=k_range[knn_scores.index(max(knn_scores))]\n",
    "clf_knn = KNeighborsClassifier(n_neighbors = best_k)\n",
    "model=clf_knn.fit(feature_train_knn_norm,y_train)\n",
    "prob_train = clf_knn.predict_proba(feature_train_knn_norm)\n",
    "print('Training time cost {:.2f} s'.format(time.time()-start))"
   ]
  },
  {
   "cell_type": "code",
   "execution_count": 20,
   "metadata": {},
   "outputs": [
    {
     "name": "stdout",
     "output_type": "stream",
     "text": [
      "accuracy 0.768333\n",
      "Test ROC AUC  Score: 0.5115872594765837\n",
      "Testing time cost 20.88 s\n"
     ]
    }
   ],
   "source": [
    "start=time.time()\n",
    "print('accuracy', model.score(feature_test,y_test).round(6))\n",
    "prob_test = model.predict_proba(feature_test)\n",
    "print(f'Test ROC AUC  Score: {metrics.roc_auc_score(y_test, prob_test[:,1])}')\n",
    "print('Testing time cost {:.2f} s'.format(time.time()-start))\n",
    "#print('pred prob\\n', prob_test)"
   ]
  },
  {
   "cell_type": "markdown",
   "metadata": {},
   "source": [
    "## weighted accuracy"
   ]
  },
  {
   "cell_type": "code",
   "execution_count": 21,
   "metadata": {},
   "outputs": [
    {
     "name": "stdout",
     "output_type": "stream",
     "text": [
      "weighted accuracy 0.5\n"
     ]
    }
   ],
   "source": [
    "weight_data = np.zeros(len(y_test))\n",
    "y_pred=model.predict(feature_test)\n",
    "for v in np.unique(y_test):\n",
    "    weight_data[y_test==v] = 0.5*len(y_test)/np.sum(y_test==v)\n",
    "weighted_acc = np.sum(weight_data * (y_pred==y_test)/np.sum(weight_data))\n",
    "print('weighted accuracy',weighted_acc)"
   ]
  },
  {
   "cell_type": "markdown",
   "metadata": {},
   "source": [
    "## Balanced test "
   ]
  },
  {
   "cell_type": "code",
   "execution_count": 22,
   "metadata": {},
   "outputs": [
    {
     "name": "stdout",
     "output_type": "stream",
     "text": [
      "accuracy 0.5\n",
      "Test ROC AUC  Score: 0.5115384615384615\n"
     ]
    }
   ],
   "source": [
    "print('accuracy', model.score(bal_feature,bal_y).round(6))\n",
    "prob_test = model.predict_proba(bal_feature)\n",
    "print(f'Test ROC AUC  Score: {metrics.roc_auc_score(bal_y, prob_test[:,1])}')\n",
    "#print('pred prob\\n', prob_test)"
   ]
  }
 ],
 "metadata": {
  "kernelspec": {
   "display_name": "Python 3",
   "language": "python",
   "name": "python3"
  },
  "language_info": {
   "codemirror_mode": {
    "name": "ipython",
    "version": 3
   },
   "file_extension": ".py",
   "mimetype": "text/x-python",
   "name": "python",
   "nbconvert_exporter": "python",
   "pygments_lexer": "ipython3",
   "version": "3.7.0"
  }
 },
 "nbformat": 4,
 "nbformat_minor": 2
}
